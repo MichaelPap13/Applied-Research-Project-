{
 "cells": [
  {
   "cell_type": "markdown",
   "metadata": {},
   "source": [
    "# **Comparative Sentiment Analysis of Earnings Calls: FinBERT, ChatGPT-3.5, ChatGPT-4, and Gemini**\n"
   ]
  },
  {
   "cell_type": "code",
   "execution_count": 106,
   "metadata": {},
   "outputs": [],
   "source": [
    "#uncomment to install if needed\n",
    "#pip install PyMuPDF openai pandas matplotlib nltk  transformers torch"
   ]
  },
  {
   "cell_type": "code",
   "execution_count": 107,
   "metadata": {},
   "outputs": [
    {
     "name": "stderr",
     "output_type": "stream",
     "text": [
      "[nltk_data] Downloading package punkt to\n",
      "[nltk_data]     C:\\Users\\mikep\\AppData\\Roaming\\nltk_data...\n",
      "[nltk_data]   Package punkt is already up-to-date!\n",
      "[nltk_data] Downloading package stopwords to\n",
      "[nltk_data]     C:\\Users\\mikep\\AppData\\Roaming\\nltk_data...\n",
      "[nltk_data]   Package stopwords is already up-to-date!\n",
      "[nltk_data] Downloading package wordnet to\n",
      "[nltk_data]     C:\\Users\\mikep\\AppData\\Roaming\\nltk_data...\n",
      "[nltk_data]   Package wordnet is already up-to-date!\n"
     ]
    },
    {
     "data": {
      "text/plain": [
       "True"
      ]
     },
     "execution_count": 107,
     "metadata": {},
     "output_type": "execute_result"
    }
   ],
   "source": [
    "# Import necessary libraries\n",
    "import PyPDF2\n",
    "import re\n",
    "import openai\n",
    "import pandas as pd\n",
    "import matplotlib.pyplot as plt\n",
    "from sklearn.metrics import confusion_matrix, accuracy_score, classification_report\n",
    "import seaborn as sns\n",
    "from openpyxl import load_workbook\n",
    "from openpyxl.styles import PatternFill\n",
    "import string\n",
    "import json\n",
    "import time\n",
    "import torch\n",
    "import nltk\n",
    "from nltk.corpus import stopwords\n",
    "from nltk.tokenize import word_tokenize\n",
    "from nltk.stem import WordNetLemmatizer\n",
    "from transformers import BertTokenizer, BertForSequenceClassification, pipeline, BertTokenizerFast\n",
    "\n",
    "# Download necessary NLTK data\n",
    "nltk.download('punkt')\n",
    "nltk.download('stopwords')\n",
    "nltk.download('wordnet')"
   ]
  },
  {
   "cell_type": "code",
   "execution_count": null,
   "metadata": {},
   "outputs": [],
   "source": [
    "# API Key\n",
    "openai.api_key = #fill out with your own openAI API key"
   ]
  },
  {
   "cell_type": "markdown",
   "metadata": {},
   "source": [
    "## Data Preparation"
   ]
  },
  {
   "cell_type": "markdown",
   "metadata": {},
   "source": [
    "# Parsing Earnings Call PDFs: Sentence Splitting and Excel Export"
   ]
  },
  {
   "cell_type": "code",
   "execution_count": 109,
   "metadata": {},
   "outputs": [
    {
     "name": "stdout",
     "output_type": "stream",
     "text": [
      "Sentences have been saved to 1Q24 Earnings.xlsx\n",
      "Sentences have been saved to 2Q23 Earnings.xlsx\n",
      "Sentences have been saved to 3Q20 Earnings.xlsx\n"
     ]
    }
   ],
   "source": [
    "# Define the path to your PDF files and corresponding output Excel files\n",
    "files = [\n",
    "    {\"pdf\": \"1Q24 Earnings Call Transcript_Final.pdf\", \"output\": \"1Q24 Earnings.xlsx\", \"footer\": \"Excerpt from ExxonMobil 1Q24 Earnings Call\"},\n",
    "    {\"pdf\": \"2Q23 Earnings Call Transcript - Final.pdf\", \"output\": \"2Q23 Earnings.xlsx\", \"footer\": \"Excerpt from ExxonMobil 2Q23 Earnings Call\"},\n",
    "    {\"pdf\": \"3Q2020 Earnings Call Transcript - Final.pdf\", \"output\": \"3Q20 Earnings.xlsx\", \"footer\": \"Excerpt from ExxonMobil 3Q20 Earnings Call\"}\n",
    "]\n",
    "\n",
    "# Function to extract text from PDF\n",
    "def extract_text_from_pdf(pdf_path):\n",
    "    with open(pdf_path, 'rb') as file:\n",
    "        reader = PyPDF2.PdfReader(file)\n",
    "        pdf_text = \"\".join([page.extract_text() for page in reader.pages])\n",
    "    return pdf_text\n",
    "\n",
    "# Function to clean up and remove gaps between words\n",
    "def clean_text(text):\n",
    "    return re.sub(r'\\s+', ' ', text)\n",
    "\n",
    "# Function to remove footer\n",
    "def remove_footer(text, footer):\n",
    "    pattern = rf'{footer}\\s+(?:[1-9]|[12][0-9]|30)\\b'\n",
    "    return re.sub(pattern, '', text)\n",
    "\n",
    "# Function to split text into sentences\n",
    "def split_text_into_sentences(text):\n",
    "    sentence_endings = re.compile(r'(?<!\\w\\.\\w.)(?<![A-Z][a-z]\\.)(?<=\\.|\\?)\\s')\n",
    "    return sentence_endings.split(text)\n",
    "\n",
    "# Function to save sentences to Excel\n",
    "def save_sentences_to_excel(sentences, output_path):\n",
    "    df = pd.DataFrame(sentences, columns=[\"Sentence\"])\n",
    "    df.to_excel(output_path, index=False)\n",
    "\n",
    "# Main function\n",
    "def process_pdf(pdf_path, output_path, footer):\n",
    "    text = extract_text_from_pdf(pdf_path)\n",
    "    text_no_footer = remove_footer(text, footer)\n",
    "    cleaned_text = clean_text(text_no_footer)\n",
    "    sentences = split_text_into_sentences(cleaned_text)\n",
    "    save_sentences_to_excel(sentences, output_path)\n",
    "    print(f\"Sentences have been saved to {output_path}\")\n",
    "\n",
    "# Process each PDF file\n",
    "for file_info in files:\n",
    "    process_pdf(file_info[\"pdf\"], file_info[\"output\"], file_info[\"footer\"])"
   ]
  },
  {
   "cell_type": "markdown",
   "metadata": {},
   "source": [
    "## Text Preprocessing: Cleaning and Standardizing Earnings Call Sentences Across Quarters"
   ]
  },
  {
   "cell_type": "code",
   "execution_count": 110,
   "metadata": {},
   "outputs": [],
   "source": [
    "def preprocess_text(text):\n",
    "  # Remove special characters and punctuation\n",
    "  text = re.sub(r\"[^\\w\\s]\", \" \", text)\n",
    "\n",
    "  # Remove single characters\n",
    "  text = re.sub(r\"\\b[a-zA-Z]\\b\", \" \", text)\n",
    "\n",
    "  # Lowercase the text\n",
    "  text = text.lower()\n",
    "\n",
    "  # Remove extra whitespace\n",
    "  text = re.sub(r\"\\s+\", \" \", text)\n",
    "\n",
    "  # Trim leading and trailing spaces\n",
    "  text = text.strip()\n",
    "\n",
    "  return text"
   ]
  },
  {
   "cell_type": "code",
   "execution_count": 111,
   "metadata": {},
   "outputs": [
    {
     "data": {
      "text/html": [
       "<div>\n",
       "<style scoped>\n",
       "    .dataframe tbody tr th:only-of-type {\n",
       "        vertical-align: middle;\n",
       "    }\n",
       "\n",
       "    .dataframe tbody tr th {\n",
       "        vertical-align: top;\n",
       "    }\n",
       "\n",
       "    .dataframe thead th {\n",
       "        text-align: right;\n",
       "    }\n",
       "</style>\n",
       "<table border=\"1\" class=\"dataframe\">\n",
       "  <thead>\n",
       "    <tr style=\"text-align: right;\">\n",
       "      <th></th>\n",
       "      <th>Sentence</th>\n",
       "    </tr>\n",
       "  </thead>\n",
       "  <tbody>\n",
       "    <tr>\n",
       "      <th>0</th>\n",
       "      <td>exxon mobil corporation nyse xom q3 2020 earni...</td>\n",
       "    </tr>\n",
       "    <tr>\n",
       "      <th>1</th>\n",
       "      <td>today call is being recorded</td>\n",
       "    </tr>\n",
       "    <tr>\n",
       "      <th>2</th>\n",
       "      <td>at this time like to turn the call over to the...</td>\n",
       "    </tr>\n",
       "    <tr>\n",
       "      <th>3</th>\n",
       "      <td>please go ahead sir</td>\n",
       "    </tr>\n",
       "    <tr>\n",
       "      <th>4</th>\n",
       "      <td>stephen littleton thank you</td>\n",
       "    </tr>\n",
       "    <tr>\n",
       "      <th>5</th>\n",
       "      <td>good morning everyone</td>\n",
       "    </tr>\n",
       "    <tr>\n",
       "      <th>6</th>\n",
       "      <td>welcome to our third quarter earnings call</td>\n",
       "    </tr>\n",
       "    <tr>\n",
       "      <th>7</th>\n",
       "      <td>we appreciate your participation and continued...</td>\n",
       "    </tr>\n",
       "    <tr>\n",
       "      <th>8</th>\n",
       "      <td>am stephen littleton vice president of investo...</td>\n",
       "    </tr>\n",
       "    <tr>\n",
       "      <th>9</th>\n",
       "      <td>before getting started wanted to say that hope...</td>\n",
       "    </tr>\n",
       "  </tbody>\n",
       "</table>\n",
       "</div>"
      ],
      "text/plain": [
       "                                            Sentence\n",
       "0  exxon mobil corporation nyse xom q3 2020 earni...\n",
       "1                       today call is being recorded\n",
       "2  at this time like to turn the call over to the...\n",
       "3                                please go ahead sir\n",
       "4                        stephen littleton thank you\n",
       "5                              good morning everyone\n",
       "6         welcome to our third quarter earnings call\n",
       "7  we appreciate your participation and continued...\n",
       "8  am stephen littleton vice president of investo...\n",
       "9  before getting started wanted to say that hope..."
      ]
     },
     "execution_count": 111,
     "metadata": {},
     "output_type": "execute_result"
    }
   ],
   "source": [
    "data20=pd.read_excel('3Q20 Earnings.xlsx')\n",
    "# Apply preprocessing to each sentence\n",
    "data20['Sentence'] = data20['Sentence'].apply(preprocess_text)\n",
    "\n",
    "# Display the first few rows to verify preprocessing\n",
    "data20.head(10)"
   ]
  },
  {
   "cell_type": "code",
   "execution_count": 112,
   "metadata": {},
   "outputs": [
    {
     "data": {
      "text/html": [
       "<div>\n",
       "<style scoped>\n",
       "    .dataframe tbody tr th:only-of-type {\n",
       "        vertical-align: middle;\n",
       "    }\n",
       "\n",
       "    .dataframe tbody tr th {\n",
       "        vertical-align: top;\n",
       "    }\n",
       "\n",
       "    .dataframe thead th {\n",
       "        text-align: right;\n",
       "    }\n",
       "</style>\n",
       "<table border=\"1\" class=\"dataframe\">\n",
       "  <thead>\n",
       "    <tr style=\"text-align: right;\">\n",
       "      <th></th>\n",
       "      <th>Sentence</th>\n",
       "    </tr>\n",
       "  </thead>\n",
       "  <tbody>\n",
       "    <tr>\n",
       "      <th>0</th>\n",
       "      <td>exxonmobil second quarter 2023 earnings call t...</td>\n",
       "    </tr>\n",
       "    <tr>\n",
       "      <th>1</th>\n",
       "      <td>operator good day everyone and welcome to this...</td>\n",
       "    </tr>\n",
       "    <tr>\n",
       "      <th>2</th>\n",
       "      <td>today call is being recorded</td>\n",
       "    </tr>\n",
       "    <tr>\n",
       "      <th>3</th>\n",
       "      <td>at this time like to turn the call over to the...</td>\n",
       "    </tr>\n",
       "    <tr>\n",
       "      <th>4</th>\n",
       "      <td>jennifer driscoll</td>\n",
       "    </tr>\n",
       "    <tr>\n",
       "      <th>5</th>\n",
       "      <td>please go ahead ma am</td>\n",
       "    </tr>\n",
       "    <tr>\n",
       "      <th>6</th>\n",
       "      <td>jennifer driscoll good morning everyone</td>\n",
       "    </tr>\n",
       "    <tr>\n",
       "      <th>7</th>\n",
       "      <td>welcome to exxonmobil second quarte 2023 earni...</td>\n",
       "    </tr>\n",
       "    <tr>\n",
       "      <th>8</th>\n",
       "      <td>jennifer driscoll vice president investor rela...</td>\n",
       "    </tr>\n",
       "    <tr>\n",
       "      <th>9</th>\n",
       "      <td>joined by darren woods chairman and ceo and ka...</td>\n",
       "    </tr>\n",
       "  </tbody>\n",
       "</table>\n",
       "</div>"
      ],
      "text/plain": [
       "                                            Sentence\n",
       "0  exxonmobil second quarter 2023 earnings call t...\n",
       "1  operator good day everyone and welcome to this...\n",
       "2                       today call is being recorded\n",
       "3  at this time like to turn the call over to the...\n",
       "4                                  jennifer driscoll\n",
       "5                              please go ahead ma am\n",
       "6            jennifer driscoll good morning everyone\n",
       "7  welcome to exxonmobil second quarte 2023 earni...\n",
       "8  jennifer driscoll vice president investor rela...\n",
       "9  joined by darren woods chairman and ceo and ka..."
      ]
     },
     "execution_count": 112,
     "metadata": {},
     "output_type": "execute_result"
    }
   ],
   "source": [
    "data23=pd.read_excel('2Q23 Earnings.xlsx')\n",
    "# Apply preprocessing to each sentence\n",
    "data23['Sentence'] = data23['Sentence'].apply(preprocess_text)\n",
    "\n",
    "# Display the first few rows to verify preprocessing\n",
    "data23.head(10)"
   ]
  },
  {
   "cell_type": "code",
   "execution_count": 113,
   "metadata": {},
   "outputs": [
    {
     "data": {
      "text/html": [
       "<div>\n",
       "<style scoped>\n",
       "    .dataframe tbody tr th:only-of-type {\n",
       "        vertical-align: middle;\n",
       "    }\n",
       "\n",
       "    .dataframe tbody tr th {\n",
       "        vertical-align: top;\n",
       "    }\n",
       "\n",
       "    .dataframe thead th {\n",
       "        text-align: right;\n",
       "    }\n",
       "</style>\n",
       "<table border=\"1\" class=\"dataframe\">\n",
       "  <thead>\n",
       "    <tr style=\"text-align: right;\">\n",
       "      <th></th>\n",
       "      <th>Sentence</th>\n",
       "    </tr>\n",
       "  </thead>\n",
       "  <tbody>\n",
       "    <tr>\n",
       "      <th>0</th>\n",
       "      <td>exxonmobil first quarter 2024 earnings call tr...</td>\n",
       "    </tr>\n",
       "    <tr>\n",
       "      <th>1</th>\n",
       "      <td>today call is being recorded</td>\n",
       "    </tr>\n",
       "    <tr>\n",
       "      <th>2</th>\n",
       "      <td>ll now turn it over to ms marina matselinskaya</td>\n",
       "    </tr>\n",
       "    <tr>\n",
       "      <th>3</th>\n",
       "      <td>please go ahead</td>\n",
       "    </tr>\n",
       "    <tr>\n",
       "      <th>4</th>\n",
       "      <td>marina matselinskaya good morning everyone</td>\n",
       "    </tr>\n",
       "    <tr>\n",
       "      <th>5</th>\n",
       "      <td>welcome to exxonmobil first quarter 2024 earni...</td>\n",
       "    </tr>\n",
       "    <tr>\n",
       "      <th>6</th>\n",
       "      <td>we appreciate you joining the call today</td>\n",
       "    </tr>\n",
       "    <tr>\n",
       "      <th>7</th>\n",
       "      <td>marina matselinskaya director of investor rela...</td>\n",
       "    </tr>\n",
       "    <tr>\n",
       "      <th>8</th>\n",
       "      <td>joined by darren woods chairman and ceo and ka...</td>\n",
       "    </tr>\n",
       "    <tr>\n",
       "      <th>9</th>\n",
       "      <td>this presentation and prerecorded remarks are ...</td>\n",
       "    </tr>\n",
       "  </tbody>\n",
       "</table>\n",
       "</div>"
      ],
      "text/plain": [
       "                                            Sentence\n",
       "0  exxonmobil first quarter 2024 earnings call tr...\n",
       "1                       today call is being recorded\n",
       "2     ll now turn it over to ms marina matselinskaya\n",
       "3                                    please go ahead\n",
       "4         marina matselinskaya good morning everyone\n",
       "5  welcome to exxonmobil first quarter 2024 earni...\n",
       "6           we appreciate you joining the call today\n",
       "7  marina matselinskaya director of investor rela...\n",
       "8  joined by darren woods chairman and ceo and ka...\n",
       "9  this presentation and prerecorded remarks are ..."
      ]
     },
     "execution_count": 113,
     "metadata": {},
     "output_type": "execute_result"
    }
   ],
   "source": [
    "data24=pd.read_excel(\"1Q24 Earnings.xlsx\")\n",
    "# Apply preprocessing to each sentence\n",
    "data24['Sentence'] = data24['Sentence'].apply(preprocess_text)\n",
    "\n",
    "# Display the first few rows to verify preprocessing\n",
    "data24.head(10)"
   ]
  },
  {
   "cell_type": "markdown",
   "metadata": {},
   "source": [
    "# Single Sentence Analysis Using ChatGPT-3.5 Turbo\n",
    "\n",
    "## Process:\n",
    "This approach sends one sentence at a time to GPT-3.5 Turbo for sentiment analysis. It directly processes each sentence individually and returns a sentiment label (1 for Positive, 0 for Neutral, -1 for Negative)."
   ]
  },
  {
   "cell_type": "code",
   "execution_count": 114,
   "metadata": {},
   "outputs": [],
   "source": [
    "# # Function for sentiment analysis using GPT-3.5 Turbo\n",
    "# def get_sentiment(sentence):\n",
    "#     try:\n",
    "#         # Use the ChatCompletion API to analyze sentiment\n",
    "#         response = openai.ChatCompletion.create(\n",
    "#             model=\"gpt-3.5-turbo\",\n",
    "#             messages=[\n",
    "#                 {\"role\": \"system\", \"content\": \"You are a Financial Trader with 20 years of experience specialising in Earnings Calls\"},\n",
    "#                 {\"role\": \"user\", \"content\": f\"Analyze the sentiment of the following sentence: {sentence}. Is it positive, negative, or neutral?\"}\n",
    "#             ]\n",
    "#         )\n",
    "#         # Extract and interpret the sentiment result\n",
    "#         sentiment_text = response.choices[0].message['content'].strip().lower()\n",
    "#         return 1 if 'positive' in sentiment_text else -1 if 'negative' in sentiment_text else 0\n",
    "#     except Exception as e:\n",
    "#         print(f\"Error analyzing sentiment: {e}\")\n",
    "#         return None  # Use None or another default value if an error occurs"
   ]
  },
  {
   "cell_type": "code",
   "execution_count": 115,
   "metadata": {},
   "outputs": [],
   "source": [
    "# # Apply the sentiment analysis function to each sentence for Q3 2020\n",
    "# data20['ChatGPT3.5_Sentiment'] = data20['Sentence'].apply(get_sentiment)\n",
    "\n",
    "# # Display the updated DataFrame with predicted sentiment\n",
    "# print(data20[['Sentence', 'ChatGPT3.5_Sentiment']].head())\n",
    "\n",
    "# # Save the results to a new Excel file with ChatGPT 3.5 sentiments\n",
    "# data20.to_excel('gpt3.5_sentiment_analysis_3Q20.xlsx', index=False)"
   ]
  },
  {
   "cell_type": "code",
   "execution_count": 116,
   "metadata": {},
   "outputs": [],
   "source": [
    "# data20.value_counts('ChatGPT3.5_Sentiment')"
   ]
  },
  {
   "cell_type": "code",
   "execution_count": 117,
   "metadata": {},
   "outputs": [],
   "source": [
    "# # Apply the sentiment analysis function to each sentence for Q2 2023\n",
    "# data23['ChatGPT3.5_Sentiment'] = data23['Sentence'].apply(get_sentiment)\n",
    "\n",
    "# # Display the updated DataFrame with predicted sentiment\n",
    "# print(data23[['Sentence', 'ChatGPT3.5_Sentiment']].head())\n",
    "\n",
    "# # Save the results to a new Excel file with ChatGPT 3.5 sentiments\n",
    "# data23.to_excel('gpt3.5_sentiment_analysis_2Q23.xlsx', index=False)\n"
   ]
  },
  {
   "cell_type": "code",
   "execution_count": 118,
   "metadata": {},
   "outputs": [],
   "source": [
    "# data23.value_counts('ChatGPT3.5_Sentiment')"
   ]
  },
  {
   "cell_type": "code",
   "execution_count": 119,
   "metadata": {},
   "outputs": [],
   "source": [
    "# # Apply the sentiment analysis function to each sentence for Q1 2024\n",
    "# data24['ChatGPT3.5_Sentiment'] = data23['Sentence'].apply(get_sentiment)\n",
    "\n",
    "# # Display the updated DataFrame with predicted sentiment\n",
    "# print(data24[['Sentence', 'ChatGPT3.5_Sentiment']].head())\n",
    "\n",
    "# # Save the results to a new Excel file with ChatGPT 3.5 sentiments\n",
    "# data24.to_excel('gpt3.5_sentiment_analysis_1Q24.xlsx', index=False)"
   ]
  },
  {
   "cell_type": "code",
   "execution_count": 120,
   "metadata": {},
   "outputs": [],
   "source": [
    "# data24.value_counts('ChatGPT3.5_Sentiment')"
   ]
  },
  {
   "cell_type": "markdown",
   "metadata": {},
   "source": [
    "## Batch Processing of Sentences for Efficient Sentiment Analysis Using GPT-3.5 Turbo\n",
    "\n",
    "### Process:\n",
    "\n",
    "This approach processes multiple sentences in a batch, sending them together in a JSON format to GPT-3.5 Turbo.  \n",
    "The model returns sentiment predictions for all sentences in the batch, which are then appended to the DataFrame.\n",
    "\n"
   ]
  },
  {
   "cell_type": "markdown",
   "metadata": {},
   "source": [
    "Q3 2020:"
   ]
  },
  {
   "cell_type": "code",
   "execution_count": 121,
   "metadata": {},
   "outputs": [
    {
     "name": "stdout",
     "output_type": "stream",
     "text": [
      "                                            Sentence  GPT 3.5\n",
      "0  Exxon Mobil Corporation (NYSE:XOM) Q3 2020 Ear...        1\n",
      "1                    Today's call is being recorded.        0\n",
      "2  At this time, I'd like to turn the call over t...        0\n",
      "3                              Please go ahead, sir.        0\n",
      "4                      Stephen Littleton: Thank you.        1\n"
     ]
    }
   ],
   "source": [
    "# Load your dataset from an Excel file\n",
    "data20 = pd.read_excel('3Q20 Earnings.xlsx')  \n",
    "\n",
    "# Add a column for predicted labels initialized to empty strings\n",
    "data20['GPT 3.5'] = ''\n",
    "\n",
    "# Define batch size\n",
    "batch_size = 20  # Adjust this based on your quota and preferences\n",
    "\n",
    "# Split data into batches\n",
    "batches = [data20[i:i + batch_size] for i in range(0, len(data20), batch_size)]\n",
    "\n",
    "# Define a function to process a batch of sentences\n",
    "def process_batch(batch, model=\"gpt-3.5-turbo\"):\n",
    "    json_data = batch[['Sentence', 'GPT 3.5']].to_json(orient='records')\n",
    "\n",
    "    prompt = f\"\"\"\n",
    "    You are a financial analyst specializing in earnings calls. \n",
    "    Analyze the sentiment of each sentence in an earnings call and classify them as: \n",
    "    Positive(label=1), Neutral(label=0), Negative(label=-1).\n",
    "    Sentences are provided between three backticks below.\n",
    "    In your output, only return the JSON code back as output - provided between three backticks.\n",
    "    Update predicted labels under 'GPT 3.5' in the JSON code.\n",
    "    Do not alter the JSON code format.\n",
    "\n",
    "    ```\n",
    "    {json_data}\n",
    "    ```\n",
    "    \"\"\"\n",
    "\n",
    "    # Send the prompt to the OpenAI API\n",
    "    messages = [{\"role\": \"user\", \"content\": prompt}]\n",
    "    response = openai.ChatCompletion.create(\n",
    "        model=model,\n",
    "        messages=messages,\n",
    "        temperature=0\n",
    "    )\n",
    "\n",
    "    # Ensure the response length matches the batch length\n",
    "    try:\n",
    "        json_data = response.choices[0].message['content'].strip(\"`\")\n",
    "        data = json.loads(json_data)\n",
    "\n",
    "        # Check that the number of sentences processed matches the batch size\n",
    "        if len(data) != len(batch):\n",
    "            raise ValueError(f\"Batch size mismatch: expected {len(batch)}, got {len(data)}\")\n",
    "\n",
    "        return data\n",
    "\n",
    "    except Exception as e:\n",
    "        print(f\"Error processing batch: {e}\")\n",
    "        return []\n",
    "\n",
    "# Process each batch and collect responses\n",
    "responses = []\n",
    "for batch in batches:\n",
    "    result = process_batch(batch)\n",
    "    responses.extend(result)\n",
    "\n",
    "# Combine responses into a single DataFrame\n",
    "df_total = pd.DataFrame(responses)\n",
    "\n",
    "# Ensure lengths match before assignment\n",
    "if len(data20) == len(df_total):\n",
    "    # Update the original dataset with predicted labels\n",
    "    data20['GPT 3.5'] = df_total['GPT 3.5'].values\n",
    "else:\n",
    "    print(f\"Length mismatch: data20 has {len(data20)} rows, df_total has {len(df_total)} rows.\")\n",
    "    # Handle the mismatch by removing or reprocessing missing data\n",
    "\n",
    "# Display the DataFrame with predicted sentiments\n",
    "print(data20[['Sentence', 'GPT 3.5']].head())\n",
    "\n",
    "# Save the results to a new Excel file\n",
    "data20.to_excel('gpt_sentiment_analysis_3Q20.xlsx', index=False)\n"
   ]
  },
  {
   "cell_type": "code",
   "execution_count": 122,
   "metadata": {},
   "outputs": [
    {
     "data": {
      "text/plain": [
       "GPT 3.5\n",
       " 1    322\n",
       " 0    190\n",
       "-1     96\n",
       "Name: count, dtype: int64"
      ]
     },
     "execution_count": 122,
     "metadata": {},
     "output_type": "execute_result"
    }
   ],
   "source": [
    "data20.value_counts('GPT 3.5')"
   ]
  },
  {
   "cell_type": "markdown",
   "metadata": {},
   "source": [
    "Q2 2023"
   ]
  },
  {
   "cell_type": "code",
   "execution_count": 123,
   "metadata": {},
   "outputs": [
    {
     "name": "stdout",
     "output_type": "stream",
     "text": [
      "                                            Sentence  GPT 3.5\n",
      "0  exxonmobil second quarter 2023 earnings call t...        0\n",
      "1  operator good day everyone and welcome to this...        1\n",
      "2                       today call is being recorded        0\n",
      "3  at this time like to turn the call over to the...        0\n",
      "4                                  jennifer driscoll        0\n"
     ]
    }
   ],
   "source": [
    "#Q2 2023\n",
    "# Add a column for predicted labels initialized to empty strings\n",
    "data23['GPT 3.5'] = ''\n",
    "\n",
    "# Define batch size\n",
    "batch_size = 50\n",
    "\n",
    "# Split data into batches\n",
    "batches = [data23[i:i + batch_size] for i in range(0, len(data23), batch_size)]\n",
    "\n",
    "# Define a function to process a batch of sentences\n",
    "def process_batch(batch, model=\"gpt-3.5-turbo\"):\n",
    "    json_data = batch[['Sentence', 'GPT 3.5']].to_json(orient='records')\n",
    "\n",
    "    prompt = f\"\"\"\n",
    "    You are a financial analyst with 20 years of experience specializing in earnings calls. \n",
    "    Analyze the sentiment of each sentence in an earnings call and classify them as: \n",
    "    Positive(label=1), Neutral(label=0), Negative(label=-1).\n",
    "    Sentences are provided between three backticks below.\n",
    "    In your output, only return the JSON code back as output - provided between three backticks.\n",
    "    Update predicted labels under 'GPT 3.5' in the JSON code.\n",
    "    Do not alter the JSON code format.\n",
    "\n",
    "    ```\n",
    "    {json_data}\n",
    "    ```\n",
    "    \"\"\"\n",
    "\n",
    "    # Send the prompt to the OpenAI API\n",
    "    messages = [{\"role\": \"user\", \"content\": prompt}]\n",
    "    response = openai.ChatCompletion.create(\n",
    "        model=model,\n",
    "        messages=messages,\n",
    "        temperature=0\n",
    "    )\n",
    "\n",
    "    time.sleep(1)  # Respect API rate limits\n",
    "    return response.choices[0].message[\"content\"]\n",
    "\n",
    "# Process each batch and collect responses\n",
    "responses = [process_batch(batch) for batch in batches]\n",
    "\n",
    "# Combine responses into a single DataFrame\n",
    "df_total = pd.DataFrame()\n",
    "\n",
    "for response in responses:\n",
    "    # Remove backticks and load JSON\n",
    "    json_data = response.strip(\"`\")\n",
    "    data = json.loads(json_data)\n",
    "    df_temp = pd.DataFrame(data)\n",
    "\n",
    "    # Append results to the total DataFrame\n",
    "    df_total = pd.concat([df_total, df_temp], ignore_index=True)\n",
    "\n",
    "# Update the original dataset with predicted labels for Q3 2023\n",
    "data23['GPT 3.5'] = df_total['GPT 3.5'].values\n",
    "\n",
    "# Display the DataFrame with predicted sentiments\n",
    "print(data23[['Sentence', 'GPT 3.5']].head())\n",
    "\n",
    "# Save the results to a new Excel file\n",
    "data23[['Sentence', 'GPT 3.5']].to_excel('gpt_sentiment_analysis_2Q23.xlsx', index=False)\n"
   ]
  },
  {
   "cell_type": "code",
   "execution_count": 124,
   "metadata": {},
   "outputs": [
    {
     "data": {
      "text/plain": [
       "GPT 3.5\n",
       " 1    372\n",
       " 0    142\n",
       "-1     15\n",
       "Name: count, dtype: int64"
      ]
     },
     "execution_count": 124,
     "metadata": {},
     "output_type": "execute_result"
    }
   ],
   "source": [
    "data23.value_counts('GPT 3.5')"
   ]
  },
  {
   "cell_type": "markdown",
   "metadata": {},
   "source": [
    "Q1 2024"
   ]
  },
  {
   "cell_type": "code",
   "execution_count": 125,
   "metadata": {},
   "outputs": [
    {
     "name": "stdout",
     "output_type": "stream",
     "text": [
      "                                            Sentence  GPT 3.5\n",
      "0  exxonmobil first quarter 2024 earnings call tr...        0\n",
      "1                       today call is being recorded        0\n",
      "2     ll now turn it over to ms marina matselinskaya        0\n",
      "3                                    please go ahead        0\n",
      "4         marina matselinskaya good morning everyone        1\n"
     ]
    }
   ],
   "source": [
    "#Q1 2024\n",
    "# Add a column for predicted labels initialized to empty strings\n",
    "data24['GPT 3.5'] = ''\n",
    "\n",
    "# Define batch size\n",
    "batch_size = 50\n",
    "\n",
    "# Split data into batches\n",
    "batches = [data24[i:i + batch_size] for i in range(0, len(data24), batch_size)]\n",
    "\n",
    "# Define a function to process a batch of sentences\n",
    "def process_batch(batch, model=\"gpt-3.5-turbo\"):\n",
    "    json_data = batch[['Sentence', 'GPT 3.5']].to_json(orient='records')\n",
    "\n",
    "    prompt = f\"\"\"\n",
    "    You are a financial analyst with 40 years of experience specializing in earnings calls. \n",
    "    Analyze the sentiment of each sentence in an earnings call and classify them as: \n",
    "    Positive(label=1), Neutral(label=0), Negative(label=-1).\n",
    "    Sentences are provided between three backticks below.\n",
    "    In your output, only return the JSON code back as output - provided between three backticks.\n",
    "    Update predicted labels under 'GPT 3.5' in the JSON code.\n",
    "    Do not alter the JSON code format.\n",
    "\n",
    "    ```\n",
    "    {json_data}\n",
    "    ```\n",
    "    \"\"\"\n",
    "\n",
    "    # Send the prompt to the OpenAI API\n",
    "    messages = [{\"role\": \"user\", \"content\": prompt}]\n",
    "    response = openai.ChatCompletion.create(\n",
    "        model=model,\n",
    "        messages=messages,\n",
    "        temperature=0\n",
    "    )\n",
    "\n",
    "    time.sleep(1)  # Respect API rate limits\n",
    "    return response.choices[0].message[\"content\"]\n",
    "\n",
    "# Process each batch and collect responses\n",
    "responses = [process_batch(batch) for batch in batches]\n",
    "\n",
    "# Combine responses into a single DataFrame\n",
    "df_total = pd.DataFrame()\n",
    "\n",
    "for response in responses:\n",
    "    # Remove backticks and load JSON\n",
    "    json_data = response.strip(\"`\")\n",
    "    data = json.loads(json_data)\n",
    "    df_temp = pd.DataFrame(data)\n",
    "\n",
    "    # Append results to the total DataFrame\n",
    "    df_total = pd.concat([df_total, df_temp], ignore_index=True)\n",
    "\n",
    "\n",
    "# Update the original dataset with predicted labels for Q1 2024\n",
    "data24['GPT 3.5'] = df_total['GPT 3.5'].values\n",
    "\n",
    "# Display the DataFrame with predicted sentiments\n",
    "print(data24[['Sentence', 'GPT 3.5']].head())\n",
    "\n",
    "# Save the results to a new Excel file\n",
    "data24[['Sentence', 'GPT 3.5']].to_excel('gpt_sentiment_analysis_1Q24.xlsx', index=False)\n"
   ]
  },
  {
   "cell_type": "code",
   "execution_count": 126,
   "metadata": {},
   "outputs": [
    {
     "data": {
      "text/plain": [
       "GPT 3.5\n",
       " 1    378\n",
       " 0    101\n",
       "-1     20\n",
       "Name: count, dtype: int64"
      ]
     },
     "execution_count": 126,
     "metadata": {},
     "output_type": "execute_result"
    }
   ],
   "source": [
    "data24.value_counts('GPT 3.5')"
   ]
  },
  {
   "cell_type": "markdown",
   "metadata": {},
   "source": [
    "# FinBert"
   ]
  },
  {
   "cell_type": "code",
   "execution_count": 127,
   "metadata": {},
   "outputs": [],
   "source": [
    "# Load the FinBERT model and tokenizer\n",
    "finbert_model = BertForSequenceClassification.from_pretrained('yiyanghkust/finbert-tone', num_labels=3)\n",
    "finbert_tokenizer = BertTokenizer.from_pretrained('yiyanghkust/finbert-tone')\n",
    "\n",
    "# Ensure model is in evaluation mode\n",
    "finbert_model.eval()\n",
    "\n",
    "# Initialize the sentiment-analysis pipeline for FinBERT\n",
    "finbert_pipeline = pipeline(\"sentiment-analysis\", model=finbert_model, tokenizer=finbert_tokenizer)\n",
    "\n",
    "# Function to get sentiment using FinBERT\n",
    "def get_finbert_sentiment(sentence):\n",
    "    try:\n",
    "        result = finbert_pipeline(sentence)\n",
    "        label = result[0]['label'].lower()  # Get the label in lowercase\n",
    "        \n",
    "        # Map FinBERT labels to numerical values\n",
    "        sentiment_mapping = {'positive': 1, 'neutral': 0, 'negative': -1}\n",
    "        return sentiment_mapping.get(label, 0)  # Default to 0 if label is unexpected\n",
    "    except Exception as e:\n",
    "        print(f\"Error analyzing sentiment: {e}\")\n",
    "        return None\n"
   ]
  },
  {
   "cell_type": "code",
   "execution_count": 128,
   "metadata": {},
   "outputs": [
    {
     "name": "stdout",
     "output_type": "stream",
     "text": [
      "                                            Sentence  FinBERT\n",
      "0  Exxon Mobil Corporation (NYSE:XOM) Q3 2020 Ear...        0\n",
      "1                    Today's call is being recorded.        0\n",
      "2  At this time, I'd like to turn the call over t...        0\n",
      "3                              Please go ahead, sir.        0\n",
      "4                      Stephen Littleton: Thank you.        1\n"
     ]
    }
   ],
   "source": [
    "# Apply the sentiment analysis function to each sentence\n",
    "data20['FinBERT'] = data20['Sentence'].apply(get_finbert_sentiment)\n",
    "\n",
    "# Display the updated DataFrame with FinBERT sentiment\n",
    "print(data20[['Sentence', 'FinBERT']].head())\n",
    "\n",
    "# Save the results to a new Excel file with only FinBERT sentiments\n",
    "data20[['Sentence', 'FinBERT']].to_excel('finbert_sentiment_analysis_3Q20.xlsx', index=False)"
   ]
  },
  {
   "cell_type": "code",
   "execution_count": 129,
   "metadata": {},
   "outputs": [
    {
     "data": {
      "text/plain": [
       "608"
      ]
     },
     "execution_count": 129,
     "metadata": {},
     "output_type": "execute_result"
    }
   ],
   "source": [
    "len(data20)"
   ]
  },
  {
   "cell_type": "code",
   "execution_count": 130,
   "metadata": {},
   "outputs": [
    {
     "data": {
      "text/plain": [
       "FinBERT\n",
       " 0    358\n",
       " 1    165\n",
       "-1     85\n",
       "Name: count, dtype: int64"
      ]
     },
     "execution_count": 130,
     "metadata": {},
     "output_type": "execute_result"
    }
   ],
   "source": [
    "data20.value_counts('FinBERT')"
   ]
  },
  {
   "cell_type": "code",
   "execution_count": 131,
   "metadata": {},
   "outputs": [
    {
     "name": "stdout",
     "output_type": "stream",
     "text": [
      "                                            Sentence  FinBERT\n",
      "0  exxonmobil second quarter 2023 earnings call t...        0\n",
      "1  operator good day everyone and welcome to this...        0\n",
      "2                       today call is being recorded        0\n",
      "3  at this time like to turn the call over to the...        0\n",
      "4                                  jennifer driscoll        0\n"
     ]
    }
   ],
   "source": [
    "# Apply the sentiment analysis function to each sentence\n",
    "data23['FinBERT'] = data23['Sentence'].apply(get_finbert_sentiment)\n",
    "\n",
    "# Display the updated DataFrame with FinBERT sentiment\n",
    "print(data23[['Sentence', 'FinBERT']].head())\n",
    "\n",
    "# Save the results to a new Excel file with only FinBERT sentiments\n",
    "data23[['Sentence', 'FinBERT']].to_excel('finbert_sentiment_analysis_2Q23.xlsx', index=False)"
   ]
  },
  {
   "cell_type": "code",
   "execution_count": 132,
   "metadata": {},
   "outputs": [
    {
     "data": {
      "text/plain": [
       "FinBERT\n",
       " 0    327\n",
       " 1    175\n",
       "-1     27\n",
       "Name: count, dtype: int64"
      ]
     },
     "execution_count": 132,
     "metadata": {},
     "output_type": "execute_result"
    }
   ],
   "source": [
    "data23.value_counts('FinBERT')"
   ]
  },
  {
   "cell_type": "code",
   "execution_count": 133,
   "metadata": {},
   "outputs": [
    {
     "name": "stdout",
     "output_type": "stream",
     "text": [
      "                                            Sentence  FinBERT\n",
      "0  exxonmobil first quarter 2024 earnings call tr...        0\n",
      "1                       today call is being recorded        0\n",
      "2     ll now turn it over to ms marina matselinskaya        0\n",
      "3                                    please go ahead        0\n",
      "4         marina matselinskaya good morning everyone        1\n"
     ]
    }
   ],
   "source": [
    "# Apply the sentiment analysis function to each sentence\n",
    "data24['FinBERT'] = data24['Sentence'].apply(get_finbert_sentiment)\n",
    "\n",
    "# Display the updated DataFrame with FinBERT sentiment\n",
    "print(data24[['Sentence', 'FinBERT']].head())\n",
    "\n",
    "# Save the results to a new Excel file with only FinBERT sentiments\n",
    "data24[['Sentence', 'FinBERT']].to_excel('finbert_sentiment_analysis_1Q24.xlsx', index=False)"
   ]
  },
  {
   "cell_type": "code",
   "execution_count": 134,
   "metadata": {},
   "outputs": [
    {
     "data": {
      "text/plain": [
       "FinBERT\n",
       " 0    297\n",
       " 1    182\n",
       "-1     20\n",
       "Name: count, dtype: int64"
      ]
     },
     "execution_count": 134,
     "metadata": {},
     "output_type": "execute_result"
    }
   ],
   "source": [
    "data24.value_counts('FinBERT')"
   ]
  },
  {
   "cell_type": "markdown",
   "metadata": {},
   "source": [
    "## Combining Human Evaluation and Finbert Sentiment Analysis Excel Files for Comparative Analysis"
   ]
  },
  {
   "cell_type": "code",
   "execution_count": 135,
   "metadata": {},
   "outputs": [
    {
     "name": "stdout",
     "output_type": "stream",
     "text": [
      "Processed and saved combined evaluations for 1Q24 to combined_evaluation1Q24Fin.xlsx\n",
      "Processed and saved combined evaluations for 2Q23 to combined_evaluation2Q23Fin.xlsx\n",
      "Processed and saved combined evaluations for 3Q20 to combined_evaluation3Q20Fin.xlsx\n"
     ]
    }
   ],
   "source": [
    "# Function to load, clean, and combine evaluation files\n",
    "def combine_evaluations(human_eval_file, fin_output_file, final_output_file_path):\n",
    "    # Load the Excel files\n",
    "    human_eval_df = pd.read_excel(human_eval_file)\n",
    "    fin_output_df = pd.read_excel(fin_output_file)\n",
    "    \n",
    "    # Drop the sentence column from the FinBERT output file\n",
    "    fin_output_df_cleaned = fin_output_df.drop(columns=['Sentence'])\n",
    "    \n",
    "    # Concatenate the cleaned FinBERT output with the human evaluation file\n",
    "    final_df = pd.concat([human_eval_df, fin_output_df_cleaned], axis=1)\n",
    "    \n",
    "    # Save the final dataframe to a new Excel file\n",
    "    final_df.to_excel(final_output_file_path, index=False)\n",
    "    \n",
    "    return final_output_file_path\n",
    "\n",
    "# Define the quarters and corresponding file paths\n",
    "quarters = {\n",
    "    '1Q24': ('1Q24 Earnings Human Evaluation.xlsx', 'finbert_sentiment_analysis_1Q24.xlsx', 'combined_evaluation1Q24Fin.xlsx'),\n",
    "    '2Q23': ('2Q23 Earnings Human Evaluation.xlsx', 'finbert_sentiment_analysis_2Q23.xlsx', 'combined_evaluation2Q23Fin.xlsx'),\n",
    "    '3Q20': ('3Q20 Earnings Human Evaluation.xlsx', 'finbert_sentiment_analysis_3Q20.xlsx', 'combined_evaluation3Q20Fin.xlsx')\n",
    "}\n",
    "\n",
    "# Process each quarter\n",
    "for quarter, (human_eval_file, fin_output_file, final_output_file_path) in quarters.items():\n",
    "    output_file = combine_evaluations(human_eval_file, fin_output_file, final_output_file_path)\n",
    "    print(f\"Processed and saved combined evaluations for {quarter} to {output_file}\")\n"
   ]
  },
  {
   "cell_type": "markdown",
   "metadata": {},
   "source": [
    "## Comparative Analysis of Human Evaluation and Finbert Sentiment Analysis Across All Quarters"
   ]
  },
  {
   "cell_type": "markdown",
   "metadata": {},
   "source": [
    "Q1 24"
   ]
  },
  {
   "cell_type": "code",
   "execution_count": 136,
   "metadata": {},
   "outputs": [
    {
     "name": "stderr",
     "output_type": "stream",
     "text": [
      "C:\\Users\\mikep\\AppData\\Local\\Temp\\ipykernel_18416\\1762311371.py:3: FutureWarning: pandas.value_counts is deprecated and will be removed in a future version. Use pd.Series(obj).value_counts() instead.\n",
      "  human_eval=pd.value_counts(d24['Human Evaluation'])\n",
      "C:\\Users\\mikep\\AppData\\Local\\Temp\\ipykernel_18416\\1762311371.py:5: FutureWarning: pandas.value_counts is deprecated and will be removed in a future version. Use pd.Series(obj).value_counts() instead.\n",
      "  fin_eval=pd.value_counts(d24['FinBERT'])\n"
     ]
    }
   ],
   "source": [
    "d24= pd.read_excel(\"combined_evaluation1Q24Fin.xlsx\")\n",
    "#human_eval\n",
    "human_eval=pd.value_counts(d24['Human Evaluation'])\n",
    "# FinBERT_eval\n",
    "fin_eval=pd.value_counts(d24['FinBERT'])"
   ]
  },
  {
   "cell_type": "code",
   "execution_count": 137,
   "metadata": {},
   "outputs": [
    {
     "name": "stdout",
     "output_type": "stream",
     "text": [
      "Agreement Rate: 63.13%\n",
      "Disagreement Rate: 36.87%\n",
      "Human Mean: 0.13, FinBERT Mean: 0.32\n",
      "Human Std Dev: 0.55, FinBERT Std Dev: 0.55\n",
      "Correlation: 0.34\n",
      "Accuracy: 0.63\n",
      "\n",
      "Confusion Matrix:\n",
      "[[ 11  27   9]\n",
      " [  7 232 101]\n",
      " [  2  38  72]]\n"
     ]
    }
   ],
   "source": [
    "# Calculate agreement and disagreement rates\n",
    "d24['Agreement'] = d24['Human Evaluation'] == d24['FinBERT']\n",
    "agreement_rate = d24['Agreement'].mean() * 100\n",
    "disagreement_rate = 100 - agreement_rate\n",
    "\n",
    "# Calculate mean and standard deviation for both human and FinBERT evaluations\n",
    "human_mean = d24['Human Evaluation'].mean()\n",
    "finbert_mean = d24['FinBERT'].mean()\n",
    "\n",
    "human_std = d24['Human Evaluation'].std()\n",
    "finbert_std = d24['FinBERT'].std()\n",
    "\n",
    "# Calculate the correlation between human and FinBERT evaluations\n",
    "correlation = d24['Human Evaluation'].corr(d24['FinBERT'])\n",
    "\n",
    "# Calculate accuracy\n",
    "accuracy = accuracy_score(d24['Human Evaluation'], d24['FinBERT'])\n",
    "\n",
    "# Generate a confusion matrix\n",
    "conf_matrix = confusion_matrix(d24['Human Evaluation'], d24['FinBERT'])\n",
    "\n",
    "# Output the results\n",
    "print(f\"Agreement Rate: {agreement_rate:.2f}%\")\n",
    "print(f\"Disagreement Rate: {disagreement_rate:.2f}%\")\n",
    "print(f\"Human Mean: {human_mean:.2f}, FinBERT Mean: {finbert_mean:.2f}\")\n",
    "print(f\"Human Std Dev: {human_std:.2f}, FinBERT Std Dev: {finbert_std:.2f}\")\n",
    "print(f\"Correlation: {correlation:.2f}\")\n",
    "print(f\"Accuracy: {accuracy:.2f}\")\n",
    "\n",
    "# Display the confusion matrix\n",
    "print(\"\\nConfusion Matrix:\")\n",
    "print(conf_matrix)\n"
   ]
  },
  {
   "cell_type": "markdown",
   "metadata": {},
   "source": [
    "Q2 23"
   ]
  },
  {
   "cell_type": "code",
   "execution_count": 138,
   "metadata": {},
   "outputs": [
    {
     "name": "stderr",
     "output_type": "stream",
     "text": [
      "C:\\Users\\mikep\\AppData\\Local\\Temp\\ipykernel_18416\\2413027423.py:3: FutureWarning: pandas.value_counts is deprecated and will be removed in a future version. Use pd.Series(obj).value_counts() instead.\n",
      "  human_eval=pd.value_counts(d23['Human Evaluation'])\n",
      "C:\\Users\\mikep\\AppData\\Local\\Temp\\ipykernel_18416\\2413027423.py:5: FutureWarning: pandas.value_counts is deprecated and will be removed in a future version. Use pd.Series(obj).value_counts() instead.\n",
      "  fin_eval=pd.value_counts(d23['FinBERT'])\n"
     ]
    }
   ],
   "source": [
    "d23= pd.read_excel(\"combined_evaluation2Q23Fin.xlsx\")\n",
    "#human_eval\n",
    "human_eval=pd.value_counts(d23['Human Evaluation'])\n",
    "# ChatGPT4_eval\n",
    "fin_eval=pd.value_counts(d23['FinBERT'])"
   ]
  },
  {
   "cell_type": "code",
   "execution_count": 139,
   "metadata": {},
   "outputs": [
    {
     "name": "stdout",
     "output_type": "stream",
     "text": [
      "Agreement Rate: 68.81%\n",
      "Disagreement Rate: 31.19%\n",
      "Human Mean: 0.15, FinBERT Mean: 0.28\n",
      "Human Std Dev: 0.45, FinBERT Std Dev: 0.55\n",
      "Correlation: 0.38\n",
      "Accuracy: 0.69\n",
      "\n",
      "Confusion Matrix:\n",
      "[[ 10   8   2]\n",
      " [ 15 287 106]\n",
      " [  2  32  67]]\n"
     ]
    }
   ],
   "source": [
    "# Calculate agreement and disagreement rates\n",
    "d23['Agreement'] = d23['Human Evaluation'] == d23['FinBERT']\n",
    "agreement_rate = d23['Agreement'].mean() * 100\n",
    "disagreement_rate = 100 - agreement_rate\n",
    "\n",
    "# Calculate mean and standard deviation for both human and ChatGPT-3.5 evaluations\n",
    "human_mean = d23['Human Evaluation'].mean()\n",
    "finbert_mean = d23['FinBERT'].mean()\n",
    "\n",
    "human_std = d23['Human Evaluation'].std()\n",
    "finbert_std = d23['FinBERT'].std()\n",
    "\n",
    "# Calculate the correlation between human and ChatGPT-3.5 evaluations\n",
    "correlation = d23['Human Evaluation'].corr(d23['FinBERT'])\n",
    "\n",
    "# Calculate accuracy\n",
    "accuracy = accuracy_score(d23['Human Evaluation'], d23['FinBERT'])\n",
    "\n",
    "# Generate a confusion matrix\n",
    "conf_matrix = confusion_matrix(d23['Human Evaluation'], d23['FinBERT'])\n",
    "\n",
    "# Output the results\n",
    "print(f\"Agreement Rate: {agreement_rate:.2f}%\")\n",
    "print(f\"Disagreement Rate: {disagreement_rate:.2f}%\")\n",
    "print(f\"Human Mean: {human_mean:.2f}, FinBERT Mean: {finbert_mean:.2f}\")\n",
    "print(f\"Human Std Dev: {human_std:.2f}, FinBERT Std Dev: {finbert_std:.2f}\")\n",
    "print(f\"Correlation: {correlation:.2f}\")\n",
    "print(f\"Accuracy: {accuracy:.2f}\")\n",
    "\n",
    "# Display the confusion matrix\n",
    "print(\"\\nConfusion Matrix:\")\n",
    "print(conf_matrix)\n"
   ]
  },
  {
   "cell_type": "markdown",
   "metadata": {},
   "source": [
    "Q3 2020"
   ]
  },
  {
   "cell_type": "code",
   "execution_count": 140,
   "metadata": {},
   "outputs": [],
   "source": [
    "d20= pd.read_excel(\"combined_evaluation3Q20Fin.xlsx\")\n",
    "d20.columns = d20.columns.str.strip()"
   ]
  },
  {
   "cell_type": "code",
   "execution_count": 141,
   "metadata": {},
   "outputs": [
    {
     "name": "stderr",
     "output_type": "stream",
     "text": [
      "C:\\Users\\mikep\\AppData\\Local\\Temp\\ipykernel_18416\\3877974203.py:2: FutureWarning: pandas.value_counts is deprecated and will be removed in a future version. Use pd.Series(obj).value_counts() instead.\n",
      "  human_eval=pd.value_counts(d20['Human Evaluation'])\n",
      "C:\\Users\\mikep\\AppData\\Local\\Temp\\ipykernel_18416\\3877974203.py:4: FutureWarning: pandas.value_counts is deprecated and will be removed in a future version. Use pd.Series(obj).value_counts() instead.\n",
      "  fin_eval=pd.value_counts(d20['FinBERT'])\n"
     ]
    }
   ],
   "source": [
    "#human_eval\n",
    "human_eval=pd.value_counts(d20['Human Evaluation'])\n",
    "# ChatGPT4_eval\n",
    "fin_eval=pd.value_counts(d20['FinBERT'])"
   ]
  },
  {
   "cell_type": "code",
   "execution_count": 142,
   "metadata": {},
   "outputs": [
    {
     "name": "stdout",
     "output_type": "stream",
     "text": [
      "Agreement Rate: 70.56%\n",
      "Disagreement Rate: 29.44%\n",
      "Human Mean: 0.06, FinBERT Mean: 0.13\n",
      "Human Std Dev: 0.60, FinBERT Std Dev: 0.63\n",
      "Correlation: 0.56\n",
      "Accuracy: 0.71\n",
      "\n",
      "Confusion Matrix:\n",
      "[[ 52  34   4]\n",
      " [ 29 288  72]\n",
      " [  4  36  89]]\n"
     ]
    }
   ],
   "source": [
    "# Calculate agreement and disagreement rates\n",
    "d20['Agreement'] = d20['Human Evaluation'] == d20['FinBERT']\n",
    "agreement_rate = d20['Agreement'].mean() * 100\n",
    "disagreement_rate = 100 - agreement_rate\n",
    "\n",
    "# Calculate mean and standard deviation for both human and ChatGPT-3.5 evaluations\n",
    "human_mean = d20['Human Evaluation'].mean()\n",
    "finbert_mean = d20['FinBERT'].mean()\n",
    "\n",
    "human_std = d20['Human Evaluation'].std()\n",
    "finbert_std = d20['FinBERT'].std()\n",
    "\n",
    "# Calculate the correlation between human and ChatGPT-3.5 evaluations\n",
    "correlation = d20['Human Evaluation'].corr(d20['FinBERT'])\n",
    "\n",
    "# Calculate accuracy\n",
    "accuracy = accuracy_score(d20['Human Evaluation'], d20['FinBERT'])\n",
    "\n",
    "# Generate a confusion matrix\n",
    "conf_matrix = confusion_matrix(d20['Human Evaluation'], d20['FinBERT'])\n",
    "\n",
    "# Output the results\n",
    "print(f\"Agreement Rate: {agreement_rate:.2f}%\")\n",
    "print(f\"Disagreement Rate: {disagreement_rate:.2f}%\")\n",
    "print(f\"Human Mean: {human_mean:.2f}, FinBERT Mean: {finbert_mean:.2f}\")\n",
    "print(f\"Human Std Dev: {human_std:.2f}, FinBERT Std Dev: {finbert_std:.2f}\")\n",
    "print(f\"Correlation: {correlation:.2f}\")\n",
    "print(f\"Accuracy: {accuracy:.2f}\")\n",
    "\n",
    "# Display the confusion matrix\n",
    "print(\"\\nConfusion Matrix:\")\n",
    "print(conf_matrix)\n"
   ]
  },
  {
   "cell_type": "code",
   "execution_count": 143,
   "metadata": {},
   "outputs": [
    {
     "name": "stderr",
     "output_type": "stream",
     "text": [
      "C:\\Users\\mikep\\AppData\\Local\\Temp\\ipykernel_18416\\3021014979.py:42: FutureWarning: pandas.value_counts is deprecated and will be removed in a future version. Use pd.Series(obj).value_counts() instead.\n",
      "  plot_human_vs_finbert(human_eval=pd.value_counts(d24['Human Evaluation']),\n",
      "C:\\Users\\mikep\\AppData\\Local\\Temp\\ipykernel_18416\\3021014979.py:43: FutureWarning: pandas.value_counts is deprecated and will be removed in a future version. Use pd.Series(obj).value_counts() instead.\n",
      "  fin_eval=pd.value_counts(d24['FinBERT']),\n"
     ]
    },
    {
     "data": {
      "image/png": "[encoded data removed]",
      "text/plain": [
       "<Figure size 1000x600 with 1 Axes>"
      ]
     },
     "metadata": {},
     "output_type": "display_data"
    },
    {
     "name": "stderr",
     "output_type": "stream",
     "text": [
      "C:\\Users\\mikep\\AppData\\Local\\Temp\\ipykernel_18416\\3021014979.py:47: FutureWarning: pandas.value_counts is deprecated and will be removed in a future version. Use pd.Series(obj).value_counts() instead.\n",
      "  plot_human_vs_finbert(human_eval=pd.value_counts(d23['Human Evaluation']),\n",
      "C:\\Users\\mikep\\AppData\\Local\\Temp\\ipykernel_18416\\3021014979.py:48: FutureWarning: pandas.value_counts is deprecated and will be removed in a future version. Use pd.Series(obj).value_counts() instead.\n",
      "  fin_eval=pd.value_counts(d23['FinBERT']),\n"
     ]
    },
    {
     "data": {
      "image/png": "[encoded data removed]",
      "text/plain": [
       "<Figure size 1000x600 with 1 Axes>"
      ]
     },
     "metadata": {},
     "output_type": "display_data"
    },
    {
     "name": "stderr",
     "output_type": "stream",
     "text": [
      "C:\\Users\\mikep\\AppData\\Local\\Temp\\ipykernel_18416\\3021014979.py:52: FutureWarning: pandas.value_counts is deprecated and will be removed in a future version. Use pd.Series(obj).value_counts() instead.\n",
      "  plot_human_vs_finbert(human_eval=pd.value_counts(d20['Human Evaluation']),\n",
      "C:\\Users\\mikep\\AppData\\Local\\Temp\\ipykernel_18416\\3021014979.py:53: FutureWarning: pandas.value_counts is deprecated and will be removed in a future version. Use pd.Series(obj).value_counts() instead.\n",
      "  fin_eval=pd.value_counts(d20['FinBERT']),\n"
     ]
    },
    {
     "data": {
      "image/png": "[encoded data removed]",
      "text/plain": [
       "<Figure size 1000x600 with 1 Axes>"
      ]
     },
     "metadata": {},
     "output_type": "display_data"
    }
   ],
   "source": [
    "def plot_human_vs_finbert(human_eval, fin_eval, title_suffix):\n",
    "    \"\"\"\n",
    "    Plots the comparison between human evaluation and FinBERT evaluation.\n",
    "    \n",
    "    Parameters:\n",
    "    - human_eval: Series containing human evaluation counts.\n",
    "    - fin_eval: Series containing FinBERT evaluation counts.\n",
    "    - title_suffix: Suffix to append to the plot title for specifying the quarter.\n",
    "    \"\"\"\n",
    "    # Convert the value counts to DataFrames to align the indices\n",
    "    human_eval_df = human_eval.sort_index().reset_index()\n",
    "    human_eval_df.columns = ['Score', 'Human Evaluation']\n",
    "\n",
    "    finbert_eval_df = fin_eval.sort_index().reset_index()\n",
    "    finbert_eval_df.columns = ['Score', 'FinBERT']\n",
    "\n",
    "    # Merge the two DataFrames on 'Score'\n",
    "    combined_df = pd.merge(human_eval_df, finbert_eval_df, on='Score', how='outer').fillna(0)\n",
    "\n",
    "    # Set the 'Score' as the index for plotting\n",
    "    combined_df.set_index('Score', inplace=True)\n",
    "\n",
    "    # Plot the bar chart with new colors\n",
    "    ax = combined_df.plot(kind='bar', figsize=(10, 6), color=['green', 'red'])\n",
    "\n",
    "    # Add title and labels\n",
    "    plt.title(f'Human Evaluation vs FinBERT Evaluation {title_suffix}')\n",
    "    plt.xlabel('Evaluation Score')\n",
    "    plt.ylabel('Count')\n",
    "\n",
    "    # Add numbers on top of each bar\n",
    "    for container in ax.containers:\n",
    "        ax.bar_label(container, label_type='edge') \n",
    "\n",
    "    # Adjust layout to make room for the legend\n",
    "    plt.tight_layout()\n",
    "\n",
    "    # Display the plot\n",
    "    plt.show()\n",
    "\n",
    "# Human vs FinBERT for Q1 2024\n",
    "plot_human_vs_finbert(human_eval=pd.value_counts(d24['Human Evaluation']), \n",
    "                      fin_eval=pd.value_counts(d24['FinBERT']), \n",
    "                      title_suffix='for Q1 2024')\n",
    "\n",
    "# Human vs FinBERT for Q2 2023\n",
    "plot_human_vs_finbert(human_eval=pd.value_counts(d23['Human Evaluation']), \n",
    "                      fin_eval=pd.value_counts(d23['FinBERT']), \n",
    "                      title_suffix='for Q2 2023')\n",
    "\n",
    "# Human vs FinBERT for Q3 2020\n",
    "plot_human_vs_finbert(human_eval=pd.value_counts(d20['Human Evaluation']), \n",
    "                      fin_eval=pd.value_counts(d20['FinBERT']), \n",
    "                      title_suffix='for Q3 2020')\n"
   ]
  },
  {
   "cell_type": "markdown",
   "metadata": {},
   "source": [
    "## Combining Human Evaluation and GPT-3.5 Sentiment Analysis Excel Files for Comparative Analysis"
   ]
  },
  {
   "cell_type": "code",
   "execution_count": 144,
   "metadata": {},
   "outputs": [
    {
     "name": "stdout",
     "output_type": "stream",
     "text": [
      "Processed and saved combined evaluations for 1Q24 to combined_evaluation1Q24GPT3.xlsx\n",
      "Processed and saved combined evaluations for 2Q23 to combined_evaluation2Q23GPT3.xlsx\n",
      "Processed and saved combined evaluations for 3Q20 to combined_evaluation3Q20GPT3.xlsx\n"
     ]
    }
   ],
   "source": [
    "# Function to load, clean, and combine evaluation files\n",
    "def combine_evaluations(human_eval_file, gpt_output_file, final_output_file_path):\n",
    "    # Load the Excel files\n",
    "    human_eval_df = pd.read_excel(human_eval_file)\n",
    "    gpt_output_df = pd.read_excel(gpt_output_file)\n",
    "    \n",
    "    # Drop the sentence column from the GPT output file\n",
    "    gpt_output_df_cleaned = gpt_output_df.drop(columns=['Sentence'])\n",
    "    \n",
    "    # Concatenate the cleaned GPT output with the human evaluation file\n",
    "    final_df = pd.concat([human_eval_df, gpt_output_df_cleaned], axis=1)\n",
    "    \n",
    "    # Save the final dataframe to a new Excel file\n",
    "    final_df.to_excel(final_output_file_path, index=False)\n",
    "    \n",
    "    return final_output_file_path\n",
    "\n",
    "# Define the quarters and corresponding file paths\n",
    "quarters = {\n",
    "    '1Q24': ('1Q24 Earnings Human Evaluation.xlsx', 'gpt_sentiment_analysis_1Q24.xlsx', 'combined_evaluation1Q24GPT3.xlsx'),\n",
    "    '2Q23': ('2Q23 Earnings Human Evaluation.xlsx', 'gpt_sentiment_analysis_2Q23.xlsx', 'combined_evaluation2Q23GPT3.xlsx'),\n",
    "    '3Q20': ('3Q20 Earnings Human Evaluation.xlsx', 'gpt_sentiment_analysis_3Q20.xlsx', 'combined_evaluation3Q20GPT3.xlsx')\n",
    "}\n",
    "\n",
    "# Process each quarter\n",
    "for quarter, (human_eval_file, gpt_output_file, final_output_file_path) in quarters.items():\n",
    "    output_file = combine_evaluations(human_eval_file, gpt_output_file, final_output_file_path)\n",
    "    print(f\"Processed and saved combined evaluations for {quarter} to {output_file}\")\n",
    "\n"
   ]
  },
  {
   "cell_type": "code",
   "execution_count": 145,
   "metadata": {},
   "outputs": [
    {
     "name": "stdout",
     "output_type": "stream",
     "text": [
      "Index(['Sentence', 'Human Evaluation', 'GPT 3.5'], dtype='object')\n"
     ]
    }
   ],
   "source": [
    "# Load the final combined file for Q3 2020 to check the columns\n",
    "df20 = pd.read_excel(\"combined_evaluation3Q20GPT3.xlsx\")\n",
    "df20.columns = df20.columns.str.strip()  # Remove any leading/trailing spaces in column names\n",
    "\n",
    "# Check the column names\n",
    "print(df20.columns)"
   ]
  },
  {
   "cell_type": "markdown",
   "metadata": {},
   "source": [
    "## Comparative Analysis of Human Evaluation and GPT-3.5 Sentiment Analysis Across All Quarters\n"
   ]
  },
  {
   "cell_type": "markdown",
   "metadata": {},
   "source": [
    "Q1 2024"
   ]
  },
  {
   "cell_type": "code",
   "execution_count": 146,
   "metadata": {},
   "outputs": [
    {
     "name": "stderr",
     "output_type": "stream",
     "text": [
      "C:\\Users\\mikep\\AppData\\Local\\Temp\\ipykernel_18416\\1937306806.py:3: FutureWarning: pandas.value_counts is deprecated and will be removed in a future version. Use pd.Series(obj).value_counts() instead.\n",
      "  human_eval=pd.value_counts(df24['Human Evaluation'])\n",
      "C:\\Users\\mikep\\AppData\\Local\\Temp\\ipykernel_18416\\1937306806.py:5: FutureWarning: pandas.value_counts is deprecated and will be removed in a future version. Use pd.Series(obj).value_counts() instead.\n",
      "  chatGPT3_eval=pd.value_counts(df24['GPT 3.5'])\n"
     ]
    }
   ],
   "source": [
    "df24= pd.read_excel(\"combined_evaluation1Q24GPT3.xlsx\")\n",
    "#human_eval\n",
    "human_eval=pd.value_counts(df24['Human Evaluation'])\n",
    "# ChatGPT4_eval\n",
    "chatGPT3_eval=pd.value_counts(df24['GPT 3.5'])"
   ]
  },
  {
   "cell_type": "code",
   "execution_count": 147,
   "metadata": {},
   "outputs": [
    {
     "name": "stdout",
     "output_type": "stream",
     "text": [
      "Agreement Rate: 41.48%\n",
      "Disagreement Rate: 58.52%\n",
      "Human Mean: 0.13, GPT 3.5 Mean: 0.72\n",
      "Human Std Dev: 0.55, GPT 3.5 Std Dev: 0.53\n",
      "Correlation: 0.41\n",
      "Accuracy: 0.41\n",
      "\n",
      "Confusion Matrix:\n",
      "[[ 14  16  17]\n",
      " [  6  83 251]\n",
      " [  0   2 110]]\n"
     ]
    },
    {
     "data": {
      "image/png": "[encoded data removed]",
      "text/plain": [
       "<Figure size 700x500 with 2 Axes>"
      ]
     },
     "metadata": {},
     "output_type": "display_data"
    }
   ],
   "source": [
    "# Calculate agreement and disagreement rates\n",
    "df24['Agreement'] = df24['Human Evaluation'] == df24['GPT 3.5']\n",
    "agreement_rate = df24['Agreement'].mean() * 100\n",
    "disagreement_rate = 100 - agreement_rate\n",
    "\n",
    "# Calculate mean and standard deviation for both human and ChatGPT-3.5 evaluations\n",
    "human_mean = df24['Human Evaluation'].mean()\n",
    "chatgpt_mean = df24['GPT 3.5'].mean()\n",
    "\n",
    "human_std = df24['Human Evaluation'].std()\n",
    "chatgpt_std = df24['GPT 3.5'].std()\n",
    "\n",
    "# Calculate the correlation between human and ChatGPT-3.5 evaluations\n",
    "correlation = df24['Human Evaluation'].corr(df24['GPT 3.5'])\n",
    "\n",
    "# Calculate accuracy\n",
    "accuracy = accuracy_score(df24['Human Evaluation'], df24['GPT 3.5'])\n",
    "\n",
    "# Generate a confusion matrix\n",
    "conf_matrix = confusion_matrix(df24['Human Evaluation'], df24['GPT 3.5'])\n",
    "\n",
    "# Output the results\n",
    "print(f\"Agreement Rate: {agreement_rate:.2f}%\")\n",
    "print(f\"Disagreement Rate: {disagreement_rate:.2f}%\")\n",
    "print(f\"Human Mean: {human_mean:.2f}, GPT 3.5 Mean: {chatgpt_mean:.2f}\")\n",
    "print(f\"Human Std Dev: {human_std:.2f}, GPT 3.5 Std Dev: {chatgpt_std:.2f}\")\n",
    "print(f\"Correlation: {correlation:.2f}\")\n",
    "print(f\"Accuracy: {accuracy:.2f}\")\n",
    "\n",
    "# Display the confusion matrix\n",
    "print(\"\\nConfusion Matrix:\")\n",
    "print(conf_matrix)\n",
    "\n",
    "# Plot the confusion matrix\n",
    "plt.figure(figsize=(7, 5))\n",
    "sns.heatmap(conf_matrix, annot=True, fmt=\"d\", cmap=\"Blues\", xticklabels=[-1, 0, 1], yticklabels=[-1, 0, 1])\n",
    "plt.xlabel('Predicted Label')\n",
    "plt.ylabel('True Label')\n",
    "plt.title('Confusion Matrix: Human Evaluation vs GPT-3.5 Evaluation')\n",
    "plt.show()"
   ]
  },
  {
   "cell_type": "markdown",
   "metadata": {},
   "source": [
    "Q2 2023"
   ]
  },
  {
   "cell_type": "code",
   "execution_count": 148,
   "metadata": {},
   "outputs": [
    {
     "name": "stderr",
     "output_type": "stream",
     "text": [
      "C:\\Users\\mikep\\AppData\\Local\\Temp\\ipykernel_18416\\4213600509.py:3: FutureWarning: pandas.value_counts is deprecated and will be removed in a future version. Use pd.Series(obj).value_counts() instead.\n",
      "  human_eval=pd.value_counts(df23['Human Evaluation'])\n",
      "C:\\Users\\mikep\\AppData\\Local\\Temp\\ipykernel_18416\\4213600509.py:5: FutureWarning: pandas.value_counts is deprecated and will be removed in a future version. Use pd.Series(obj).value_counts() instead.\n",
      "  chatGPT3_eval=pd.value_counts(df23['GPT 3.5'])\n"
     ]
    }
   ],
   "source": [
    "df23= pd.read_excel(\"combined_evaluation2Q23GPT3.xlsx\")\n",
    "#human_eval\n",
    "human_eval=pd.value_counts(df23['Human Evaluation'])\n",
    "# ChatGPT4_eval\n",
    "chatGPT3_eval=pd.value_counts(df23['GPT 3.5'])"
   ]
  },
  {
   "cell_type": "code",
   "execution_count": 149,
   "metadata": {},
   "outputs": [
    {
     "name": "stdout",
     "output_type": "stream",
     "text": [
      "Agreement Rate: 42.53%\n",
      "Disagreement Rate: 57.47%\n",
      "Human Mean: 0.15, GPT 3.5 Mean: 0.67\n",
      "Human Std Dev: 0.45, GPT 3.5 Std Dev: 0.53\n",
      "Correlation: 0.35\n",
      "Accuracy: 0.43\n",
      "\n",
      "Confusion Matrix:\n",
      "[[  9   9   2]\n",
      " [  6 124 278]\n",
      " [  0   9  92]]\n"
     ]
    },
    {
     "data": {
      "image/png": "[encoded data removed]",
      "text/plain": [
       "<Figure size 700x500 with 2 Axes>"
      ]
     },
     "metadata": {},
     "output_type": "display_data"
    }
   ],
   "source": [
    "# Calculate agreement and disagreement rates\n",
    "df23['Agreement'] = df23['Human Evaluation'] == df23['GPT 3.5']\n",
    "agreement_rate = df23['Agreement'].mean() * 100\n",
    "disagreement_rate = 100 - agreement_rate\n",
    "\n",
    "# Calculate mean and standard deviation for both human and ChatGPT-3.5 evaluations\n",
    "human_mean = df23['Human Evaluation'].mean()\n",
    "chatgpt_mean = df23['GPT 3.5'].mean()\n",
    "\n",
    "human_std = df23['Human Evaluation'].std()\n",
    "chatgpt_std = df23['GPT 3.5'].std()\n",
    "\n",
    "# Calculate the correlation between human and ChatGPT-3.5 evaluations\n",
    "correlation = df23['Human Evaluation'].corr(df23['GPT 3.5'])\n",
    "\n",
    "# Calculate accuracy\n",
    "accuracy = accuracy_score(df23['Human Evaluation'], df23['GPT 3.5'])\n",
    "\n",
    "# Generate a confusion matrix\n",
    "conf_matrix = confusion_matrix(df23['Human Evaluation'], df23['GPT 3.5'])\n",
    "\n",
    "# Output the results\n",
    "print(f\"Agreement Rate: {agreement_rate:.2f}%\")\n",
    "print(f\"Disagreement Rate: {disagreement_rate:.2f}%\")\n",
    "print(f\"Human Mean: {human_mean:.2f}, GPT 3.5 Mean: {chatgpt_mean:.2f}\")\n",
    "print(f\"Human Std Dev: {human_std:.2f}, GPT 3.5 Std Dev: {chatgpt_std:.2f}\")\n",
    "print(f\"Correlation: {correlation:.2f}\")\n",
    "print(f\"Accuracy: {accuracy:.2f}\")\n",
    "\n",
    "# Display the confusion matrix\n",
    "print(\"\\nConfusion Matrix:\")\n",
    "print(conf_matrix)\n",
    "\n",
    "# Plot the confusion matrix\n",
    "plt.figure(figsize=(7, 5))\n",
    "sns.heatmap(conf_matrix, annot=True, fmt=\"d\", cmap=\"Blues\", xticklabels=[-1, 0, 1], yticklabels=[-1, 0, 1])\n",
    "plt.xlabel('Predicted Label')\n",
    "plt.ylabel('True Label')\n",
    "plt.title('Confusion Matrix: Human Evaluation vs GPT-3.5 Evaluation')\n",
    "plt.show()"
   ]
  },
  {
   "cell_type": "markdown",
   "metadata": {},
   "source": [
    "Q3 2020"
   ]
  },
  {
   "cell_type": "code",
   "execution_count": 150,
   "metadata": {},
   "outputs": [],
   "source": [
    "df20= pd.read_excel(\"combined_evaluation3Q20GPT3.xlsx\")\n",
    "# Strip spaces from column names\n",
    "df20.columns = df20.columns.str.strip()"
   ]
  },
  {
   "cell_type": "code",
   "execution_count": 151,
   "metadata": {},
   "outputs": [
    {
     "name": "stdout",
     "output_type": "stream",
     "text": [
      "Index(['Sentence', 'Human Evaluation', 'GPT 3.5'], dtype='object')\n"
     ]
    }
   ],
   "source": [
    "# Check the column names\n",
    "print(df20.columns)"
   ]
  },
  {
   "cell_type": "code",
   "execution_count": 152,
   "metadata": {},
   "outputs": [
    {
     "name": "stderr",
     "output_type": "stream",
     "text": [
      "C:\\Users\\mikep\\AppData\\Local\\Temp\\ipykernel_18416\\1734166.py:2: FutureWarning: pandas.value_counts is deprecated and will be removed in a future version. Use pd.Series(obj).value_counts() instead.\n",
      "  human_eval=pd.value_counts(df20['Human Evaluation'])\n",
      "C:\\Users\\mikep\\AppData\\Local\\Temp\\ipykernel_18416\\1734166.py:4: FutureWarning: pandas.value_counts is deprecated and will be removed in a future version. Use pd.Series(obj).value_counts() instead.\n",
      "  chatGPT3_eval=pd.value_counts(df20['GPT 3.5'])\n"
     ]
    }
   ],
   "source": [
    "#human_eval\n",
    "human_eval=pd.value_counts(df20['Human Evaluation'])\n",
    "# ChatGPT3_eval\n",
    "chatGPT3_eval=pd.value_counts(df20['GPT 3.5'])"
   ]
  },
  {
   "cell_type": "code",
   "execution_count": 153,
   "metadata": {},
   "outputs": [
    {
     "name": "stdout",
     "output_type": "stream",
     "text": [
      "Agreement Rate: 56.74%\n",
      "Disagreement Rate: 43.26%\n",
      "Human Mean: 0.06, GPT 3.5 Mean: 0.37\n",
      "Human Std Dev: 0.60, GPT 3.5 Std Dev: 0.74\n",
      "Correlation: 0.57\n",
      "Accuracy: 0.57\n",
      "\n",
      "Confusion Matrix:\n",
      "[[ 59  21  10]\n",
      " [ 35 164 190]\n",
      " [  2   5 122]]\n"
     ]
    },
    {
     "data": {
      "image/png": "[encoded data removed]",
      "text/plain": [
       "<Figure size 700x500 with 2 Axes>"
      ]
     },
     "metadata": {},
     "output_type": "display_data"
    }
   ],
   "source": [
    "# Calculate agreement and disagreement rates\n",
    "df20['Agreement'] = df20['Human Evaluation'] == df20['GPT 3.5']\n",
    "agreement_rate = df20['Agreement'].mean() * 100\n",
    "disagreement_rate = 100 - agreement_rate\n",
    "\n",
    "# Calculate mean and standard deviation for both human and ChatGPT-3.5 evaluations\n",
    "human_mean = df20['Human Evaluation'].mean()\n",
    "chatgpt_mean = df20['GPT 3.5'].mean()\n",
    "\n",
    "human_std = df20['Human Evaluation'].std()\n",
    "chatgpt_std = df20['GPT 3.5'].std()\n",
    "\n",
    "# Calculate the correlation between human and ChatGPT-3.5 evaluations\n",
    "correlation = df20['Human Evaluation'].corr(df20['GPT 3.5'])\n",
    "\n",
    "# Calculate accuracy\n",
    "accuracy = accuracy_score(df20['Human Evaluation'], df20['GPT 3.5'])\n",
    "\n",
    "# Generate a confusion matrix\n",
    "conf_matrix = confusion_matrix(df20['Human Evaluation'], df20['GPT 3.5'])\n",
    "\n",
    "# Output the results\n",
    "print(f\"Agreement Rate: {agreement_rate:.2f}%\")\n",
    "print(f\"Disagreement Rate: {disagreement_rate:.2f}%\")\n",
    "print(f\"Human Mean: {human_mean:.2f}, GPT 3.5 Mean: {chatgpt_mean:.2f}\")\n",
    "print(f\"Human Std Dev: {human_std:.2f}, GPT 3.5 Std Dev: {chatgpt_std:.2f}\")\n",
    "print(f\"Correlation: {correlation:.2f}\")\n",
    "print(f\"Accuracy: {accuracy:.2f}\")\n",
    "\n",
    "# Display the confusion matrix\n",
    "print(\"\\nConfusion Matrix:\")\n",
    "print(conf_matrix)\n",
    "\n",
    "# Plot the confusion matrix\n",
    "plt.figure(figsize=(7, 5))\n",
    "sns.heatmap(conf_matrix, annot=True, fmt=\"d\", cmap=\"Blues\", xticklabels=[-1, 0, 1], yticklabels=[-1, 0, 1])\n",
    "plt.xlabel('Predicted Label')\n",
    "plt.ylabel('True Label')\n",
    "plt.title('Confusion Matrix: Human Evaluation vs GPT-3.5 Evaluation')\n",
    "plt.show()"
   ]
  },
  {
   "cell_type": "code",
   "execution_count": 154,
   "metadata": {},
   "outputs": [
    {
     "name": "stderr",
     "output_type": "stream",
     "text": [
      "C:\\Users\\mikep\\AppData\\Local\\Temp\\ipykernel_18416\\1453666084.py:45: FutureWarning: pandas.value_counts is deprecated and will be removed in a future version. Use pd.Series(obj).value_counts() instead.\n",
      "  human_eval_24 = pd.value_counts(df24['Human Evaluation'])\n",
      "C:\\Users\\mikep\\AppData\\Local\\Temp\\ipykernel_18416\\1453666084.py:46: FutureWarning: pandas.value_counts is deprecated and will be removed in a future version. Use pd.Series(obj).value_counts() instead.\n",
      "  gpt3_eval_24 = pd.value_counts(df24['GPT 3.5'])\n"
     ]
    },
    {
     "data": {
      "image/png": "[encoded data removed]",
      "text/plain": [
       "<Figure size 1000x600 with 1 Axes>"
      ]
     },
     "metadata": {},
     "output_type": "display_data"
    },
    {
     "name": "stderr",
     "output_type": "stream",
     "text": [
      "C:\\Users\\mikep\\AppData\\Local\\Temp\\ipykernel_18416\\1453666084.py:52: FutureWarning: pandas.value_counts is deprecated and will be removed in a future version. Use pd.Series(obj).value_counts() instead.\n",
      "  human_eval_23 = pd.value_counts(df23['Human Evaluation'])\n",
      "C:\\Users\\mikep\\AppData\\Local\\Temp\\ipykernel_18416\\1453666084.py:53: FutureWarning: pandas.value_counts is deprecated and will be removed in a future version. Use pd.Series(obj).value_counts() instead.\n",
      "  gpt3_eval_23 = pd.value_counts(df23['GPT 3.5'])\n"
     ]
    },
    {
     "data": {
      "image/png": "[encoded data removed]",
      "text/plain": [
       "<Figure size 1000x600 with 1 Axes>"
      ]
     },
     "metadata": {},
     "output_type": "display_data"
    },
    {
     "name": "stderr",
     "output_type": "stream",
     "text": [
      "C:\\Users\\mikep\\AppData\\Local\\Temp\\ipykernel_18416\\1453666084.py:60: FutureWarning: pandas.value_counts is deprecated and will be removed in a future version. Use pd.Series(obj).value_counts() instead.\n",
      "  human_eval_20 = pd.value_counts(df20['Human Evaluation'])\n",
      "C:\\Users\\mikep\\AppData\\Local\\Temp\\ipykernel_18416\\1453666084.py:61: FutureWarning: pandas.value_counts is deprecated and will be removed in a future version. Use pd.Series(obj).value_counts() instead.\n",
      "  gpt3_eval_20 = pd.value_counts(df20['GPT 3.5'])\n"
     ]
    },
    {
     "data": {
      "image/png": "[encoded data removed]",
      "text/plain": [
       "<Figure size 1000x600 with 1 Axes>"
      ]
     },
     "metadata": {},
     "output_type": "display_data"
    }
   ],
   "source": [
    "def plot_human_vs_gpt3(human_eval, gpt3_eval, title_suffix):\n",
    "    \"\"\"\n",
    "    Plots the comparison between human evaluation and GPT-3.5 evaluation.\n",
    "    \n",
    "    Parameters:\n",
    "    - human_eval: Series containing human evaluation counts.\n",
    "    - gpt3_eval: Series containing GPT-3.5 evaluation counts.\n",
    "    - title_suffix: Suffix to append to the plot title for specifying the quarter.\n",
    "    \"\"\"\n",
    "    # Convert the value counts to DataFrames to align the indices\n",
    "    human_eval_df = human_eval.sort_index().reset_index()\n",
    "    human_eval_df.columns = ['Score', 'Human Evaluation']\n",
    "\n",
    "    gpt3_eval_df = gpt3_eval.sort_index().reset_index()\n",
    "    gpt3_eval_df.columns = ['Score', 'GPT 3.5']\n",
    "\n",
    "    # Merge the two DataFrames on 'Score'\n",
    "    combined_df = pd.merge(human_eval_df, gpt3_eval_df, on='Score', how='outer').fillna(0)\n",
    "\n",
    "    # Set the 'Score' as the index for plotting\n",
    "    combined_df.set_index('Score', inplace=True)\n",
    "\n",
    "    # Plot the bar chart\n",
    "    ax = combined_df.plot(kind='bar', figsize=(10, 6), color=['blue', 'orange'])\n",
    "\n",
    "    # Add title and labels\n",
    "    plt.title(f'Human Evaluation vs GPT-3.5 Evaluation {title_suffix}')\n",
    "    plt.xlabel('Evaluation Score')\n",
    "    plt.ylabel('Count')\n",
    "\n",
    "    # Add numbers on top of each bar\n",
    "    for container in ax.containers:\n",
    "        ax.bar_label(container, label_type='edge') \n",
    "\n",
    "    # Adjust layout to make room for the legend\n",
    "    plt.tight_layout()\n",
    "\n",
    "    # Display the plot\n",
    "    plt.show()\n",
    "\n",
    "# Read data and plot for each quarter\n",
    "\n",
    "# Q1 2024\n",
    "df24 = pd.read_excel(\"combined_evaluation1Q24GPT3.xlsx\")\n",
    "human_eval_24 = pd.value_counts(df24['Human Evaluation'])\n",
    "gpt3_eval_24 = pd.value_counts(df24['GPT 3.5'])\n",
    "\n",
    "plot_human_vs_gpt3(human_eval=human_eval_24, gpt3_eval=gpt3_eval_24, title_suffix='for Q1 2024')\n",
    "\n",
    "# Q2 2023\n",
    "df23 = pd.read_excel(\"combined_evaluation2Q23GPT3.xlsx\")\n",
    "human_eval_23 = pd.value_counts(df23['Human Evaluation'])\n",
    "gpt3_eval_23 = pd.value_counts(df23['GPT 3.5'])\n",
    "\n",
    "plot_human_vs_gpt3(human_eval=human_eval_23, gpt3_eval=gpt3_eval_23, title_suffix='for Q2 2023')\n",
    "\n",
    "# Q3 2020\n",
    "df20 = pd.read_excel(\"combined_evaluation3Q20GPT3.xlsx\")\n",
    "df20.columns = df20.columns.str.strip()  # Strip spaces from column names\n",
    "human_eval_20 = pd.value_counts(df20['Human Evaluation'])\n",
    "gpt3_eval_20 = pd.value_counts(df20['GPT 3.5'])\n",
    "\n",
    "plot_human_vs_gpt3(human_eval=human_eval_20, gpt3_eval=gpt3_eval_20, title_suffix='for Q3 2020')"
   ]
  },
  {
   "cell_type": "markdown",
   "metadata": {},
   "source": [
    "# ChatGPT4 "
   ]
  },
  {
   "cell_type": "markdown",
   "metadata": {},
   "source": [
    "Prompt used: \"as a trader in the bank with 20 years of experience in the stock market I want you to read the parsed earning call and score each sentence (negative: -1, natural: 0 and positive: 1). How is each sentence important to make your decision after the earning call and to make you decision to either buy, sell or hold\""
   ]
  },
  {
   "cell_type": "markdown",
   "metadata": {},
   "source": [
    "## Comparative Analysis of Human Evaluation and GPT-4 Sentiment Analysis Across All Quarters\n"
   ]
  },
  {
   "cell_type": "markdown",
   "metadata": {},
   "source": [
    "1Q24"
   ]
  },
  {
   "cell_type": "code",
   "execution_count": 155,
   "metadata": {},
   "outputs": [
    {
     "data": {
      "text/html": [
       "<div>\n",
       "<style scoped>\n",
       "    .dataframe tbody tr th:only-of-type {\n",
       "        vertical-align: middle;\n",
       "    }\n",
       "\n",
       "    .dataframe tbody tr th {\n",
       "        vertical-align: top;\n",
       "    }\n",
       "\n",
       "    .dataframe thead th {\n",
       "        text-align: right;\n",
       "    }\n",
       "</style>\n",
       "<table border=\"1\" class=\"dataframe\">\n",
       "  <thead>\n",
       "    <tr style=\"text-align: right;\">\n",
       "      <th></th>\n",
       "      <th>Sentence</th>\n",
       "      <th>Human Evaluation</th>\n",
       "      <th>ChatGPT4 Evaluation</th>\n",
       "    </tr>\n",
       "  </thead>\n",
       "  <tbody>\n",
       "    <tr>\n",
       "      <th>0</th>\n",
       "      <td>ExxonMobil First Quarter 2024 Earnings Call T...</td>\n",
       "      <td>0</td>\n",
       "      <td>0</td>\n",
       "    </tr>\n",
       "    <tr>\n",
       "      <th>1</th>\n",
       "      <td>Today ’s call is being recorded.</td>\n",
       "      <td>0</td>\n",
       "      <td>0</td>\n",
       "    </tr>\n",
       "    <tr>\n",
       "      <th>2</th>\n",
       "      <td>I ’ll now turn it over to Ms. Marina Matselins...</td>\n",
       "      <td>0</td>\n",
       "      <td>0</td>\n",
       "    </tr>\n",
       "    <tr>\n",
       "      <th>3</th>\n",
       "      <td>Please go ahead .</td>\n",
       "      <td>0</td>\n",
       "      <td>0</td>\n",
       "    </tr>\n",
       "    <tr>\n",
       "      <th>4</th>\n",
       "      <td>Marina Matselinskaya : Good morning, everyone.</td>\n",
       "      <td>0</td>\n",
       "      <td>0</td>\n",
       "    </tr>\n",
       "    <tr>\n",
       "      <th>5</th>\n",
       "      <td>Welcome to ExxonMobil’s first -quarter 2024 ea...</td>\n",
       "      <td>0</td>\n",
       "      <td>0</td>\n",
       "    </tr>\n",
       "    <tr>\n",
       "      <th>6</th>\n",
       "      <td>We appreciate you joining the call today.</td>\n",
       "      <td>0</td>\n",
       "      <td>0</td>\n",
       "    </tr>\n",
       "    <tr>\n",
       "      <th>7</th>\n",
       "      <td>I’m Marina Matselinskaya, Director of Investor...</td>\n",
       "      <td>0</td>\n",
       "      <td>0</td>\n",
       "    </tr>\n",
       "    <tr>\n",
       "      <th>8</th>\n",
       "      <td>I’m joined by Darren Woods, Chairman and CEO, ...</td>\n",
       "      <td>0</td>\n",
       "      <td>0</td>\n",
       "    </tr>\n",
       "    <tr>\n",
       "      <th>9</th>\n",
       "      <td>This presentation and prerecorded remarks are ...</td>\n",
       "      <td>0</td>\n",
       "      <td>0</td>\n",
       "    </tr>\n",
       "  </tbody>\n",
       "</table>\n",
       "</div>"
      ],
      "text/plain": [
       "                                            Sentence  Human Evaluation  \\\n",
       "0   ExxonMobil First Quarter 2024 Earnings Call T...                 0   \n",
       "1                   Today ’s call is being recorded.                 0   \n",
       "2  I ’ll now turn it over to Ms. Marina Matselins...                 0   \n",
       "3                                  Please go ahead .                 0   \n",
       "4     Marina Matselinskaya : Good morning, everyone.                 0   \n",
       "5  Welcome to ExxonMobil’s first -quarter 2024 ea...                 0   \n",
       "6          We appreciate you joining the call today.                 0   \n",
       "7  I’m Marina Matselinskaya, Director of Investor...                 0   \n",
       "8  I’m joined by Darren Woods, Chairman and CEO, ...                 0   \n",
       "9  This presentation and prerecorded remarks are ...                 0   \n",
       "\n",
       "   ChatGPT4 Evaluation  \n",
       "0                    0  \n",
       "1                    0  \n",
       "2                    0  \n",
       "3                    0  \n",
       "4                    0  \n",
       "5                    0  \n",
       "6                    0  \n",
       "7                    0  \n",
       "8                    0  \n",
       "9                    0  "
      ]
     },
     "execution_count": 155,
     "metadata": {},
     "output_type": "execute_result"
    }
   ],
   "source": [
    "dff24= pd.read_excel(\"1Q24 Earnings Evaluation.xlsx\")\n",
    "dff24.head(10)"
   ]
  },
  {
   "cell_type": "code",
   "execution_count": 156,
   "metadata": {},
   "outputs": [
    {
     "name": "stdout",
     "output_type": "stream",
     "text": [
      "Agreement Rate: 66.93%\n",
      "Disagreement Rate: 33.07%\n",
      "Human Mean: 0.13, GPT 4 Mean: 0.04\n",
      "Human Std Dev: 0.55, GPT 4 Std Dev: 0.30\n",
      "Correlation: 0.14\n",
      "Accuracy: 0.67\n",
      "\n",
      "Confusion Matrix:\n",
      "[[  6  38   3]\n",
      " [  6 316  18]\n",
      " [  1  99  12]]\n"
     ]
    }
   ],
   "source": [
    "# Calculate agreement and disagreement rates\n",
    "dff24['Agreement'] = dff24['Human Evaluation'] == dff24['ChatGPT4 Evaluation']\n",
    "agreement_rate = dff24['Agreement'].mean() * 100\n",
    "disagreement_rate = 100 - agreement_rate\n",
    "\n",
    "# Calculate mean and standard deviation for both human and ChatGPT-3.5 evaluations\n",
    "human_mean = dff24['Human Evaluation'].mean()\n",
    "chatgpt_mean = dff24['ChatGPT4 Evaluation'].mean()\n",
    "\n",
    "human_std = dff24['Human Evaluation'].std()\n",
    "chatgpt_std = dff24['ChatGPT4 Evaluation'].std()\n",
    "\n",
    "# Calculate the correlation between human and ChatGPT-3.5 evaluations\n",
    "correlation = dff24['Human Evaluation'].corr(dff24['ChatGPT4 Evaluation'])\n",
    "\n",
    "# Calculate accuracy\n",
    "accuracy = accuracy_score(dff24['Human Evaluation'], dff24['ChatGPT4 Evaluation'])\n",
    "\n",
    "# Generate a confusion matrix\n",
    "conf_matrix = confusion_matrix(dff24['Human Evaluation'], dff24['ChatGPT4 Evaluation'])\n",
    "\n",
    "# Output the results\n",
    "print(f\"Agreement Rate: {agreement_rate:.2f}%\")\n",
    "print(f\"Disagreement Rate: {disagreement_rate:.2f}%\")\n",
    "print(f\"Human Mean: {human_mean:.2f}, GPT 4 Mean: {chatgpt_mean:.2f}\")\n",
    "print(f\"Human Std Dev: {human_std:.2f}, GPT 4 Std Dev: {chatgpt_std:.2f}\")\n",
    "print(f\"Correlation: {correlation:.2f}\")\n",
    "print(f\"Accuracy: {accuracy:.2f}\")\n",
    "\n",
    "# Display the confusion matrix\n",
    "print(\"\\nConfusion Matrix:\")\n",
    "print(conf_matrix)\n"
   ]
  },
  {
   "cell_type": "markdown",
   "metadata": {},
   "source": [
    "2Q23"
   ]
  },
  {
   "cell_type": "code",
   "execution_count": 157,
   "metadata": {},
   "outputs": [
    {
     "data": {
      "text/html": [
       "<div>\n",
       "<style scoped>\n",
       "    .dataframe tbody tr th:only-of-type {\n",
       "        vertical-align: middle;\n",
       "    }\n",
       "\n",
       "    .dataframe tbody tr th {\n",
       "        vertical-align: top;\n",
       "    }\n",
       "\n",
       "    .dataframe thead th {\n",
       "        text-align: right;\n",
       "    }\n",
       "</style>\n",
       "<table border=\"1\" class=\"dataframe\">\n",
       "  <thead>\n",
       "    <tr style=\"text-align: right;\">\n",
       "      <th></th>\n",
       "      <th>Sentence</th>\n",
       "      <th>Human Evaluation</th>\n",
       "      <th>ChatGPT4 Evaluation</th>\n",
       "    </tr>\n",
       "  </thead>\n",
       "  <tbody>\n",
       "    <tr>\n",
       "      <th>0</th>\n",
       "      <td>ExxonMobil Second Quarter 2023 Earnings Call ...</td>\n",
       "      <td>0</td>\n",
       "      <td>0</td>\n",
       "    </tr>\n",
       "    <tr>\n",
       "      <th>1</th>\n",
       "      <td>Operator: Good day everyone, and welcome to th...</td>\n",
       "      <td>0</td>\n",
       "      <td>0</td>\n",
       "    </tr>\n",
       "    <tr>\n",
       "      <th>2</th>\n",
       "      <td>Today's call is being recorded.</td>\n",
       "      <td>0</td>\n",
       "      <td>0</td>\n",
       "    </tr>\n",
       "    <tr>\n",
       "      <th>3</th>\n",
       "      <td>At this time, I'd like to turn the call over t...</td>\n",
       "      <td>0</td>\n",
       "      <td>0</td>\n",
       "    </tr>\n",
       "    <tr>\n",
       "      <th>4</th>\n",
       "      <td>Jennifer Driscoll.</td>\n",
       "      <td>0</td>\n",
       "      <td>0</td>\n",
       "    </tr>\n",
       "    <tr>\n",
       "      <th>5</th>\n",
       "      <td>Please go ahead, ma’am.</td>\n",
       "      <td>0</td>\n",
       "      <td>0</td>\n",
       "    </tr>\n",
       "    <tr>\n",
       "      <th>6</th>\n",
       "      <td>Jennifer Driscoll: Good morning, everyone.</td>\n",
       "      <td>0</td>\n",
       "      <td>0</td>\n",
       "    </tr>\n",
       "    <tr>\n",
       "      <th>7</th>\n",
       "      <td>Welcome to ExxonMobil’s second -quarte r 2023 ...</td>\n",
       "      <td>0</td>\n",
       "      <td>0</td>\n",
       "    </tr>\n",
       "    <tr>\n",
       "      <th>8</th>\n",
       "      <td>I’m Jennifer Driscoll, Vice President - Invest...</td>\n",
       "      <td>0</td>\n",
       "      <td>0</td>\n",
       "    </tr>\n",
       "    <tr>\n",
       "      <th>9</th>\n",
       "      <td>I’m joined by Darren Woods, Chairman and CEO, ...</td>\n",
       "      <td>0</td>\n",
       "      <td>0</td>\n",
       "    </tr>\n",
       "  </tbody>\n",
       "</table>\n",
       "</div>"
      ],
      "text/plain": [
       "                                            Sentence  Human Evaluation  \\\n",
       "0   ExxonMobil Second Quarter 2023 Earnings Call ...                 0   \n",
       "1  Operator: Good day everyone, and welcome to th...                 0   \n",
       "2                    Today's call is being recorded.                 0   \n",
       "3  At this time, I'd like to turn the call over t...                 0   \n",
       "4                                 Jennifer Driscoll.                 0   \n",
       "5                            Please go ahead, ma’am.                 0   \n",
       "6         Jennifer Driscoll: Good morning, everyone.                 0   \n",
       "7  Welcome to ExxonMobil’s second -quarte r 2023 ...                 0   \n",
       "8  I’m Jennifer Driscoll, Vice President - Invest...                 0   \n",
       "9  I’m joined by Darren Woods, Chairman and CEO, ...                 0   \n",
       "\n",
       "   ChatGPT4 Evaluation  \n",
       "0                    0  \n",
       "1                    0  \n",
       "2                    0  \n",
       "3                    0  \n",
       "4                    0  \n",
       "5                    0  \n",
       "6                    0  \n",
       "7                    0  \n",
       "8                    0  \n",
       "9                    0  "
      ]
     },
     "execution_count": 157,
     "metadata": {},
     "output_type": "execute_result"
    }
   ],
   "source": [
    "dff23= pd.read_excel(\"2Q23 Earnings Evaluation.xlsx\")\n",
    "dff23.head(10)"
   ]
  },
  {
   "cell_type": "code",
   "execution_count": 158,
   "metadata": {},
   "outputs": [
    {
     "name": "stdout",
     "output_type": "stream",
     "text": [
      "Agreement Rate: 75.99%\n",
      "Disagreement Rate: 24.01%\n",
      "Human Mean: 0.15, GPT 4 Mean: 0.06\n",
      "Human Std Dev: 0.45, GPT 4 Std Dev: 0.31\n",
      "Correlation: 0.16\n",
      "Accuracy: 0.76\n",
      "\n",
      "Confusion Matrix:\n",
      "[[  3  16   1]\n",
      " [  4 381  23]\n",
      " [  3  80  18]]\n"
     ]
    }
   ],
   "source": [
    "# Calculate agreement and disagreement rates\n",
    "dff23['Agreement'] = dff23['Human Evaluation'] == dff23['ChatGPT4 Evaluation']\n",
    "agreement_rate = dff23['Agreement'].mean() * 100\n",
    "disagreement_rate = 100 - agreement_rate\n",
    "\n",
    "# Calculate mean and standard deviation for both human and ChatGPT-4 evaluations\n",
    "human_mean = dff23['Human Evaluation'].mean()\n",
    "chatgpt_mean = dff23['ChatGPT4 Evaluation'].mean()\n",
    "\n",
    "human_std = dff23['Human Evaluation'].std()\n",
    "chatgpt_std = dff23['ChatGPT4 Evaluation'].std()\n",
    "\n",
    "# Calculate the correlation between human and ChatGPT-4 evaluations\n",
    "correlation = dff23['Human Evaluation'].corr(dff23['ChatGPT4 Evaluation'])\n",
    "\n",
    "# Calculate accuracy\n",
    "accuracy = accuracy_score(dff23['Human Evaluation'], dff23['ChatGPT4 Evaluation'])\n",
    "\n",
    "# Generate a confusion matrix\n",
    "conf_matrix = confusion_matrix(dff23['Human Evaluation'], dff23['ChatGPT4 Evaluation'])\n",
    "\n",
    "# Output the results\n",
    "print(f\"Agreement Rate: {agreement_rate:.2f}%\")\n",
    "print(f\"Disagreement Rate: {disagreement_rate:.2f}%\")\n",
    "print(f\"Human Mean: {human_mean:.2f}, GPT 4 Mean: {chatgpt_mean:.2f}\")\n",
    "print(f\"Human Std Dev: {human_std:.2f}, GPT 4 Std Dev: {chatgpt_std:.2f}\")\n",
    "print(f\"Correlation: {correlation:.2f}\")\n",
    "print(f\"Accuracy: {accuracy:.2f}\")\n",
    "\n",
    "# Display the confusion matrix\n",
    "print(\"\\nConfusion Matrix:\")\n",
    "print(conf_matrix)\n"
   ]
  },
  {
   "cell_type": "markdown",
   "metadata": {},
   "source": [
    " 3Q20"
   ]
  },
  {
   "cell_type": "code",
   "execution_count": 159,
   "metadata": {},
   "outputs": [
    {
     "data": {
      "text/html": [
       "<div>\n",
       "<style scoped>\n",
       "    .dataframe tbody tr th:only-of-type {\n",
       "        vertical-align: middle;\n",
       "    }\n",
       "\n",
       "    .dataframe tbody tr th {\n",
       "        vertical-align: top;\n",
       "    }\n",
       "\n",
       "    .dataframe thead th {\n",
       "        text-align: right;\n",
       "    }\n",
       "</style>\n",
       "<table border=\"1\" class=\"dataframe\">\n",
       "  <thead>\n",
       "    <tr style=\"text-align: right;\">\n",
       "      <th></th>\n",
       "      <th>Sentence</th>\n",
       "      <th>Human Evaluation</th>\n",
       "      <th>ChatGPT4 Evaluation</th>\n",
       "    </tr>\n",
       "  </thead>\n",
       "  <tbody>\n",
       "    <tr>\n",
       "      <th>0</th>\n",
       "      <td>Exxon Mobil Corporation (NYSE:XOM) Q3 2020 Ear...</td>\n",
       "      <td>0</td>\n",
       "      <td>0</td>\n",
       "    </tr>\n",
       "    <tr>\n",
       "      <th>1</th>\n",
       "      <td>Today's call is being recorded.</td>\n",
       "      <td>0</td>\n",
       "      <td>0</td>\n",
       "    </tr>\n",
       "    <tr>\n",
       "      <th>2</th>\n",
       "      <td>At this time, I'd like to turn the call over t...</td>\n",
       "      <td>0</td>\n",
       "      <td>0</td>\n",
       "    </tr>\n",
       "    <tr>\n",
       "      <th>3</th>\n",
       "      <td>Please go ahead, sir.</td>\n",
       "      <td>0</td>\n",
       "      <td>0</td>\n",
       "    </tr>\n",
       "    <tr>\n",
       "      <th>4</th>\n",
       "      <td>Stephen Littleton: Thank you.</td>\n",
       "      <td>0</td>\n",
       "      <td>0</td>\n",
       "    </tr>\n",
       "    <tr>\n",
       "      <th>5</th>\n",
       "      <td>Good morning, everyone.</td>\n",
       "      <td>0</td>\n",
       "      <td>0</td>\n",
       "    </tr>\n",
       "    <tr>\n",
       "      <th>6</th>\n",
       "      <td>Welcome to our third quarter earnings call.</td>\n",
       "      <td>0</td>\n",
       "      <td>0</td>\n",
       "    </tr>\n",
       "    <tr>\n",
       "      <th>7</th>\n",
       "      <td>We appreciate your participation and continued...</td>\n",
       "      <td>0</td>\n",
       "      <td>0</td>\n",
       "    </tr>\n",
       "    <tr>\n",
       "      <th>8</th>\n",
       "      <td>I am Stephen Littleton, Vice President of Inve...</td>\n",
       "      <td>0</td>\n",
       "      <td>0</td>\n",
       "    </tr>\n",
       "    <tr>\n",
       "      <th>9</th>\n",
       "      <td>Before getting started, I wanted to say that I...</td>\n",
       "      <td>0</td>\n",
       "      <td>-1</td>\n",
       "    </tr>\n",
       "  </tbody>\n",
       "</table>\n",
       "</div>"
      ],
      "text/plain": [
       "                                            Sentence  Human Evaluation  \\\n",
       "0  Exxon Mobil Corporation (NYSE:XOM) Q3 2020 Ear...                 0   \n",
       "1                    Today's call is being recorded.                 0   \n",
       "2  At this time, I'd like to turn the call over t...                 0   \n",
       "3                              Please go ahead, sir.                 0   \n",
       "4                      Stephen Littleton: Thank you.                 0   \n",
       "5                            Good morning, everyone.                 0   \n",
       "6        Welcome to our third quarter earnings call.                 0   \n",
       "7  We appreciate your participation and continued...                 0   \n",
       "8  I am Stephen Littleton, Vice President of Inve...                 0   \n",
       "9  Before getting started, I wanted to say that I...                 0   \n",
       "\n",
       "   ChatGPT4 Evaluation  \n",
       "0                    0  \n",
       "1                    0  \n",
       "2                    0  \n",
       "3                    0  \n",
       "4                    0  \n",
       "5                    0  \n",
       "6                    0  \n",
       "7                    0  \n",
       "8                    0  \n",
       "9                   -1  "
      ]
     },
     "execution_count": 159,
     "metadata": {},
     "output_type": "execute_result"
    }
   ],
   "source": [
    "dff20= pd.read_excel(\"3Q20_Earnings Evaluation.xlsx\")\n",
    "dff20.head(10)"
   ]
  },
  {
   "cell_type": "code",
   "execution_count": 160,
   "metadata": {},
   "outputs": [
    {
     "name": "stdout",
     "output_type": "stream",
     "text": [
      "Agreement Rate: 65.95%\n",
      "Disagreement Rate: 34.05%\n",
      "Human Mean: 0.06, GPT 4 Mean: 0.05\n",
      "Human Std Dev: 0.60, GPT 4 Std Dev: 0.35\n",
      "Correlation: 0.23\n",
      "Accuracy: 0.66\n",
      "\n",
      "Confusion Matrix:\n",
      "[[ 13  71   6]\n",
      " [  8 362  19]\n",
      " [  2 101  26]]\n"
     ]
    }
   ],
   "source": [
    "# Calculate agreement and disagreement rates\n",
    "dff20['Agreement'] = dff20['Human Evaluation'] == dff20['ChatGPT4 Evaluation']\n",
    "agreement_rate = dff20['Agreement'].mean() * 100\n",
    "disagreement_rate = 100 - agreement_rate\n",
    "\n",
    "# Calculate mean and standard deviation for both human and ChatGPT-4 evaluations\n",
    "human_mean = dff20['Human Evaluation'].mean()\n",
    "chatgpt_mean = dff20['ChatGPT4 Evaluation'].mean()\n",
    "\n",
    "human_std = dff20['Human Evaluation'].std()\n",
    "chatgpt_std = dff20['ChatGPT4 Evaluation'].std()\n",
    "\n",
    "# Calculate the correlation between human and ChatGPT-4 evaluations\n",
    "correlation = dff20['Human Evaluation'].corr(dff20['ChatGPT4 Evaluation'])\n",
    "\n",
    "# Calculate accuracy\n",
    "accuracy = accuracy_score(dff20['Human Evaluation'], dff20['ChatGPT4 Evaluation'])\n",
    "\n",
    "# Generate a confusion matrix\n",
    "conf_matrix = confusion_matrix(dff20['Human Evaluation'], dff20['ChatGPT4 Evaluation'])\n",
    "\n",
    "# Output the results\n",
    "print(f\"Agreement Rate: {agreement_rate:.2f}%\")\n",
    "print(f\"Disagreement Rate: {disagreement_rate:.2f}%\")\n",
    "print(f\"Human Mean: {human_mean:.2f}, GPT 4 Mean: {chatgpt_mean:.2f}\")\n",
    "print(f\"Human Std Dev: {human_std:.2f}, GPT 4 Std Dev: {chatgpt_std:.2f}\")\n",
    "print(f\"Correlation: {correlation:.2f}\")\n",
    "print(f\"Accuracy: {accuracy:.2f}\")\n",
    "\n",
    "# Display the confusion matrix\n",
    "print(\"\\nConfusion Matrix:\")\n",
    "print(conf_matrix)\n"
   ]
  },
  {
   "cell_type": "code",
   "execution_count": 161,
   "metadata": {},
   "outputs": [
    {
     "name": "stderr",
     "output_type": "stream",
     "text": [
      "C:\\Users\\mikep\\AppData\\Local\\Temp\\ipykernel_18416\\896503958.py:48: FutureWarning: pandas.value_counts is deprecated and will be removed in a future version. Use pd.Series(obj).value_counts() instead.\n",
      "  human_eval_24 = pd.value_counts(dff24['Human Evaluation']).sort_index()\n",
      "C:\\Users\\mikep\\AppData\\Local\\Temp\\ipykernel_18416\\896503958.py:49: FutureWarning: pandas.value_counts is deprecated and will be removed in a future version. Use pd.Series(obj).value_counts() instead.\n",
      "  chatgpt4_eval_24 = pd.value_counts(dff24['ChatGPT4 Evaluation']).sort_index()\n"
     ]
    },
    {
     "data": {
      "image/png": "[encoded data removed]",
      "text/plain": [
       "<Figure size 1000x600 with 1 Axes>"
      ]
     },
     "metadata": {},
     "output_type": "display_data"
    },
    {
     "name": "stderr",
     "output_type": "stream",
     "text": [
      "C:\\Users\\mikep\\AppData\\Local\\Temp\\ipykernel_18416\\896503958.py:55: FutureWarning: pandas.value_counts is deprecated and will be removed in a future version. Use pd.Series(obj).value_counts() instead.\n",
      "  human_eval_23 = pd.value_counts(dff23['Human Evaluation']).sort_index()\n",
      "C:\\Users\\mikep\\AppData\\Local\\Temp\\ipykernel_18416\\896503958.py:56: FutureWarning: pandas.value_counts is deprecated and will be removed in a future version. Use pd.Series(obj).value_counts() instead.\n",
      "  chatgpt4_eval_23 = pd.value_counts(dff23['ChatGPT4 Evaluation']).sort_index()\n"
     ]
    },
    {
     "data": {
      "image/png": "[encoded data removed]",
      "text/plain": [
       "<Figure size 1000x600 with 1 Axes>"
      ]
     },
     "metadata": {},
     "output_type": "display_data"
    },
    {
     "name": "stderr",
     "output_type": "stream",
     "text": [
      "C:\\Users\\mikep\\AppData\\Local\\Temp\\ipykernel_18416\\896503958.py:62: FutureWarning: pandas.value_counts is deprecated and will be removed in a future version. Use pd.Series(obj).value_counts() instead.\n",
      "  human_eval_20 = pd.value_counts(dff20['Human Evaluation']).sort_index()\n",
      "C:\\Users\\mikep\\AppData\\Local\\Temp\\ipykernel_18416\\896503958.py:63: FutureWarning: pandas.value_counts is deprecated and will be removed in a future version. Use pd.Series(obj).value_counts() instead.\n",
      "  chatgpt4_eval_20 = pd.value_counts(dff20['ChatGPT4 Evaluation']).sort_index()\n"
     ]
    },
    {
     "data": {
      "image/png": "[encoded data removed]",
      "text/plain": [
       "<Figure size 1000x600 with 1 Axes>"
      ]
     },
     "metadata": {},
     "output_type": "display_data"
    }
   ],
   "source": [
    "import pandas as pd\n",
    "import matplotlib.pyplot as plt\n",
    "\n",
    "def plot_human_vs_chatgpt4(human_eval, chatgpt4_eval, title_suffix):\n",
    "    \"\"\"\n",
    "    Plots the comparison between human evaluation and ChatGPT-4 evaluation.\n",
    "    \n",
    "    Parameters:\n",
    "    - human_eval: Series containing human evaluation counts.\n",
    "    - chatgpt4_eval: Series containing ChatGPT-4 evaluation counts.\n",
    "    - title_suffix: Suffix to append to the plot title for specifying the quarter.\n",
    "    \"\"\"\n",
    "    # Convert the value counts to DataFrames to align the indices\n",
    "    human_eval_df = human_eval.sort_index().reset_index()\n",
    "    human_eval_df.columns = ['Score', 'Human Evaluation']\n",
    "\n",
    "    chatgpt4_eval_df = chatgpt4_eval.sort_index().reset_index()\n",
    "    chatgpt4_eval_df.columns = ['Score', 'ChatGPT4 Evaluation']\n",
    "\n",
    "    # Merge the two DataFrames on 'Score'\n",
    "    combined_df = pd.merge(human_eval_df, chatgpt4_eval_df, on='Score', how='outer').fillna(0)\n",
    "\n",
    "    # Set the 'Score' as the index for plotting\n",
    "    combined_df.set_index('Score', inplace=True)\n",
    "\n",
    "    # Plot the bar chart with specified colors\n",
    "    ax = combined_df.plot(kind='bar', figsize=(10, 6), color=['blue', 'purple'])\n",
    "\n",
    "    # Add title and labels\n",
    "    plt.title(f'Human vs ChatGPT-4 Evaluation {title_suffix}')\n",
    "    plt.xlabel('Scores')\n",
    "    plt.ylabel('Count')\n",
    "\n",
    "    # Add numbers on top of each bar\n",
    "    for container in ax.containers:\n",
    "        ax.bar_label(container, label_type='edge')\n",
    "\n",
    "    # Adjust layout to make room for the legend\n",
    "    plt.tight_layout()\n",
    "\n",
    "    # Display the plot\n",
    "    plt.show()\n",
    "\n",
    "# Read data and plot for each quarter\n",
    "\n",
    "# Q1 2024\n",
    "dff24 = pd.read_excel(\"1Q24 Earnings Evaluation.xlsx\")\n",
    "human_eval_24 = pd.value_counts(dff24['Human Evaluation']).sort_index()\n",
    "chatgpt4_eval_24 = pd.value_counts(dff24['ChatGPT4 Evaluation']).sort_index()\n",
    "\n",
    "plot_human_vs_chatgpt4(human_eval=human_eval_24, chatgpt4_eval=chatgpt4_eval_24, title_suffix='1Q 24')\n",
    "\n",
    "# Q2 2023\n",
    "dff23 = pd.read_excel(\"2Q23 Earnings Evaluation.xlsx\")\n",
    "human_eval_23 = pd.value_counts(dff23['Human Evaluation']).sort_index()\n",
    "chatgpt4_eval_23 = pd.value_counts(dff23['ChatGPT4 Evaluation']).sort_index()\n",
    "\n",
    "plot_human_vs_chatgpt4(human_eval=human_eval_23, chatgpt4_eval=chatgpt4_eval_23, title_suffix='2Q 23')\n",
    "\n",
    "# Q3 2020\n",
    "dff20 = pd.read_excel(\"3Q20_Earnings Evaluation.xlsx\")\n",
    "human_eval_20 = pd.value_counts(dff20['Human Evaluation']).sort_index()\n",
    "chatgpt4_eval_20 = pd.value_counts(dff20['ChatGPT4 Evaluation']).sort_index()\n",
    "\n",
    "plot_human_vs_chatgpt4(human_eval=human_eval_20, chatgpt4_eval=chatgpt4_eval_20, title_suffix='3Q 20')\n"
   ]
  },
  {
   "cell_type": "markdown",
   "metadata": {},
   "source": [
    "# Gemini "
   ]
  },
  {
   "cell_type": "markdown",
   "metadata": {},
   "source": [
    "Prompt used: \" you are a finance expert with 40 years of experience. I want you to grade each sentence of this earning transcript and give a sentiment score of either 1, 0 or -1 representing (positive sentiment, neutral and negative sentiment for investor). Your analysis should be based on the perspective of a senior stock trader who is analyzing Exxon earning call transcript. Please provide me with your answer in a excel file\" "
   ]
  },
  {
   "cell_type": "markdown",
   "metadata": {},
   "source": [
    "## Comparative Analysis of Human Evaluation and Gemini Sentiment Analysis Across All Quarters"
   ]
  },
  {
   "cell_type": "markdown",
   "metadata": {},
   "source": [
    "1Q24"
   ]
  },
  {
   "cell_type": "code",
   "execution_count": 162,
   "metadata": {},
   "outputs": [
    {
     "data": {
      "text/html": [
       "<div>\n",
       "<style scoped>\n",
       "    .dataframe tbody tr th:only-of-type {\n",
       "        vertical-align: middle;\n",
       "    }\n",
       "\n",
       "    .dataframe tbody tr th {\n",
       "        vertical-align: top;\n",
       "    }\n",
       "\n",
       "    .dataframe thead th {\n",
       "        text-align: right;\n",
       "    }\n",
       "</style>\n",
       "<table border=\"1\" class=\"dataframe\">\n",
       "  <thead>\n",
       "    <tr style=\"text-align: right;\">\n",
       "      <th></th>\n",
       "      <th>Sentence</th>\n",
       "      <th>Gemini Evaluation</th>\n",
       "      <th>Human Evaluation</th>\n",
       "    </tr>\n",
       "  </thead>\n",
       "  <tbody>\n",
       "    <tr>\n",
       "      <th>0</th>\n",
       "      <td>Excerpt from ExxonMobil 1Q24 Earnings Call 1 ...</td>\n",
       "      <td>0</td>\n",
       "      <td>0</td>\n",
       "    </tr>\n",
       "    <tr>\n",
       "      <th>1</th>\n",
       "      <td>Today ’s call is being recorded.</td>\n",
       "      <td>1</td>\n",
       "      <td>0</td>\n",
       "    </tr>\n",
       "    <tr>\n",
       "      <th>2</th>\n",
       "      <td>I ’ll now turn it over to Ms. Marina Matselins...</td>\n",
       "      <td>0</td>\n",
       "      <td>0</td>\n",
       "    </tr>\n",
       "    <tr>\n",
       "      <th>3</th>\n",
       "      <td>Please go ahead .</td>\n",
       "      <td>0</td>\n",
       "      <td>0</td>\n",
       "    </tr>\n",
       "    <tr>\n",
       "      <th>4</th>\n",
       "      <td>Marina Matselinskaya : Good morning, everyone.</td>\n",
       "      <td>0</td>\n",
       "      <td>0</td>\n",
       "    </tr>\n",
       "    <tr>\n",
       "      <th>5</th>\n",
       "      <td>Welcome to ExxonMobil’s first -quarter 2024 ea...</td>\n",
       "      <td>0</td>\n",
       "      <td>0</td>\n",
       "    </tr>\n",
       "    <tr>\n",
       "      <th>6</th>\n",
       "      <td>We appreciate you joining the call today.</td>\n",
       "      <td>0</td>\n",
       "      <td>0</td>\n",
       "    </tr>\n",
       "    <tr>\n",
       "      <th>7</th>\n",
       "      <td>I’m Marina Matselinskaya, Director of Investor...</td>\n",
       "      <td>0</td>\n",
       "      <td>0</td>\n",
       "    </tr>\n",
       "    <tr>\n",
       "      <th>8</th>\n",
       "      <td>I’m joined by Darren Woods, Chairman and CEO, ...</td>\n",
       "      <td>0</td>\n",
       "      <td>0</td>\n",
       "    </tr>\n",
       "    <tr>\n",
       "      <th>9</th>\n",
       "      <td>This presentation and prerecorded remarks are ...</td>\n",
       "      <td>1</td>\n",
       "      <td>0</td>\n",
       "    </tr>\n",
       "  </tbody>\n",
       "</table>\n",
       "</div>"
      ],
      "text/plain": [
       "                                            Sentence  Gemini Evaluation   \\\n",
       "0   Excerpt from ExxonMobil 1Q24 Earnings Call 1 ...                   0   \n",
       "1                   Today ’s call is being recorded.                   1   \n",
       "2  I ’ll now turn it over to Ms. Marina Matselins...                   0   \n",
       "3                                  Please go ahead .                   0   \n",
       "4     Marina Matselinskaya : Good morning, everyone.                   0   \n",
       "5  Welcome to ExxonMobil’s first -quarter 2024 ea...                   0   \n",
       "6          We appreciate you joining the call today.                   0   \n",
       "7  I’m Marina Matselinskaya, Director of Investor...                   0   \n",
       "8  I’m joined by Darren Woods, Chairman and CEO, ...                   0   \n",
       "9  This presentation and prerecorded remarks are ...                   1   \n",
       "\n",
       "   Human Evaluation  \n",
       "0                 0  \n",
       "1                 0  \n",
       "2                 0  \n",
       "3                 0  \n",
       "4                 0  \n",
       "5                 0  \n",
       "6                 0  \n",
       "7                 0  \n",
       "8                 0  \n",
       "9                 0  "
      ]
     },
     "execution_count": 162,
     "metadata": {},
     "output_type": "execute_result"
    }
   ],
   "source": [
    "dfq24= pd.read_excel(\"1Q24 Earnings Gemini.xlsx\")\n",
    "dfq24.head(10)"
   ]
  },
  {
   "cell_type": "code",
   "execution_count": 163,
   "metadata": {},
   "outputs": [],
   "source": [
    "dfq24.columns = dfq24.columns.str.strip()"
   ]
  },
  {
   "cell_type": "code",
   "execution_count": 164,
   "metadata": {},
   "outputs": [
    {
     "name": "stdout",
     "output_type": "stream",
     "text": [
      "Agreement Rate: 66.93%\n",
      "Disagreement Rate: 33.07%\n",
      "Human Mean: 0.13, Gemini Mean: 0.11\n",
      "Human Std Dev: 0.55, Gemini Std Dev: 0.36\n",
      "Correlation: 0.20\n",
      "Accuracy: 0.67\n",
      "\n",
      "Confusion Matrix:\n",
      "[[  2  42   3]\n",
      " [  5 304  31]\n",
      " [  0  84  28]]\n"
     ]
    }
   ],
   "source": [
    "# Calculate agreement and disagreement rates\n",
    "dfq24['Agreement'] = dfq24['Human Evaluation'] == dfq24['Gemini Evaluation']\n",
    "agreement_rate = dfq24['Agreement'].mean() * 100\n",
    "disagreement_rate = 100 - agreement_rate\n",
    "\n",
    "# Calculate mean and standard deviation for both human and ChatGPT-3.5 evaluations\n",
    "human_mean = dfq24['Human Evaluation'].mean()\n",
    "gemini_mean = dfq24['Gemini Evaluation'].mean()\n",
    "\n",
    "human_std = dfq24['Human Evaluation'].std()\n",
    "gemini_std = dfq24['Gemini Evaluation'].std()\n",
    "\n",
    "# Calculate the correlation between human and ChatGPT-3.5 evaluations\n",
    "correlation = dfq24['Human Evaluation'].corr(dfq24['Gemini Evaluation'])\n",
    "\n",
    "# Calculate accuracy\n",
    "accuracy = accuracy_score(dfq24['Human Evaluation'], dfq24['Gemini Evaluation'])\n",
    "\n",
    "# Generate a confusion matrix\n",
    "conf_matrix = confusion_matrix(dfq24['Human Evaluation'], dfq24['Gemini Evaluation'])\n",
    "\n",
    "# Output the results\n",
    "print(f\"Agreement Rate: {agreement_rate:.2f}%\")\n",
    "print(f\"Disagreement Rate: {disagreement_rate:.2f}%\")\n",
    "print(f\"Human Mean: {human_mean:.2f}, Gemini Mean: {gemini_mean:.2f}\")\n",
    "print(f\"Human Std Dev: {human_std:.2f}, Gemini Std Dev: {gemini_std:.2f}\")\n",
    "print(f\"Correlation: {correlation:.2f}\")\n",
    "print(f\"Accuracy: {accuracy:.2f}\")\n",
    "\n",
    "# Display the confusion matrix\n",
    "print(\"\\nConfusion Matrix:\")\n",
    "print(conf_matrix)\n"
   ]
  },
  {
   "cell_type": "markdown",
   "metadata": {},
   "source": [
    "2Q23"
   ]
  },
  {
   "cell_type": "code",
   "execution_count": 165,
   "metadata": {},
   "outputs": [
    {
     "data": {
      "text/html": [
       "<div>\n",
       "<style scoped>\n",
       "    .dataframe tbody tr th:only-of-type {\n",
       "        vertical-align: middle;\n",
       "    }\n",
       "\n",
       "    .dataframe tbody tr th {\n",
       "        vertical-align: top;\n",
       "    }\n",
       "\n",
       "    .dataframe thead th {\n",
       "        text-align: right;\n",
       "    }\n",
       "</style>\n",
       "<table border=\"1\" class=\"dataframe\">\n",
       "  <thead>\n",
       "    <tr style=\"text-align: right;\">\n",
       "      <th></th>\n",
       "      <th>Sentence</th>\n",
       "      <th>Gemini Evaluation</th>\n",
       "      <th>Human Evaluation</th>\n",
       "    </tr>\n",
       "  </thead>\n",
       "  <tbody>\n",
       "    <tr>\n",
       "      <th>0</th>\n",
       "      <td>ExxonMobil Second Quarter 2023 Earnings Call ...</td>\n",
       "      <td>0</td>\n",
       "      <td>0</td>\n",
       "    </tr>\n",
       "    <tr>\n",
       "      <th>1</th>\n",
       "      <td>Operator: Good day everyone, and welcome to th...</td>\n",
       "      <td>0</td>\n",
       "      <td>0</td>\n",
       "    </tr>\n",
       "    <tr>\n",
       "      <th>2</th>\n",
       "      <td>Today's call is being recorded.</td>\n",
       "      <td>1</td>\n",
       "      <td>0</td>\n",
       "    </tr>\n",
       "    <tr>\n",
       "      <th>3</th>\n",
       "      <td>At this time, I'd like to turn the call over t...</td>\n",
       "      <td>0</td>\n",
       "      <td>0</td>\n",
       "    </tr>\n",
       "    <tr>\n",
       "      <th>4</th>\n",
       "      <td>Jennifer Driscoll.</td>\n",
       "      <td>0</td>\n",
       "      <td>0</td>\n",
       "    </tr>\n",
       "    <tr>\n",
       "      <th>5</th>\n",
       "      <td>Please go ahead, ma’am.</td>\n",
       "      <td>0</td>\n",
       "      <td>0</td>\n",
       "    </tr>\n",
       "    <tr>\n",
       "      <th>6</th>\n",
       "      <td>Jennifer Driscoll: Good morning, everyone.</td>\n",
       "      <td>0</td>\n",
       "      <td>0</td>\n",
       "    </tr>\n",
       "    <tr>\n",
       "      <th>7</th>\n",
       "      <td>Welcome to ExxonMobil’s second -quarte r 2023 ...</td>\n",
       "      <td>0</td>\n",
       "      <td>0</td>\n",
       "    </tr>\n",
       "    <tr>\n",
       "      <th>8</th>\n",
       "      <td>I’m Jennifer Driscoll, Vice President - Invest...</td>\n",
       "      <td>0</td>\n",
       "      <td>0</td>\n",
       "    </tr>\n",
       "    <tr>\n",
       "      <th>9</th>\n",
       "      <td>I’m joined by Darren Woods, Chairman and CEO, ...</td>\n",
       "      <td>0</td>\n",
       "      <td>0</td>\n",
       "    </tr>\n",
       "  </tbody>\n",
       "</table>\n",
       "</div>"
      ],
      "text/plain": [
       "                                            Sentence  Gemini Evaluation  \\\n",
       "0   ExxonMobil Second Quarter 2023 Earnings Call ...                  0   \n",
       "1  Operator: Good day everyone, and welcome to th...                  0   \n",
       "2                    Today's call is being recorded.                  1   \n",
       "3  At this time, I'd like to turn the call over t...                  0   \n",
       "4                                 Jennifer Driscoll.                  0   \n",
       "5                            Please go ahead, ma’am.                  0   \n",
       "6         Jennifer Driscoll: Good morning, everyone.                  0   \n",
       "7  Welcome to ExxonMobil’s second -quarte r 2023 ...                  0   \n",
       "8  I’m Jennifer Driscoll, Vice President - Invest...                  0   \n",
       "9  I’m joined by Darren Woods, Chairman and CEO, ...                  0   \n",
       "\n",
       "   Human Evaluation  \n",
       "0                 0  \n",
       "1                 0  \n",
       "2                 0  \n",
       "3                 0  \n",
       "4                 0  \n",
       "5                 0  \n",
       "6                 0  \n",
       "7                 0  \n",
       "8                 0  \n",
       "9                 0  "
      ]
     },
     "execution_count": 165,
     "metadata": {},
     "output_type": "execute_result"
    }
   ],
   "source": [
    "dfq23= pd.read_excel(\"2Q23 Earnings Gemini.xlsx\")\n",
    "dfq23.head(10)"
   ]
  },
  {
   "cell_type": "code",
   "execution_count": 166,
   "metadata": {},
   "outputs": [
    {
     "name": "stdout",
     "output_type": "stream",
     "text": [
      "Agreement Rate: 74.86%\n",
      "Disagreement Rate: 25.14%\n",
      "Human Mean: 0.15, Gemini Mean: 0.11\n",
      "Human Std Dev: 0.45, Gemini Std Dev: 0.33\n",
      "Correlation: 0.17\n",
      "Accuracy: 0.75\n",
      "\n",
      "Confusion Matrix:\n",
      "[[  0  18   2]\n",
      " [  3 371  34]\n",
      " [  1  75  25]]\n"
     ]
    }
   ],
   "source": [
    "# Calculate agreement and disagreement rates\n",
    "dfq23['Agreement'] = dfq23['Human Evaluation'] == dfq23['Gemini Evaluation']\n",
    "agreement_rate = dfq23['Agreement'].mean() * 100\n",
    "disagreement_rate = 100 - agreement_rate\n",
    "\n",
    "# Calculate mean and standard deviation for both human and ChatGPT-3.5 evaluations\n",
    "human_mean = dfq23['Human Evaluation'].mean()\n",
    "gemini_mean = dfq23['Gemini Evaluation'].mean()\n",
    "\n",
    "human_std = dfq23['Human Evaluation'].std()\n",
    "gemini_std = dfq23['Gemini Evaluation'].std()\n",
    "\n",
    "# Calculate the correlation between human and ChatGPT-3.5 evaluations\n",
    "correlation = dfq23['Human Evaluation'].corr(dfq23['Gemini Evaluation'])\n",
    "\n",
    "# Calculate accuracy\n",
    "accuracy = accuracy_score(dfq23['Human Evaluation'], dfq23['Gemini Evaluation'])\n",
    "\n",
    "# Generate a confusion matrix\n",
    "conf_matrix = confusion_matrix(dfq23['Human Evaluation'], dfq23['Gemini Evaluation'])\n",
    "\n",
    "# Output the results\n",
    "print(f\"Agreement Rate: {agreement_rate:.2f}%\")\n",
    "print(f\"Disagreement Rate: {disagreement_rate:.2f}%\")\n",
    "print(f\"Human Mean: {human_mean:.2f}, Gemini Mean: {gemini_mean:.2f}\")\n",
    "print(f\"Human Std Dev: {human_std:.2f}, Gemini Std Dev: {gemini_std:.2f}\")\n",
    "print(f\"Correlation: {correlation:.2f}\")\n",
    "print(f\"Accuracy: {accuracy:.2f}\")\n",
    "\n",
    "# Display the confusion matrix\n",
    "print(\"\\nConfusion Matrix:\")\n",
    "print(conf_matrix)\n"
   ]
  },
  {
   "cell_type": "markdown",
   "metadata": {},
   "source": [
    " 3Q20"
   ]
  },
  {
   "cell_type": "code",
   "execution_count": 167,
   "metadata": {},
   "outputs": [
    {
     "data": {
      "text/html": [
       "<div>\n",
       "<style scoped>\n",
       "    .dataframe tbody tr th:only-of-type {\n",
       "        vertical-align: middle;\n",
       "    }\n",
       "\n",
       "    .dataframe tbody tr th {\n",
       "        vertical-align: top;\n",
       "    }\n",
       "\n",
       "    .dataframe thead th {\n",
       "        text-align: right;\n",
       "    }\n",
       "</style>\n",
       "<table border=\"1\" class=\"dataframe\">\n",
       "  <thead>\n",
       "    <tr style=\"text-align: right;\">\n",
       "      <th></th>\n",
       "      <th>Sentence</th>\n",
       "      <th>Gemini Evaluation</th>\n",
       "      <th>Human Evaluation</th>\n",
       "    </tr>\n",
       "  </thead>\n",
       "  <tbody>\n",
       "    <tr>\n",
       "      <th>0</th>\n",
       "      <td>Exxon Mobil Corporation (NYSE:XOM) Q3 2020 Ear...</td>\n",
       "      <td>0</td>\n",
       "      <td>0</td>\n",
       "    </tr>\n",
       "    <tr>\n",
       "      <th>1</th>\n",
       "      <td>Today's call is being recorded.</td>\n",
       "      <td>1</td>\n",
       "      <td>0</td>\n",
       "    </tr>\n",
       "    <tr>\n",
       "      <th>2</th>\n",
       "      <td>At this time, I'd like to turn the call over t...</td>\n",
       "      <td>0</td>\n",
       "      <td>0</td>\n",
       "    </tr>\n",
       "    <tr>\n",
       "      <th>3</th>\n",
       "      <td>Please go ahead, sir.</td>\n",
       "      <td>0</td>\n",
       "      <td>0</td>\n",
       "    </tr>\n",
       "    <tr>\n",
       "      <th>4</th>\n",
       "      <td>Stephen Littleton: Thank you.</td>\n",
       "      <td>0</td>\n",
       "      <td>0</td>\n",
       "    </tr>\n",
       "    <tr>\n",
       "      <th>5</th>\n",
       "      <td>Good morning, everyone.</td>\n",
       "      <td>0</td>\n",
       "      <td>0</td>\n",
       "    </tr>\n",
       "    <tr>\n",
       "      <th>6</th>\n",
       "      <td>Welcome to our third quarter earnings call.</td>\n",
       "      <td>0</td>\n",
       "      <td>0</td>\n",
       "    </tr>\n",
       "    <tr>\n",
       "      <th>7</th>\n",
       "      <td>We appreciate your participation and continued...</td>\n",
       "      <td>0</td>\n",
       "      <td>0</td>\n",
       "    </tr>\n",
       "    <tr>\n",
       "      <th>8</th>\n",
       "      <td>I am Stephen Littleton, Vice President of Inve...</td>\n",
       "      <td>0</td>\n",
       "      <td>0</td>\n",
       "    </tr>\n",
       "    <tr>\n",
       "      <th>9</th>\n",
       "      <td>Before getting started, I wanted to say that I...</td>\n",
       "      <td>-1</td>\n",
       "      <td>0</td>\n",
       "    </tr>\n",
       "  </tbody>\n",
       "</table>\n",
       "</div>"
      ],
      "text/plain": [
       "                                            Sentence  Gemini Evaluation  \\\n",
       "0  Exxon Mobil Corporation (NYSE:XOM) Q3 2020 Ear...                  0   \n",
       "1                    Today's call is being recorded.                  1   \n",
       "2  At this time, I'd like to turn the call over t...                  0   \n",
       "3                              Please go ahead, sir.                  0   \n",
       "4                      Stephen Littleton: Thank you.                  0   \n",
       "5                            Good morning, everyone.                  0   \n",
       "6        Welcome to our third quarter earnings call.                  0   \n",
       "7  We appreciate your participation and continued...                  0   \n",
       "8  I am Stephen Littleton, Vice President of Inve...                  0   \n",
       "9  Before getting started, I wanted to say that I...                 -1   \n",
       "\n",
       "   Human Evaluation  \n",
       "0                 0  \n",
       "1                 0  \n",
       "2                 0  \n",
       "3                 0  \n",
       "4                 0  \n",
       "5                 0  \n",
       "6                 0  \n",
       "7                 0  \n",
       "8                 0  \n",
       "9                 0  "
      ]
     },
     "execution_count": 167,
     "metadata": {},
     "output_type": "execute_result"
    }
   ],
   "source": [
    "dfq20= pd.read_excel(\"3Q20 Earnings Gemini.xlsx\")\n",
    "dfq20.head(10)"
   ]
  },
  {
   "cell_type": "code",
   "execution_count": 168,
   "metadata": {},
   "outputs": [
    {
     "name": "stdout",
     "output_type": "stream",
     "text": [
      "Agreement Rate: 64.47%\n",
      "Disagreement Rate: 35.53%\n",
      "Human Mean: 0.06, Gemini Mean: 0.09\n",
      "Human Std Dev: 0.60, Gemini Std Dev: 0.35\n",
      "Correlation: 0.17\n",
      "Accuracy: 0.64\n",
      "\n",
      "Confusion Matrix:\n",
      "[[  6  76   8]\n",
      " [  3 356  30]\n",
      " [  3  96  30]]\n"
     ]
    }
   ],
   "source": [
    "# Calculate agreement and disagreement rates\n",
    "dfq20['Agreement'] = dfq20['Human Evaluation'] == dfq20['Gemini Evaluation']\n",
    "agreement_rate = dfq20['Agreement'].mean() * 100\n",
    "disagreement_rate = 100 - agreement_rate\n",
    "\n",
    "# Calculate mean and standard deviation for both human and ChatGPT-3.5 evaluations\n",
    "human_mean = dfq20['Human Evaluation'].mean()\n",
    "gemini_mean = dfq20['Gemini Evaluation'].mean()\n",
    "\n",
    "human_std = dfq20['Human Evaluation'].std()\n",
    "gemini_std = dfq20['Gemini Evaluation'].std()\n",
    "\n",
    "# Calculate the correlation between human and ChatGPT-3.5 evaluations\n",
    "correlation = dfq20['Human Evaluation'].corr(dfq20['Gemini Evaluation'])\n",
    "\n",
    "# Calculate accuracy\n",
    "accuracy = accuracy_score(dfq20['Human Evaluation'], dfq20['Gemini Evaluation'])\n",
    "\n",
    "# Generate a confusion matrix\n",
    "conf_matrix = confusion_matrix(dfq20['Human Evaluation'], dfq20['Gemini Evaluation'])\n",
    "\n",
    "# Output the results\n",
    "print(f\"Agreement Rate: {agreement_rate:.2f}%\")\n",
    "print(f\"Disagreement Rate: {disagreement_rate:.2f}%\")\n",
    "print(f\"Human Mean: {human_mean:.2f}, Gemini Mean: {gemini_mean:.2f}\")\n",
    "print(f\"Human Std Dev: {human_std:.2f}, Gemini Std Dev: {gemini_std:.2f}\")\n",
    "print(f\"Correlation: {correlation:.2f}\")\n",
    "print(f\"Accuracy: {accuracy:.2f}\")\n",
    "\n",
    "# Display the confusion matrix\n",
    "print(\"\\nConfusion Matrix:\")\n",
    "print(conf_matrix)\n"
   ]
  },
  {
   "cell_type": "code",
   "execution_count": 169,
   "metadata": {},
   "outputs": [
    {
     "name": "stderr",
     "output_type": "stream",
     "text": [
      "C:\\Users\\mikep\\AppData\\Local\\Temp\\ipykernel_18416\\819064146.py:46: FutureWarning: pandas.value_counts is deprecated and will be removed in a future version. Use pd.Series(obj).value_counts() instead.\n",
      "  human_eval_24 = pd.value_counts(dfq24['Human Evaluation']).sort_index()\n",
      "C:\\Users\\mikep\\AppData\\Local\\Temp\\ipykernel_18416\\819064146.py:47: FutureWarning: pandas.value_counts is deprecated and will be removed in a future version. Use pd.Series(obj).value_counts() instead.\n",
      "  gemini_eval_24 = pd.value_counts(dfq24['Gemini Evaluation']).sort_index()\n"
     ]
    },
    {
     "data": {
      "image/png": "[encoded data removed]",
      "text/plain": [
       "<Figure size 1000x600 with 1 Axes>"
      ]
     },
     "metadata": {},
     "output_type": "display_data"
    },
    {
     "name": "stderr",
     "output_type": "stream",
     "text": [
      "C:\\Users\\mikep\\AppData\\Local\\Temp\\ipykernel_18416\\819064146.py:53: FutureWarning: pandas.value_counts is deprecated and will be removed in a future version. Use pd.Series(obj).value_counts() instead.\n",
      "  human_eval_23 = pd.value_counts(dfq23['Human Evaluation']).sort_index()\n",
      "C:\\Users\\mikep\\AppData\\Local\\Temp\\ipykernel_18416\\819064146.py:54: FutureWarning: pandas.value_counts is deprecated and will be removed in a future version. Use pd.Series(obj).value_counts() instead.\n",
      "  gemini_eval_23 = pd.value_counts(dfq23['Gemini Evaluation']).sort_index()\n"
     ]
    },
    {
     "data": {
      "image/png": "[encoded data removed]",
      "text/plain": [
       "<Figure size 1000x600 with 1 Axes>"
      ]
     },
     "metadata": {},
     "output_type": "display_data"
    },
    {
     "name": "stderr",
     "output_type": "stream",
     "text": [
      "C:\\Users\\mikep\\AppData\\Local\\Temp\\ipykernel_18416\\819064146.py:60: FutureWarning: pandas.value_counts is deprecated and will be removed in a future version. Use pd.Series(obj).value_counts() instead.\n",
      "  human_eval_20 = pd.value_counts(dfq20['Human Evaluation']).sort_index()\n",
      "C:\\Users\\mikep\\AppData\\Local\\Temp\\ipykernel_18416\\819064146.py:61: FutureWarning: pandas.value_counts is deprecated and will be removed in a future version. Use pd.Series(obj).value_counts() instead.\n",
      "  gemini_eval_20 = pd.value_counts(dfq20['Gemini Evaluation']).sort_index()\n"
     ]
    },
    {
     "data": {
      "image/png": "[encoded data removed]",
      "text/plain": [
       "<Figure size 1000x600 with 1 Axes>"
      ]
     },
     "metadata": {},
     "output_type": "display_data"
    }
   ],
   "source": [
    "def plot_human_vs_gemini(human_eval, gemini_eval, title_suffix):\n",
    "    \"\"\"\n",
    "    Plots the comparison between human evaluation and Gemini evaluation.\n",
    "    \n",
    "    Parameters:\n",
    "    - human_eval: Series containing human evaluation counts.\n",
    "    - gemini_eval: Series containing Gemini evaluation counts.\n",
    "    - title_suffix: Suffix to append to the plot title for specifying the quarter.\n",
    "    \"\"\"\n",
    "    # Convert the value counts to DataFrames to align the indices\n",
    "    human_eval_df = human_eval.sort_index().reset_index()\n",
    "    human_eval_df.columns = ['Score', 'Human Evaluation']\n",
    "\n",
    "    gemini_eval_df = gemini_eval.sort_index().reset_index()\n",
    "    gemini_eval_df.columns = ['Score', 'Gemini Evaluation']\n",
    "\n",
    "    # Merge the two DataFrames on 'Score'\n",
    "    combined_df = pd.merge(human_eval_df, gemini_eval_df, on='Score', how='outer').fillna(0)\n",
    "\n",
    "    # Set the 'Score' as the index for plotting\n",
    "    combined_df.set_index('Score', inplace=True)\n",
    "\n",
    "    # Plot the bar chart with new colors\n",
    "    ax = combined_df.plot(kind='bar', figsize=(10, 6), color=['cyan', 'magenta'])\n",
    "\n",
    "    # Add title and labels\n",
    "    plt.title(f'Human vs Gemini Evaluation {title_suffix}')\n",
    "    plt.xlabel('Scores')\n",
    "    plt.ylabel('Count')\n",
    "\n",
    "    # Add numbers on top of each bar\n",
    "    for container in ax.containers:\n",
    "        ax.bar_label(container, label_type='edge')\n",
    "\n",
    "    # Adjust layout to make room for the legend\n",
    "    plt.tight_layout()\n",
    "\n",
    "    # Display the plot\n",
    "    plt.show()\n",
    "\n",
    "# Read data and plot for each quarter\n",
    "\n",
    "# Q1 2024\n",
    "dfq24 = pd.read_excel(\"1Q24 Earnings Gemini.xlsx\")\n",
    "dfq24.columns = dfq24.columns.str.strip()  # Strip spaces from column names\n",
    "human_eval_24 = pd.value_counts(dfq24['Human Evaluation']).sort_index()\n",
    "gemini_eval_24 = pd.value_counts(dfq24['Gemini Evaluation']).sort_index()\n",
    "\n",
    "plot_human_vs_gemini(human_eval=human_eval_24, gemini_eval=gemini_eval_24, title_suffix='1Q 24')\n",
    "\n",
    "# Q2 2023\n",
    "dfq23 = pd.read_excel(\"2Q23 Earnings Gemini.xlsx\")\n",
    "human_eval_23 = pd.value_counts(dfq23['Human Evaluation']).sort_index()\n",
    "gemini_eval_23 = pd.value_counts(dfq23['Gemini Evaluation']).sort_index()\n",
    "\n",
    "plot_human_vs_gemini(human_eval=human_eval_23, gemini_eval=gemini_eval_23, title_suffix='2Q 23')\n",
    "\n",
    "# Q3 2020\n",
    "dfq20 = pd.read_excel(\"3Q20 Earnings Gemini.xlsx\")\n",
    "human_eval_20 = pd.value_counts(dfq20['Human Evaluation']).sort_index()\n",
    "gemini_eval_20 = pd.value_counts(dfq20['Gemini Evaluation']).sort_index()\n",
    "\n",
    "plot_human_vs_gemini(human_eval=human_eval_20, gemini_eval=gemini_eval_20, title_suffix='3Q 20')"
   ]
  },
  {
   "cell_type": "markdown",
   "metadata": {},
   "source": [
    "## Overall Evaluation of all LLMs against Human across all quarters"
   ]
  },
  {
   "cell_type": "code",
   "execution_count": 212,
   "metadata": {},
   "outputs": [
    {
     "data": {
      "image/png": "[encoded data removed]",
      "text/plain": [
       "<Figure size 1200x800 with 1 Axes>"
      ]
     },
     "metadata": {},
     "output_type": "display_data"
    }
   ],
   "source": [
    "# Initialize overall count dictionaries for each evaluation\n",
    "overall_counts = {\n",
    "    'Human Evaluation': { -1: 0, 0: 0, 1: 0 },\n",
    "    'FinBERT': { -1: 0, 0: 0, 1: 0 },\n",
    "    'GPT 3.5': { -1: 0, 0: 0, 1: 0 },\n",
    "    'ChatGPT-4': { -1: 0, 0: 0, 1: 0 },\n",
    "    'Gemini': { -1: 0, 0: 0, 1: 0 }\n",
    "}\n",
    "\n",
    "# Helper function to update counts for a given evaluation\n",
    "def update_counts(counts, eval_series, label):\n",
    "    eval_counts = eval_series.value_counts().to_dict()\n",
    "    for score in [-1, 0, 1]:\n",
    "        counts[label][score] += eval_counts.get(score, 0)\n",
    "\n",
    "# Helper function to clean column names and check for existence\n",
    "def check_and_clean_column(df, column_name):\n",
    "    df.columns = df.columns.str.strip()  # Remove leading/trailing whitespace from column names\n",
    "    if column_name in df.columns:\n",
    "        return df[column_name]\n",
    "    else:\n",
    "        print(f\"Column '{column_name}' not found in DataFrame.\")\n",
    "        return pd.Series([])  # Return an empty series if column not found\n",
    "\n",
    "# Q1 2024\n",
    "d24 = pd.read_excel(\"combined_evaluation1Q24Fin.xlsx\")  # FinBERT evaluations\n",
    "dff24 = pd.read_excel(\"1Q24 Earnings Evaluation.xlsx\")  # ChatGPT-4 Evaluation\n",
    "df24 = pd.read_excel(\"combined_evaluation1Q24GPT3.xlsx\")  # GPT 3.5 Evaluation\n",
    "dfq24 = pd.read_excel(\"1Q24 Earnings Gemini.xlsx\")  # Gemini Evaluation\n",
    "\n",
    "update_counts(overall_counts, check_and_clean_column(d24, 'Human Evaluation'), 'Human Evaluation')\n",
    "update_counts(overall_counts, check_and_clean_column(d24, 'FinBERT'), 'FinBERT')\n",
    "update_counts(overall_counts, check_and_clean_column(df24, 'GPT 3.5'), 'GPT 3.5')\n",
    "update_counts(overall_counts, check_and_clean_column(dff24, 'ChatGPT4 Evaluation'), 'ChatGPT-4')\n",
    "update_counts(overall_counts, check_and_clean_column(dfq24, 'Gemini Evaluation'), 'Gemini')\n",
    "\n",
    "# Q2 2023\n",
    "d23 = pd.read_excel(\"combined_evaluation2Q23Fin.xlsx\")  # FinBERT evaluations\n",
    "dff23 = pd.read_excel(\"2Q23 Earnings Evaluation.xlsx\")  # ChatGPT-4 Evaluation\n",
    "df23 = pd.read_excel(\"combined_evaluation2Q23GPT3.xlsx\")  # GPT 3.5 Evaluation\n",
    "dfq23 = pd.read_excel(\"2Q23 Earnings Gemini.xlsx\")  # Gemini Evaluation\n",
    "\n",
    "update_counts(overall_counts, check_and_clean_column(d23, 'Human Evaluation'), 'Human Evaluation')\n",
    "update_counts(overall_counts, check_and_clean_column(d23, 'FinBERT'), 'FinBERT')\n",
    "update_counts(overall_counts, check_and_clean_column(df23, 'GPT 3.5'), 'GPT 3.5')\n",
    "update_counts(overall_counts, check_and_clean_column(dff23, 'ChatGPT4 Evaluation'), 'ChatGPT-4')\n",
    "update_counts(overall_counts, check_and_clean_column(dfq23, 'Gemini Evaluation'), 'Gemini')\n",
    "\n",
    "# Q3 2020\n",
    "d20 = pd.read_excel(\"combined_evaluation3Q20Fin.xlsx\")  # FinBERT evaluations\n",
    "dff20 = pd.read_excel(\"3Q20_Earnings Evaluation.xlsx\")  # ChatGPT-4 Evaluation\n",
    "df20 = pd.read_excel(\"combined_evaluation3Q20GPT3.xlsx\")  # GPT 3.5 Evaluation\n",
    "dfq20 = pd.read_excel(\"3Q20 Earnings Gemini.xlsx\")  # Gemini Evaluation\n",
    "\n",
    "update_counts(overall_counts, check_and_clean_column(d20, 'Human Evaluation'), 'Human Evaluation')\n",
    "update_counts(overall_counts, check_and_clean_column(d20, 'FinBERT'), 'FinBERT')\n",
    "update_counts(overall_counts, check_and_clean_column(df20, 'GPT 3.5'), 'GPT 3.5')\n",
    "update_counts(overall_counts, check_and_clean_column(dff20, 'ChatGPT4 Evaluation'), 'ChatGPT-4')\n",
    "update_counts(overall_counts, check_and_clean_column(dfq20, 'Gemini Evaluation'), 'Gemini')\n",
    "\n",
    "# Convert overall_counts to a DataFrame for plotting\n",
    "overall_df = pd.DataFrame(overall_counts).T\n",
    "overall_df.index.name = 'Evaluation'\n",
    "overall_df.columns = ['-1 (negative)', '0 (neutral)', '1 (positive)']\n",
    "\n",
    "# Apply modern style\n",
    "plt.style.use('ggplot')\n",
    "\n",
    "# Define colors for each evaluation\n",
    "colors = ['#e74c3c', '#f39c12', '#2ecc71'] \n",
    "\n",
    "# Plot the combined bar chart with custom colors\n",
    "ax = overall_df.plot(kind='bar', figsize=(12, 8), color=colors)\n",
    "\n",
    "# Add title and labels\n",
    "plt.title('Overall Scores of Human vs LLM Evaluations Across All Quarters')\n",
    "plt.xlabel('Evaluation Type', rotation=0, labelpad=20)  # X-axis label horizontal\n",
    "plt.xticks(rotation=0)  # Set x-axis labels to be horizontal\n",
    "plt.ylabel('Count', rotation=90, labelpad=20)  # Y-axis label vertical\n",
    "\n",
    "# Add numbers on top of each bar\n",
    "for container in ax.containers:\n",
    "    ax.bar_label(container, label_type='edge')\n",
    "\n",
    "# Adjust layout to make room for the labels\n",
    "plt.tight_layout()\n",
    "\n",
    "# Display the plot\n",
    "plt.show()"
   ]
  },
  {
   "cell_type": "markdown",
   "metadata": {},
   "source": [
    "## Visualizing Model Performance: Accuracy Comparison Across All Quarters for FinBERT, ChatGPT3.5, ChatGPT4, and Gemini"
   ]
  },
  {
   "cell_type": "code",
   "execution_count": 170,
   "metadata": {},
   "outputs": [
    {
     "name": "stderr",
     "output_type": "stream",
     "text": [
      "C:\\Users\\mikep\\AppData\\Local\\Temp\\ipykernel_18416\\2279628225.py:21: MatplotlibDeprecationWarning: The seaborn styles shipped by Matplotlib are deprecated since 3.6, as they no longer correspond to the styles shipped by seaborn. However, they will remain available as 'seaborn-v0_8-<style>'. Alternatively, directly use the seaborn API instead.\n",
      "  plt.style.use('seaborn-darkgrid')\n"
     ]
    },
    {
     "data": {
      "image/png": "[encoded data removed]",
      "text/plain": [
       "<Figure size 800x700 with 1 Axes>"
      ]
     },
     "metadata": {},
     "output_type": "display_data"
    }
   ],
   "source": [
    "# Calculate accuracy for each model and quarter\n",
    "# Q1 2024\n",
    "accuracy_chatgpt_q1 = accuracy_score(df24['Human Evaluation'], df24['GPT 3.5'])\n",
    "accuracy_chatgpt4_q1 = accuracy_score(dff24['Human Evaluation'], dff24['ChatGPT4 Evaluation'])\n",
    "accuracy_gemini_q1 = accuracy_score(dfq24['Human Evaluation'], dfq24['Gemini Evaluation'])\n",
    "accuracy_finbert_q1= accuracy_score(d24['Human Evaluation'], d24['FinBERT'])\n",
    "\n",
    "# Q2 2023\n",
    "accuracy_chatgpt_q2 = accuracy_score(df23['Human Evaluation'], df23['GPT 3.5'])\n",
    "accuracy_chatgpt4_q2 = accuracy_score(dff23['Human Evaluation'], dff23['ChatGPT4 Evaluation'])\n",
    "accuracy_gemini_q2 = accuracy_score(dfq23['Human Evaluation'], dfq23['Gemini Evaluation'])\n",
    "accuracy_finbert_q2= accuracy_score(d23['Human Evaluation'], d23['FinBERT'])\n",
    "\n",
    "# Q3 2020\n",
    "accuracy_chatgpt_q3 = accuracy_score(df20['Human Evaluation'], df20['GPT 3.5'])\n",
    "accuracy_chatgpt4_q3 = accuracy_score(dff20['Human Evaluation'], dff20['ChatGPT4 Evaluation'])\n",
    "accuracy_gemini_q3 = accuracy_score(dfq20['Human Evaluation'], dfq20['Gemini Evaluation'])\n",
    "accuracy_finbert_q3= accuracy_score(d20['Human Evaluation'], d20['FinBERT'])\n",
    "\n",
    "# Set a modern style for the plot\n",
    "plt.style.use('seaborn-darkgrid')\n",
    "\n",
    "# Create a DataFrame to store the accuracy data\n",
    "accuracy_data = {\n",
    "    'Quarter': ['Q1 2024', 'Q2 2023', 'Q3 2020'],\n",
    "    'ChatGPT3.5': [accuracy_chatgpt_q1, accuracy_chatgpt_q2, accuracy_chatgpt_q3],\n",
    "    'ChatGPT-4': [accuracy_chatgpt4_q1, accuracy_chatgpt4_q2, accuracy_chatgpt4_q3],\n",
    "    'Gemini': [accuracy_gemini_q1, accuracy_gemini_q2, accuracy_gemini_q3],\n",
    "    'FinBERT': [accuracy_finbert_q1, accuracy_finbert_q2, accuracy_finbert_q3]\n",
    "}\n",
    "\n",
    "# Convert to DataFrame\n",
    "accuracy_df = pd.DataFrame(accuracy_data)\n",
    "\n",
    "# Reshape the DataFrame to make it suitable for side-by-side plotting\n",
    "accuracy_df = accuracy_df.melt(id_vars='Quarter', var_name='Model', value_name='Accuracy')\n",
    "\n",
    "# Define a color palette with distinct colors for each model\n",
    "colors = ['#4c72b0', '#dd8452', '#55a868', '#c44e52']  \n",
    "\n",
    "# Plot the accuracy comparison\n",
    "plt.figure(figsize=(8, 7))\n",
    "ax = sns.barplot(x='Quarter', y='Accuracy', hue='Model', data=accuracy_df, palette=colors)\n",
    "\n",
    "# Add title and labels with enhanced font sizes and bold font\n",
    "plt.title('Model Accuracy Comparison by Quarter', fontsize=18, weight='bold', pad=20)\n",
    "plt.ylabel('Accuracy', fontsize=14, weight='bold')\n",
    "plt.xlabel('Quarter', fontsize=14, weight='bold')\n",
    "plt.ylim(0, 1)  # Ensure y-axis goes from 0 to 1 for accuracy\n",
    "\n",
    "# Add numbers on top of each bar with larger font size and 2 decimal places\n",
    "for container in ax.containers:\n",
    "    ax.bar_label(container, fmt='%.2f', label_type='edge', fontsize=12, padding=5)\n",
    "\n",
    "# Adjust the legend\n",
    "ax.legend(title='Model', loc='upper left', fontsize=12, title_fontsize='14', frameon=True, shadow=True)\n",
    "\n",
    "# Add gridlines to improve readability\n",
    "plt.grid(True, which='major', linestyle='--', linewidth=0.5, alpha=0.7)\n",
    "\n",
    "# Adjust the layout to make room for labels and title\n",
    "plt.tight_layout()\n",
    "\n",
    "# Display the plot\n",
    "plt.show()"
   ]
  },
  {
   "cell_type": "markdown",
   "metadata": {},
   "source": [
    "Timing , Consistency , Accuracy, Reevaluation\n",
    "\n"
   ]
  },
  {
   "cell_type": "markdown",
   "metadata": {},
   "source": [
    "Analysis Insights\n",
    "Overall Alignment: Review the agreement and disagreement rates. High alignment with human experts suggests ChatGPT could be a reliable tool.\n",
    "Error Patterns: Use the confusion matrix and correlation metrics to identify if specific sentiment categories (positive, neutral, negative) are more prone to errors.\n",
    "Consistency Over Time: Ensure that ChatGPT's performance is stable across different quarters, which is critical for a reliable replacement.\n",
    "Impact of Errors: Analyze the nature of ChatGPT's mistakes. If the errors are minor and context-specific, the risk may be manageable. However, frequent errors in critical areas could pose challenges."
   ]
  },
  {
   "cell_type": "markdown",
   "metadata": {},
   "source": [
    "The analysis should focus on comparing performance across different metrics, understanding the types of errors ChatGPT makes, and evaluating the consistency of its performance over time."
   ]
  },
  {
   "cell_type": "markdown",
   "metadata": {},
   "source": [
    " Compare and Contrast ChatGPT’s Outputs\n",
    "Human vs. ChatGPT Outputs: For each selected sentence, compare ChatGPT’s output with the human expert's evaluation. Note any differences and consider the potential reasons behind these discrepancies.\n",
    "Contextual Considerations: Evaluate whether ChatGPT missed any contextual cues that a human expert might have picked up on. This could include understanding the tone of the speaker or recognizing sarcasm or caution in language."
   ]
  },
  {
   "cell_type": "markdown",
   "metadata": {},
   "source": [
    "Operational Costs: Evaluate the cost-effectiveness of deploying ChatGPT in place of human analysts. Consider not only the model's licensing costs but also infrastructure, data processing, and integration costs."
   ]
  },
  {
   "cell_type": "markdown",
   "metadata": {},
   "source": [
    "limitation of LLMs should have access to specific financial data, which is often confidential would lead to higher accuracy, also another aspect of limitations would be to use more earnings calls"
   ]
  },
  {
   "cell_type": "markdown",
   "metadata": {},
   "source": [
    "## Highlighting and Exporting Discrepancies Between Human Evaluation and LLM Evaluation to Excel for Qualitative Analysis"
   ]
  },
  {
   "cell_type": "code",
   "execution_count": 171,
   "metadata": {},
   "outputs": [],
   "source": [
    "# Function to calculate the difference between human and LLM evaluations and save to Excel with highlighting\n",
    "def process_dataframe(df, human_col, model_col, output_path, sheet_name='Full Data', threshold=1):\n",
    "    # Calculate the difference between human and model evaluations if not already done\n",
    "    df['Difference'] = df[human_col] - df[model_col]\n",
    "\n",
    "    # Define a highlight function to apply formatting to discrepancies greater than threshold\n",
    "    def highlight_discrepancies(excel_writer, sheet_name, df, threshold):\n",
    "        workbook = excel_writer.book\n",
    "        worksheet = workbook[sheet_name]\n",
    "        \n",
    "        # Define the fill color for highlighting\n",
    "        fill = PatternFill(start_color=\"FFFF00\", end_color=\"FFFF00\", fill_type=\"solid\")\n",
    "        \n",
    "        # Iterate over the rows and apply the highlight where the difference is greater than the threshold\n",
    "        for row in range(2, len(df) + 2):  # Start at row 2 because Excel is 1-indexed and row 1 is the header\n",
    "            difference = abs(df.at[row-2, 'Difference'])  # Adjust index for 0-based\n",
    "            if difference > threshold:\n",
    "                for col in range(1, len(df.columns) + 1):  # Highlight across all columns\n",
    "                    cell = worksheet.cell(row=row, column=col)\n",
    "                    cell.fill = fill\n",
    "\n",
    "    # Save the DataFrame to an Excel file and apply highlighting\n",
    "    with pd.ExcelWriter(output_path, engine='openpyxl') as writer:\n",
    "        df.to_excel(writer, index=False, sheet_name=sheet_name)\n",
    "        highlight_discrepancies(writer, sheet_name, df, threshold)\n",
    "\n",
    "# List of dataframes with corresponding human, model columns, and output filenames\n",
    "data_info = [\n",
    "    (d24, 'Human Evaluation', 'FinBERT', 'highlighted_discrepancies_1Q24_finbert.xlsx'),\n",
    "    (d23, 'Human Evaluation', 'FinBERT', 'highlighted_discrepancies_2Q23_finbert.xlsx'),\n",
    "    (d20, 'Human Evaluation', 'FinBERT', 'highlighted_discrepancies_3Q20_finbert.xlsx'),\n",
    "    (df24, 'Human Evaluation', 'GPT 3.5', 'highlighted_discrepancies_1Q24Chat3.xlsx'),\n",
    "    (df23, 'Human Evaluation', 'GPT 3.5', 'highlighted_discrepancies_2Q23Chat3.xlsx'),\n",
    "    (df20, 'Human Evaluation', 'GPT 3.5', 'highlighted_discrepancies_3Q20Chat3.xlsx'),\n",
    "    (dff24, 'Human Evaluation', 'ChatGPT4 Evaluation', 'highlighted_discrepancies_1Q24Chat4.xlsx'),\n",
    "    (dff23, 'Human Evaluation', 'ChatGPT4 Evaluation', 'highlighted_discrepancies_2Q23Chat4.xlsx'),\n",
    "    (dff20, 'Human Evaluation', 'ChatGPT4 Evaluation', 'highlighted_discrepancies_3Q20Chat4.xlsx'),\n",
    "    (dfq24, 'Human Evaluation', 'Gemini Evaluation', 'highlighted_discrepancies_1Q24Gemini.xlsx'),\n",
    "    (dfq23, 'Human Evaluation', 'Gemini Evaluation', 'highlighted_discrepancies_2Q23Gemini.xlsx'),\n",
    "    (dfq20, 'Human Evaluation', 'Gemini Evaluation', 'highlighted_discrepancies_3Q20Gemini.xlsx'),\n",
    "]\n",
    "\n",
    "# Process each dataframe and save the output with highlighted discrepancies\n",
    "for df, human_col, model_col, output_path in data_info:\n",
    "    process_dataframe(df, human_col, model_col, output_path)\n"
   ]
  },
  {
   "cell_type": "markdown",
   "metadata": {},
   "source": [
    "## Keywoard Extraction and Sentiment Analysis  "
   ]
  },
  {
   "cell_type": "markdown",
   "metadata": {},
   "source": [
    "Q3 2020"
   ]
  },
  {
   "cell_type": "code",
   "execution_count": 172,
   "metadata": {},
   "outputs": [
    {
     "name": "stdout",
     "output_type": "stream",
     "text": [
      "Keywords for Q3 2020:\n",
      "Exxon Mobil Corporation, NYSE:XOM, Q3 2020, Earnings Conference Call, October 30, 2020, Operator, Vice President of Investor Relations, Secretary, Stephen Littleton, Andy Swiger, Jack Williams, Upstream, Downstream, Chemical, Market Dynamics, Financial Priorities, CapEx Reduction, Renewable Diesel, Direct Air Capture Technology, Quarterly Results, Earnings Improvement, Liquids Prices, Gas Realizations, Refining Margins, Chemical Margins, Cost Reductions, Structural Efficiencies, Workforce Reduction, Divestments, Carbon Emissions, Decarbonization, Refining Footprint, Integration, Competitive Refineries, Asset Investments.\n",
      "\n",
      "Sentiment Analysis for Each Keyword in Q3 2020:\n",
      "Keyword: Exxon Mobil Corporation\n",
      "Sentiment: Neutral\n",
      "\n",
      "Keyword: NYSE:XOM\n",
      "Sentiment: Neutral\n",
      "\n",
      "Keyword: Q3 2020\n",
      "Sentiment: Neutral\n",
      "\n",
      "Keyword: Earnings Conference Call\n",
      "Sentiment: Neutral\n",
      "\n",
      "Keyword: October 30\n",
      "Sentiment: Neutral\n",
      "\n",
      "Keyword: 2020\n",
      "Sentiment: Based on the sentences provided, the overall sentiment for the keyword '2020' is Positive. The company mentions achieving record safety and reliability performance, exceeding cash savings targets for 2020, and maintaining progress on highest priority investments despite the uncertainty. This indicates a positive outlook for the year 2020.\n",
      "\n",
      "Keyword: Operator\n",
      "Sentiment: Overall, the sentiment for the keyword 'Operator' in the provided text is Neutral. The Operator is simply facilitating the Q&A section of the earnings call and ensuring that questions are directed to the appropriate individuals. There is no indication of any positive or negative sentiment towards the Operator in this context.\n",
      "\n",
      "Keyword: Vice President of Investor Relations\n",
      "Sentiment: Neutral\n",
      "\n",
      "The overall sentiment for the keyword 'Vice President of Investor Relations' based on the sentences provided is neutral. The sentences simply mention the title of the individual without providing any positive or negative context.\n",
      "\n",
      "Keyword: Secretary\n",
      "Sentiment: Neutral\n",
      "\n",
      "Keyword: Stephen Littleton\n",
      "Sentiment: Overall sentiment for Stephen Littleton: Neutral\n",
      "\n",
      "While the sentences mention Stephen Littleton multiple times and indicate that he is involved in the earnings call, there is no clear indication of positive or negative sentiment towards him. The statements simply acknowledge his presence and thank him for his contributions to the call. Therefore, the sentiment towards Stephen Littleton appears to be neutral.\n",
      "\n",
      "Keyword: Andy Swiger\n",
      "Sentiment: Neutral\n",
      "\n",
      "Keyword: Jack Williams\n",
      "Sentiment: The overall sentiment for the keyword 'Jack Williams' based on the sentences provided is Positive. Jack Williams is mentioned multiple times in the transcript, and in each instance, he expresses gratitude, reemphasizes positive operational performance, and responds positively to questions. This indicates a positive sentiment towards Jack Williams and his role in the company.\n",
      "\n",
      "Keyword: Upstream\n",
      "Sentiment: Overall sentiment for the keyword 'Upstream' is Neutral. The sentences mention both positive and negative aspects related to Upstream, such as increased earnings driven by higher liquids prices but also decreased earnings compared to the previous year due to the current price environment. The mention of challenges associated with the pandemic and the need for capital investment to maintain productive capacity also contribute to the neutral sentiment.\n",
      "\n",
      "Keyword: Downstream\n",
      "Sentiment: Overall sentiment for the keyword 'Downstream' in the provided text is Neutral. The sentences mention various aspects of the Downstream business, including achievements, earnings, demand, maintenance, and projects. There is no clear positive or negative sentiment expressed in these sentences, leading to a neutral overall sentiment for the keyword 'Downstream'.\n",
      "\n",
      "Keyword: Chemical\n",
      "Sentiment: Overall sentiment for the keyword 'Chemical' based on the provided sentences is Positive. \n",
      "\n",
      "Positive sentiment is indicated by the following factors:\n",
      "- Chemical earnings increased significantly in the second quarter and third quarter of 2019.\n",
      "- Anticipation of improved margins in the Chemical business due to increased demand in packaging and medical markets.\n",
      "- Progress on the Corpus Christi chemical project ahead of schedule and under budget.\n",
      "- Plans to invest in Chemical expansions to increase earnings and cash flow capacity.\n",
      "- Integration of Chemicals with Downstream operations providing benefits.\n",
      "- Optimizing feedstocks in Chemicals business leading to a good year.\n",
      "- Long-term competitiveness of highly complex refineries integrated with Chemicals.\n",
      "\n",
      "Keyword: Market Dynamics\n",
      "Sentiment: Neutral\n",
      "\n",
      "Keyword: Renewable Diesel\n",
      "Sentiment: Positive\n",
      "\n",
      "Keyword: Direct Air Capture Technology\n",
      "Sentiment: Overall sentiment for the keyword 'Direct Air Capture Technology' is Positive. This is indicated by the mention of expanding a joint agreement to advance and scale the technology, which suggests a positive outlook on the potential impact of this technology in removing carbon dioxide from the atmosphere.\n",
      "\n",
      "Keyword: Liquids Prices\n",
      "Sentiment: The overall sentiment for the keyword 'Liquids Prices' in this sentence is Positive. This is because the sentence mentions that higher liquids prices drove an increase in earnings, indicating a positive impact on the company's financial performance.\n",
      "\n",
      "Keyword: Gas Realizations\n",
      "Sentiment: Overall, the sentiment for the keyword 'Gas Realizations' in the provided sentences is Negative. The sentences mention that lower gas realizations partially offset other positive factors such as higher liquids prices and earnings, indicating a negative impact on the overall financial performance.\n",
      "\n",
      "Keyword: Refining Margins\n",
      "Sentiment: Overall sentiment for the keyword 'Refining Margins' in the provided sentences is Negative. The sentences mention that industry refining margins fell to record lows, below any low experienced in the prior 20 years. This indicates a negative trend in refining margins.\n",
      "\n",
      "Keyword: Chemical Margins\n",
      "Sentiment: The overall sentiment for the keyword 'Chemical Margins' based on the provided sentences is Negative. This is indicated by the statement that chemical margins are close to the bottom of cycle conditions, suggesting a downturn or unfavorable situation in the chemical industry.\n",
      "\n",
      "Keyword: Cost Reductions\n",
      "Sentiment: The overall sentiment for the keyword 'Cost Reductions' in these sentences is Positive. The text mentions various efforts and strategies being implemented to achieve cost reductions, such as decreased activity, maintenance efficiencies, and lower logistics costs. Additionally, there is a focus on driving further cost reductions while maintaining safety, reliability, and environmental performance. The mention of potentially exceeding the initial target of 15% cost reductions and achieving close to 20% also adds to the positive sentiment.\n",
      "\n",
      "Keyword: Structural Efficiencies\n",
      "Sentiment: Overall sentiment for the keyword 'Structural Efficiencies' is Positive. The sentences mention the benefits and improvements from captured structural efficiencies, as well as the opportunity for further efficiencies in the future. The tone is optimistic about the potential impact of structural efficiencies on the company's earnings and operations.\n",
      "\n",
      "Keyword: Workforce Reduction\n",
      "Sentiment: Neutral\n",
      "\n",
      "The overall sentiment for the keyword 'Workforce Reduction' in this context is neutral. The mention of the workforce reduction is presented as part of a series of actions taken by the company to optimize value and preserve flexibility. There is no clear positive or negative connotation associated with the workforce reduction in this particular sentence.\n",
      "\n",
      "Keyword: Divestments\n",
      "Sentiment: The overall sentiment for the keyword 'Divestments' in the provided sentences is Negative. This is indicated by the mention of unfavorable volume impact, challenging price environment, and the need to evaluate the entire portfolio for potential asset divestments due to current debt levels. The emphasis on increasing divestments and maintaining the dividend while holding debt levels also suggests a sense of financial strain and difficulty.\n",
      "\n",
      "Keyword: Carbon Emissions\n",
      "Sentiment: Neutral\n",
      "\n",
      "Keyword: Decarbonization\n",
      "Sentiment: Neutral\n",
      "\n",
      "Keyword: Refining Footprint\n",
      "Sentiment: Neutral\n",
      "\n",
      "Keyword: Integration\n",
      "Sentiment: Overall sentiment for the keyword 'Integration' is Positive. The sentences express confidence in the quality of resources and development plans, as well as highlight the benefits of integration in various aspects of the business. The integration with the Downstream in the Chemicals business is seen as a factor that will make the company competitive in the long-term.\n",
      "\n"
     ]
    }
   ],
   "source": [
    "# Load the dataset for Q3 2020\n",
    "data20 = pd.read_excel('3Q20 Earnings.xlsx')  # Q3 2020\n",
    "\n",
    "# Combine all sentences into a single document string\n",
    "document_text_20 = ' '.join(data20['Sentence'].tolist())\n",
    "\n",
    "# Define a function to extract keywords from the entire document\n",
    "def extract_keywords(document, model=\"gpt-3.5-turbo\"):  # Use GPT-3.5 model\n",
    "    prompt = f\"\"\"\n",
    "    You are a financial analyst specializing in earnings calls. \n",
    "    Given the entire earnings call transcript provided below, extract the most relevant keywords that capture the main topics, important details, and key points of discussion in the document. Ensure that the keywords are \n",
    "    concise and representative of the overall content.\n",
    "    \n",
    "    Document:\n",
    "    ```\n",
    "    {document}\n",
    "    ```\n",
    "\n",
    "    Please provide the keywords as a comma-separated list.\n",
    "    \"\"\"\n",
    "\n",
    "    # Send the prompt to the OpenAI API\n",
    "    messages = [{\"role\": \"user\", \"content\": prompt}]\n",
    "    response = openai.ChatCompletion.create(\n",
    "        model=model,\n",
    "        messages=messages,\n",
    "        temperature=0.2\n",
    "    )\n",
    "\n",
    "    # Extract keywords from the response\n",
    "    try:\n",
    "        keywords = response.choices[0].message['content'].strip()\n",
    "        return [keyword.strip() for keyword in keywords.split(',')]\n",
    "    except Exception as e:\n",
    "        print(f\"Error extracting keywords: {e}\")\n",
    "        return []\n",
    "\n",
    "# Define a function to analyze sentiment for sentences containing each keyword\n",
    "def analyze_keyword_sentiment(keywords, sentences, model=\"gpt-3.5-turbo\"):\n",
    "    keyword_sentiments = []\n",
    "\n",
    "    for keyword in keywords:\n",
    "        # Extract sentences containing the keyword\n",
    "        keyword_sentences = [sentence for sentence in sentences if keyword.lower() in sentence.lower()]\n",
    "        if not keyword_sentences:\n",
    "            continue\n",
    "        \n",
    "        # Join sentences for context\n",
    "        keyword_context = ' '.join(keyword_sentences)\n",
    "\n",
    "        # Create a prompt to analyze sentiment\n",
    "        prompt = f\"\"\"\n",
    "        You are a financial analyst reviewing an earnings call transcript. The following text contains sentences that mention the keyword '{keyword}'.\n",
    "        Analyze the overall sentiment for this keyword based on these sentences. Classify the sentiment as Positive, Neutral, or Negative.\n",
    "\n",
    "        Sentences:\n",
    "        ```\n",
    "        {keyword_context}\n",
    "        ```\n",
    "\n",
    "        Sentiment Analysis:\n",
    "        \"\"\"\n",
    "        \n",
    "        # Send the prompt to GPT API\n",
    "        messages = [{\"role\": \"user\", \"content\": prompt}]\n",
    "        response = openai.ChatCompletion.create(\n",
    "            model=model,\n",
    "            messages=messages,\n",
    "            temperature=0.3\n",
    "        )\n",
    "\n",
    "        try:\n",
    "            sentiment = response.choices[0].message['content'].strip()\n",
    "            keyword_sentiments.append((keyword, sentiment))\n",
    "        except Exception as e:\n",
    "            print(f\"Error analyzing sentiment for keyword '{keyword}': {e}\")\n",
    "\n",
    "    return keyword_sentiments\n",
    "\n",
    "# Extract keywords from the entire document\n",
    "keywords_20 = extract_keywords(document_text_20)\n",
    "\n",
    "# Display the extracted keywords for the entire document\n",
    "print(\"Keywords for Q3 2020:\")\n",
    "print(', '.join(keywords_20))\n",
    "\n",
    "# Analyze sentiment for each extracted keyword based on their context\n",
    "if keywords_20:\n",
    "    sentiment_analysis_20 = analyze_keyword_sentiment(keywords_20, data20['Sentence'].tolist())\n",
    "    print(\"\\nSentiment Analysis for Each Keyword in Q3 2020:\")\n",
    "    for keyword, sentiment in sentiment_analysis_20:\n",
    "        print(f\"Keyword: {keyword}\\nSentiment: {sentiment}\\n\")\n",
    "\n",
    "    # Save the keywords and sentiment analysis to a text file\n",
    "    with open('gpt3.5_keywords_sentiment_analysis_Q3_2020.txt', 'w') as file:\n",
    "        file.write(\"Keywords for Q3 2020:\\n\")\n",
    "        file.write(', '.join(keywords_20) + \"\\n\\n\")\n",
    "        file.write(\"Sentiment Analysis for Each Keyword:\\n\")\n",
    "        for keyword, sentiment in sentiment_analysis_20:\n",
    "            file.write(f\"Keyword: {keyword}\\nSentiment: {sentiment}\\n\\n\")\n",
    "else:\n",
    "    print(\"No keywords extracted for Q3 2020.\")\n"
   ]
  },
  {
   "cell_type": "markdown",
   "metadata": {},
   "source": [
    "Q2 2023"
   ]
  },
  {
   "cell_type": "code",
   "execution_count": 173,
   "metadata": {},
   "outputs": [
    {
     "name": "stdout",
     "output_type": "stream",
     "text": [
      "Keywords for Q2 2023:\n",
      "ExxonMobil, earnings call, second quarter, Darren Woods, Kathy Mikells, acquisitions, Denbury, transformation, portfolio, growth, production, Guyana, Permian, Baytown, Gulf Coast, divestments, Low Carbon Solutions, carbon capture, storage, synergies, CCS deployment, earnings power, cost savings, cash flow, operations, capex investments, shareholder value, technology, projects, trading, supply chain, business solutions, talent development, industry leader, emissions reduction, structural improvements, competitive position, value creation, opportunities, investments, returns, balance sheet, flexibility, capital deployment, advantaged projects, volume, margins, market environment, inflation, deflation, costs, production levels, downtime, energy product sales, Beaumont.\n",
      "\n",
      "Sentiment Analysis for Each Keyword in Q2 2023:\n",
      "Keyword: ExxonMobil\n",
      "Sentiment: The overall sentiment for the keyword 'ExxonMobil' in the provided text is Positive. This is indicated by the mentions of ExxonMobil's efforts to leverage corporate scale, establish new centralized organizations, acquire Denbury to expand capabilities, accelerate CCS deployment, and participate in the energy transition space. Additionally, the mention of commercial deals and opportunities with outside potential customers further reinforces the positive sentiment surrounding ExxonMobil in the earnings call transcript.\n",
      "\n",
      "Keyword: earnings call\n",
      "Sentiment: The overall sentiment for the keyword 'earnings call' based on the sentences provided is Positive. The mention of conducting the earnings call from the Houston campus and the use of words like \"pleased\" indicate a positive tone.\n",
      "\n",
      "Keyword: second quarter\n",
      "Sentiment: Based on the sentences mentioning the keyword 'second quarter', the overall sentiment is Positive. The company achieved milestones such as completing the Baytown chemical expansion and divesting the Billings refinery during the second quarter. Additionally, the earnings doubled compared to a previous quarter, showing improvement in earnings power. Though there was a slight decrease in performance compared to the first quarter, it was still on track with the full year production levels.\n",
      "\n",
      "Keyword: Darren Woods\n",
      "Sentiment: The overall sentiment for Darren Woods based on the sentences is Positive. Darren Woods is seen as actively engaging in the conversation, providing responses, and showing appreciation towards others. There are no negative or neutral statements about Darren Woods in the provided text.\n",
      "\n",
      "Keyword: Kathy Mikells\n",
      "Sentiment: Overall sentiment for Kathy Mikells: Neutral\n",
      "\n",
      "The sentences mentioning Kathy Mikells do not convey any strong positive or negative sentiment. She is simply providing information and responding to questions during the earnings call.\n",
      "\n",
      "Keyword: Denbury\n",
      "Sentiment: Overall sentiment for the keyword 'Denbury' based on the provided sentences is Positive. The text highlights the benefits and opportunities associated with the acquisition of Denbury, such as expanding capabilities, accelerating growth, improving decarbonization proposition, and generating attractive returns. The acquisition is seen as fitting well with the company's goals and strategies, with potential for significant reduction in emissions and cost savings. The mention of interest from potential customers and the opportunity to grow the carbon capture and sequestration business further contribute to the positive sentiment surrounding the Denbury acquisition.\n",
      "\n",
      "Keyword: transformation\n",
      "Sentiment: Positive\n",
      "\n",
      "Keyword: portfolio\n",
      "Sentiment: Overall sentiment for the keyword 'portfolio' in the provided sentences is Positive. The text highlights efforts to reshape and invest in the portfolio of businesses, identify opportunities for growth and efficiency, advance technology portfolio, and assess opportunities within the portfolio. The mention of a \"pretty robust portfolio\" and the focus on managing processes across integrated businesses also contribute to the positive sentiment.\n",
      "\n",
      "Keyword: growth\n",
      "Sentiment: Overall sentiment for the keyword 'growth' in the provided sentences is Positive. The text consistently mentions growth in production, investments, returns, earnings, cash flow, shareholder value, demand in chemicals, and profitable growth. The language used is optimistic and confident about the potential for growth in various aspects of the business.\n",
      "\n",
      "Keyword: production\n",
      "Sentiment: Overall sentiment for the keyword 'production' in the given text is Positive. The text highlights various achievements and records in production, as well as the company's focus on optimizing and maximizing production rates. There is also mention of being on track with production guidance and the company's capability to continue maximizing production despite challenges such as curtailments and OPEC cuts.\n",
      "\n",
      "Keyword: Guyana\n",
      "Sentiment: The overall sentiment for the keyword 'Guyana' in the provided sentences is Positive. The text highlights achievements, excellent results, optimization, growth, and capacity expansion in Guyana. The mention of record production rates and upcoming projects further supports a positive sentiment.\n",
      "\n",
      "Keyword: Permian\n",
      "Sentiment: Overall sentiment for the keyword 'Permian' in the provided sentences is Positive. The mention of setting a production record in the Permian and remaining on track for growth in production, as well as the potential value in M&A in the Permian, all indicate a positive outlook on the Permian region.\n",
      "\n",
      "Keyword: Baytown\n",
      "Sentiment: Overall sentiment for the keyword 'Baytown' is Positive. The sentences mention achievements, expansions, contributions to earnings, and significant investment opportunities in Baytown. This indicates a positive outlook for the Baytown projects and their impact on the company's growth and earnings.\n",
      "\n",
      "Keyword: Gulf Coast\n",
      "Sentiment: Overall sentiment for the keyword 'Gulf Coast' in the provided sentences is Positive. The text highlights the potential for creating a CCS business with the capacity to reduce emissions across the Gulf Coast by up to 100 million tons per year, emphasizing the opportunity and potential impact in the region.\n",
      "\n",
      "Keyword: divestments\n",
      "Sentiment: Overall sentiment for the keyword 'divestments' in the provided sentences is Neutral. The sentences mention divestments as a necessary step for improving earnings power and also highlight the positive impact of divestments on the gas portfolio. However, the mention of a decrease in results due to divestments and scheduled downtime suggests a neutral sentiment overall.\n",
      "\n",
      "Keyword: Low Carbon Solutions\n",
      "Sentiment: Overall sentiment for the keyword 'Low Carbon Solutions' is Positive. The sentence highlights the progress and advantages of the business in capturing, transporting, and storing carbon, indicating a positive outlook on the performance of this aspect of the company.\n",
      "\n",
      "Keyword: carbon capture\n",
      "Sentiment: Overall sentiment for the keyword 'carbon capture' in the provided sentences is Positive. The text mentions opportunities for growth in carbon capture and sequestration business, excitement about accelerating the growth of this part of the business, and the importance of focusing on carbon capture, hydrogen, and biofuels. The tone is optimistic and highlights the potential for progress and profitability in the carbon capture sector.\n",
      "\n",
      "Keyword: storage\n",
      "Sentiment: Overall sentiment for the keyword 'storage' in the provided sentences is Positive. The sentences discuss the importance and benefits of CO2 storage, highlighting the efficiency and opportunities it brings for various companies. The mention of a cost-efficient transportation and storage system accelerating CCS deployment further emphasizes the positive sentiment towards storage.\n",
      "\n",
      "Keyword: synergies\n",
      "Sentiment: Overall sentiment for the keyword 'synergies' in the provided sentences is Positive. The sentences highlight the belief that transaction synergies will drive strong growth and returns, and that the company is better positioned than ever to realize the value of scale and synergies. The focus on improving collaboration, alignment, and integration across the businesses also suggests a positive outlook on the potential synergies.\n",
      "\n",
      "Keyword: CCS deployment\n",
      "Sentiment: Overall sentiment for the keyword 'CCS deployment' is Positive. The sentence mentions that a cost-efficient transportation and storage system accelerates CCS deployment for both ExxonMobil and third-party customers, indicating a positive outlook on the progress of CCS deployment.\n",
      "\n",
      "Keyword: earnings power\n",
      "Sentiment: Overall sentiment for the keyword 'earnings power' in these sentences is Positive. The sentences indicate that there has been improvement in the earnings power of the company's businesses, with earnings doubling compared to the previous year. The language used, such as \"paying off\", \"pleased\", and \"improved earnings power\", all suggest a positive sentiment towards the company's financial performance.\n",
      "\n",
      "Keyword: cost savings\n",
      "Sentiment: Overall, the sentiment for the keyword 'cost savings' in these sentences is Positive. The mention of achieving $8.3 billion in structural cost savings and how it has contributed to improved earnings indicates a positive impact on the company's financial performance.\n",
      "\n",
      "Keyword: cash flow\n",
      "Sentiment: Positive\n",
      "\n",
      "Keyword: operations\n",
      "Sentiment: Overall sentiment for the keyword 'operations' is Positive. The sentences highlight the focus on maximizing utilization and production, running operations reliably and safely, and maximizing the value of assets. Additionally, the close partnership with technology and shared commitment to drive value are emphasized, showing a positive outlook on operations.\n",
      "\n",
      "Keyword: capex investments\n",
      "Sentiment: Neutral\n",
      "\n",
      "The sentiment for the keyword 'capex investments' in this sentence is neutral. The statement simply provides information about the total amount of capex investments made year-to-date, without expressing any positive or negative opinion about it.\n",
      "\n",
      "Keyword: shareholder value\n",
      "Sentiment: Positive\n",
      "\n",
      "Keyword: technology\n",
      "Sentiment: Based on the sentences provided, the overall sentiment for the keyword 'technology' is Positive. The company is highlighting advancements in technology, the consolidation of technology organizations, and the close partnership between technology and the business to drive value. The tone is optimistic about the potential of technology to drive innovation and efficiency within the company.\n",
      "\n",
      "Keyword: projects\n",
      "Sentiment: Overall sentiment for the keyword 'projects' in the provided sentences is Positive. The text consistently mentions investments in advantaged projects, successful completion of various projects, and the positive impact of projects on earnings and cash flow. There is a focus on finding advantage projects, optimizing production, and driving high returns for shareholders through projects. The tone is optimistic about the potential benefits and opportunities that projects bring to the company.\n",
      "\n",
      "Keyword: trading\n",
      "Sentiment: Overall sentiment for the keyword 'trading' in the provided sentences is Neutral. The sentences mention trading activities within the company, discussing potential headwinds and results, but do not express a clear positive or negative sentiment towards trading.\n",
      "\n",
      "Keyword: supply chain\n",
      "Sentiment: Overall sentiment for the keyword 'supply chain' in the provided text is Positive. This is indicated by the mention of establishing a new centralized organization specifically dedicated to supply chain, along with other key functions, in order to apply the best solutions and talent to their biggest opportunities. This suggests a focus on improving efficiency and effectiveness within the supply chain, which is a positive development for the company.\n",
      "\n",
      "Keyword: business solutions\n",
      "Sentiment: Overall sentiment for the keyword 'business solutions' is Positive. The sentences highlight the establishment of a new centralized organization focused on business solutions, which is seen as a positive step towards leveraging corporate scale and integration for the company's biggest opportunities.\n",
      "\n",
      "Keyword: industry leader\n",
      "Sentiment: The overall sentiment for the keyword 'industry leader' in the provided sentences is Positive. The sentences express confidence in the company's position as an industry leader and their commitment to further strengthen that position.\n",
      "\n",
      "Keyword: emissions reduction\n",
      "Sentiment: Neutral\n",
      "\n",
      "Keyword: competitive position\n",
      "Sentiment: Overall sentiment for the keyword 'competitive position' in the provided sentences is Positive. The sentences highlight how the company's actions are enhancing their competitive position and driving value, which is seen as a positive development.\n",
      "\n",
      "Keyword: value creation\n",
      "Sentiment: Overall sentiment for the keyword 'value creation' in the provided sentences is Positive. The sentences indicate that the company is focused on end-to-end value creation and is actively seeking opportunities for value creation through M&A markets.\n",
      "\n",
      "Keyword: opportunities\n",
      "Sentiment: Overall sentiment for the keyword 'opportunities' in the provided text is Positive. The text emphasizes various opportunities for growth, development, and value creation within the organization. It highlights the potential for unique value creation, technology advancement, emission reduction, and long-term value generation for shareholders. The tone throughout the text is optimistic and focused on seizing and maximizing opportunities.\n",
      "\n",
      "Keyword: investments\n",
      "Sentiment: Overall sentiment for the keyword 'investments' in the provided sentences is Positive. The text highlights various positive aspects of investments such as driving value, improving competitive position, delivering exceptional results, industry-leading returns, and positive earnings and cash flow. The text also mentions significant investments in advantaged projects and the benefits of scale in reducing costs per ton of CO2 captured. Additionally, the text emphasizes the positive outcomes of past investments in chemicals and the potential for future returns. The overall tone is optimistic and supportive of continued investments in various areas of the business.\n",
      "\n",
      "Keyword: returns\n",
      "Sentiment: Overall sentiment for the keyword 'returns' is Positive. The sentences mention driving strong growth and returns, delivering exceptional results, industry-leading returns on investments, generating attractive returns, and generating good, competitive returns. These statements indicate a focus on achieving positive returns and value for shareholders.\n",
      "\n",
      "Keyword: balance sheet\n",
      "Sentiment: Overall sentiment for the keyword 'balance sheet' is Positive. The speaker mentions being happy with the overall balance sheet position and emphasizes the importance of maintaining a strong balance sheet for flexibility through different economic cycles.\n",
      "\n",
      "Keyword: flexibility\n",
      "Sentiment: Overall sentiment for the keyword 'flexibility' in the provided sentences is Positive. The sentences highlight the importance of having flexibility in managing the company, maintaining a strong balance sheet, and holding a higher cash balance for increased flexibility. This positive sentiment is reflected in the emphasis on the benefits and advantages of having flexibility in various aspects of the business.\n",
      "\n",
      "Keyword: capital deployment\n",
      "Sentiment: Positive\n",
      "\n",
      "The overall sentiment for the keyword 'capital deployment' in this sentence is positive. The speaker emphasizes the importance of not constraining the company from new capital projects that can drive good returns for shareholders, indicating a positive outlook on capital deployment.\n",
      "\n",
      "Keyword: advantaged projects\n",
      "Sentiment: Overall sentiment for the keyword 'advantaged projects' is Positive. The sentences highlight the company's focus on investing in advantaged projects, which are driving value, improving competitive position, and leading to industry-leading earnings. The mention of bringing on new advantaged projects in the near future also indicates a positive outlook for the company's growth and profitability.\n",
      "\n",
      "Keyword: volume\n",
      "Sentiment: Overall sentiment for the keyword 'volume' in these sentences is Neutral. The sentences mention both positive aspects such as growth in volume and improved mix, as well as challenges such as downturn in upstream volumes. The mention of recovery and maintenance impacting volumes also adds a neutral tone to the sentiment.\n",
      "\n",
      "Keyword: margins\n",
      "Sentiment: Overall sentiment for the keyword 'margins' in the provided sentences is Positive. The speaker mentions better margins in the U.S. compared to the rest of the world, feeling good about how the business is positioned, and being in a good position for when margins improve. Additionally, even though refining margins are down a bit, they are still in very healthy territory.\n",
      "\n",
      "Keyword: market environment\n",
      "Sentiment: Neutral\n",
      "\n",
      "Keyword: inflation\n",
      "Sentiment: The overall sentiment for the keyword 'inflation' in the provided sentences is Neutral. The speaker mentions that they are starting to see inflation come off in certain cost categories, but they also feel that inflation is going to come off as they look forward into 2024. This mixed view results in a neutral sentiment towards inflation.\n",
      "\n",
      "Keyword: deflation\n",
      "Sentiment: Neutral\n",
      "\n",
      "Keyword: costs\n",
      "Sentiment: Overall sentiment for the keyword 'costs' in the provided sentences is Neutral. The sentences mention driving capital costs down significantly, but also discuss potential inflation in OFS costs. The mention of inflation coming off in certain cost categories adds a neutral tone to the sentiment.\n",
      "\n",
      "Keyword: production levels\n",
      "Sentiment: Neutral\n",
      "\n",
      "Keyword: downtime\n",
      "Sentiment: Neutral\n",
      "\n",
      "Keyword: energy product sales\n",
      "Sentiment: Positive\n",
      "\n"
     ]
    }
   ],
   "source": [
    "# Load the dataset for Q2 2023\n",
    "data23 = pd.read_excel('2Q23 Earnings.xlsx')  # Q2 2023\n",
    "\n",
    "# Combine all sentences into a single document string\n",
    "document_text_23 = ' '.join(data23['Sentence'].tolist())\n",
    "\n",
    "# Extract keywords from the entire document\n",
    "keywords_23 = extract_keywords(document_text_23)\n",
    "\n",
    "# Display the extracted keywords for the entire document\n",
    "print(\"Keywords for Q2 2023:\")\n",
    "print(', '.join(keywords_23))\n",
    "\n",
    "# Analyze sentiment for each extracted keyword based on their context\n",
    "if keywords_23:\n",
    "    sentiment_analysis_23 = analyze_keyword_sentiment(keywords_23, data23['Sentence'].tolist())\n",
    "    print(\"\\nSentiment Analysis for Each Keyword in Q2 2023:\")\n",
    "    for keyword, sentiment in sentiment_analysis_23:\n",
    "        print(f\"Keyword: {keyword}\\nSentiment: {sentiment}\\n\")\n",
    "\n",
    "    # Save the keywords and sentiment analysis to a text file\n",
    "    with open('gpt3.5_keywords_sentiment_analysis_Q2_2023.txt', 'w') as file:\n",
    "        file.write(\"Keywords for Q2 2023:\\n\")\n",
    "        file.write(', '.join(keywords_23) + \"\\n\\n\")\n",
    "        file.write(\"Sentiment Analysis for Each Keyword:\\n\")\n",
    "        for keyword, sentiment in sentiment_analysis_23:\n",
    "            file.write(f\"Keyword: {keyword}\\nSentiment: {sentiment}\\n\\n\")\n",
    "else:\n",
    "    print(\"No keywords extracted for Q2 2023.\")\n"
   ]
  },
  {
   "cell_type": "markdown",
   "metadata": {},
   "source": [
    "Q1 2024"
   ]
  },
  {
   "cell_type": "code",
   "execution_count": 174,
   "metadata": {},
   "outputs": [
    {
     "name": "stdout",
     "output_type": "stream",
     "text": [
      "Keywords for Q1 2024:\n",
      "ExxonMobil, earnings call, Q1 2024, Darren Woods, Kathy Mikells, cost savings, structural, projects, earnings growth, Guyana, Pioneer, balance sheet, buybacks, dividends, strategic, refineries, European footprint, LNG, gas-to-power, direct air capture, technology, competitive, cost reduction.\n",
      "\n",
      "Sentiment Analysis for Each Keyword in Q1 2024:\n",
      "Keyword: ExxonMobil\n",
      "Sentiment: Based on the sentences provided, the overall sentiment for the keyword 'ExxonMobil' is Positive. The sentences mention positive aspects such as improving fundamental earnings power, making a positive difference in the world, and meeting essential energy needs.\n",
      "\n",
      "Keyword: earnings call\n",
      "Sentiment: Neutral\n",
      "\n",
      "Keyword: Darren Woods\n",
      "Sentiment: The overall sentiment for Darren Woods based on the provided sentences is Positive. Darren Woods is seen as actively participating in the discussion, providing insights, and expressing gratitude throughout the earnings call transcript.\n",
      "\n",
      "Keyword: Kathy Mikells\n",
      "Sentiment: Overall sentiment for Kathy Mikells: Positive\n",
      "\n",
      "        The sentences mentioning Kathy Mikells in the earnings call transcript are all positive in nature. She is seen as providing valuable insights, answering questions confidently, and highlighting the company's strong performance in comparison to peers. The mention of her discussing the investment environment in Europe being difficult is more neutral in tone, but overall the sentiment towards Kathy Mikells is positive.\n",
      "\n",
      "Keyword: cost savings\n",
      "Sentiment: Overall sentiment for the keyword 'cost savings' in the provided sentences is Positive. The text highlights the company's focus on achieving significant structural cost savings, with mentions of reaching $10.1 billion in the quarter and aiming for $15 billion by 2027. The language used, such as \"improved earnings power,\" \"additional structural cost savings,\" and \"meaningful cost savings every year,\" indicates a positive outlook on the impact of cost savings on the company's financial performance.\n",
      "\n",
      "Keyword: structural\n",
      "Sentiment: Overall sentiment for the keyword 'structural' in the provided sentences is Positive. The sentences highlight the company's focus on achieving structural cost savings, the progress made in centralizing activities, finding synergies, and driving value from those synergies. The comments also mention a track record of successfully realizing bottom line savings from structural changes.\n",
      "\n",
      "Keyword: projects\n",
      "Sentiment: Overall sentiment for the keyword 'projects' is Positive. The sentences consistently highlight the importance and positive impact of strategic projects on earnings growth, cash flow, operational optimization, and value creation. The tone is optimistic and emphasizes the value and success of investing in projects for future growth.\n",
      "\n",
      "Keyword: earnings growth\n",
      "Sentiment: Overall, the sentiment for the keyword 'earnings growth' in these sentences is Positive. The text highlights various drivers and strategies that are expected to contribute to earnings growth, such as cost savings, strategic projects, high-value products, and advantaged assets. Additionally, the mention of cost reductions as a contributor to earnings growth further emphasizes a positive outlook.\n",
      "\n",
      "Keyword: Guyana\n",
      "Sentiment: Overall, the sentiment for the keyword 'Guyana' based on the sentences provided is Positive. The text highlights the success and value being created in Guyana, as well as the potential growth opportunities and benefits for both shareholders and the Guyanese people. The mention of a \"win-win proposition\" further emphasizes the positive sentiment towards Guyana.\n",
      "\n",
      "Keyword: Pioneer\n",
      "Sentiment: Overall sentiment for the keyword 'Pioneer' based on the sentences provided is Positive. The mention of Pioneer in the context of successful defense against a lawsuit, anticipation of closing the acquisition, and plans to drive earnings and shareholder distributions higher all convey a positive outlook towards Pioneer. Additionally, the approval of the combination of companies by Pioneer shareholders is another positive indicator.\n",
      "\n",
      "Keyword: balance sheet\n",
      "Sentiment: Overall, the sentiment for the keyword 'balance sheet' in the provided sentences is Positive. The text highlights the company's efforts to strengthen and maintain a strong balance sheet, which is seen as a competitive advantage and a driver of long-term returns for shareholders. The mention of the lowest net debt to capital ratio in more than a decade further reinforces the positive sentiment surrounding the balance sheet.\n",
      "\n",
      "Keyword: buybacks\n",
      "Sentiment: The overall sentiment for the keyword 'buybacks' in the provided sentences is Positive. This is indicated by the mention of buybacks being expected to ramp up to a pace of $20 billion a year post-close, and the consideration of increasing buybacks as a potential utilization of balance sheet capacity moving forward.\n",
      "\n",
      "Keyword: dividends\n",
      "Sentiment: Positive\n",
      "\n",
      "Keyword: strategic\n",
      "Sentiment: Overall sentiment for the keyword 'strategic' in the provided sentences is Positive. The sentences highlight the importance and impact of strategic projects on earnings growth, revenue generation, and value creation. The mention of strategic projects driving high-value products growth and revenue growth suggests a positive outlook on the company's strategic initiatives.\n",
      "\n",
      "Keyword: refineries\n",
      "Sentiment: Overall, the sentiment towards refineries in the provided sentences is Positive. The speaker mentions optimizing and improving refineries, feeling good about the current position of the portfolio, and highlighting the advantages and improved performance of the refineries and related facilities.\n",
      "\n",
      "Keyword: European footprint\n",
      "Sentiment: Neutral\n",
      "\n",
      "Keyword: LNG\n",
      "Sentiment: Neutral\n",
      "\n",
      "Keyword: gas-to-power\n",
      "Sentiment: Neutral\n",
      "\n",
      "Keyword: direct air capture\n",
      "Sentiment: Neutral\n",
      "\n",
      "Keyword: technology\n",
      "Sentiment: Overall sentiment for the keyword 'technology' in the provided text is Positive. The sentences express a strong focus on utilizing technology to improve automation, transform molecules, reduce production costs, and develop proprietary technology for global deployment. There is a clear emphasis on the potential and benefits of technology in various aspects of the company's operations.\n",
      "\n",
      "Keyword: competitive\n",
      "Sentiment: Overall sentiment for the keyword 'competitive' in these sentences is Positive. The company is focused on leveraging their competitive advantages, maintaining a strong balance sheet, and ensuring sustainability and growth. They are also considering competitiveness in their investment decisions and cost reduction strategies. The tone is one of determination and strategic planning to stay ahead in the competitive landscape.\n",
      "\n"
     ]
    }
   ],
   "source": [
    "# Load the dataset for Q1 2024\n",
    "data24 = pd.read_excel('1Q24 Earnings.xlsx')  # Q1 2024\n",
    "\n",
    "# Combine all sentences into a single document string\n",
    "document_text_24 = ' '.join(data24['Sentence'].tolist())\n",
    "\n",
    "# Extract keywords from the entire document\n",
    "keywords_24 = extract_keywords(document_text_24)\n",
    "\n",
    "# Display the extracted keywords for the entire document\n",
    "print(\"Keywords for Q1 2024:\")\n",
    "print(', '.join(keywords_24))\n",
    "\n",
    "# Analyze sentiment for each extracted keyword based on their context\n",
    "if keywords_24:\n",
    "    sentiment_analysis_24 = analyze_keyword_sentiment(keywords_24, data24['Sentence'].tolist())\n",
    "    print(\"\\nSentiment Analysis for Each Keyword in Q1 2024:\")\n",
    "    for keyword, sentiment in sentiment_analysis_24:\n",
    "        print(f\"Keyword: {keyword}\\nSentiment: {sentiment}\\n\")\n",
    "\n",
    "    # Save the keywords and sentiment analysis to a text file\n",
    "    with open('gpt3.5_keywords_sentiment_analysis_Q1_2024.txt', 'w') as file:\n",
    "        file.write(\"Keywords for Q1 2024:\\n\")\n",
    "        file.write(', '.join(keywords_24) + \"\\n\\n\")\n",
    "        file.write(\"Sentiment Analysis for Each Keyword:\\n\")\n",
    "        for keyword, sentiment in sentiment_analysis_24:\n",
    "            file.write(f\"Keyword: {keyword}\\nSentiment: {sentiment}\\n\\n\")\n",
    "else:\n",
    "    print(\"No keywords extracted for Q1 2024.\")\n"
   ]
  }
 ],
 "metadata": {
  "kernelspec": {
   "display_name": "base",
   "language": "python",
   "name": "python3"
  },
  "language_info": {
   "codemirror_mode": {
    "name": "ipython",
    "version": 3
   },
   "file_extension": ".py",
   "mimetype": "text/x-python",
   "name": "python",
   "nbconvert_exporter": "python",
   "pygments_lexer": "ipython3",
   "version": "3.11.5"
  }
 },
 "nbformat": 4,
 "nbformat_minor": 2
}
